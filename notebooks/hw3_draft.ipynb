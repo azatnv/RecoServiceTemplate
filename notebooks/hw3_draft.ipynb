{
  "cells": [
    {
      "cell_type": "markdown",
      "metadata": {
        "id": "9YARtxijnMWj"
      },
      "source": [
        "# **Заметки**\n",
        "\n",
        "ЗАМЕЧАНИЯ по коду UserKnn: \n",
        "\n",
        "1. В этом классе не используются веса weights, а вместо них единицы (есть/нет взаимодействия)\n",
        "2. Удалили ли мы айтемы, которые посмотрел тестовый пользователь во время train взаимодействий? Вроде НЕЕЕЕЕТ\n",
        "\n",
        "Предложения:\n",
        "3. Пересмотреть, что мы будем считать весом взаимодействия: количество просмтренного времени, или процент от просмотренного, или по дефолту - факт просмотра \n",
        "4. Есть несколько моделей ItemItemRecommender, они отличаются измерением векторного расстояния Cosine, TF-IDF, BM25\n",
        "\n",
        "\n",
        "\n",
        "Вариации решения: \n",
        "\n",
        "`1. изменение столбца веса в матрице взаимодействий`\n",
        "\n",
        "`2. измерение способа расчёта расстояния между векторами - вроде бы зависит от класса Recommender (в implicit я нашёл только 3 таких класса, где взять классы для измерения расстояний по Хэммингу, Манхэтону и тд...?)`\n",
        "\n",
        "`3. изменить способ переранжирования заменить TFIDF на BM25 (или придумать свою)`\n",
        "\n",
        "\n",
        "АЛГОРИТМ:\n",
        "\n",
        "- __ Сначала создаём фолды обучения и тестирования, в train и test все пользователи и объекты - общие, то есть в test нет холодных объектов и пользователей\n",
        "\n",
        "- __ Создаём sparse-матрицу взаимодействий на основе train\n",
        "\n",
        "- __ Обучаем Recommender на sparse-матрице\n",
        "\n",
        "- __ Получаем предсказание ближайших пользователей для тестовых (test[\"user_id\"].unique()), удаляем соседа для самого себя (similarity>=1)\n",
        "\n",
        "- __ Смотрим какие фильмы смотрели ближайшие соседи в train взаимодействиях, составляем список просмотренных объектов\n",
        "\n",
        "- __ Удаляем дубликаты рекоммендаций для айтем-юзер, оставляем одну рекоммендацию айтем-юзер с наибольшим сходством (*КСТАТИ: мы удалили айтемы, которые посмотрел тестовый пользователь во время train взаимодействий? Вроде НЕЕЕЕЕТ*)\n",
        "\n",
        "- __ Последний шаг. Так как для схожих пользователей сходство по разным айтемам одинаковое, то необходимо - проранжировать все рекоммендации айтемов:\n",
        "\n",
        " -    считаем сколько взаимодействий с каждым айтемом в train (так мы узнаем какой айтем был самым популярным и дадим ему меньший вес, чтобы поднять вероятность показать менее популярное)\n",
        "\n",
        " - считаем IDF на train'е через формулу log(...) и для каждого айтема в тестовом наборе получаем свой IDF-score \n",
        "\n",
        " - умножаем схожесть similarity людей на IDF-score айтема и получаем rank-score - по нему делаем сортировку и выбираем первые айтемы для рекомендации\n",
        "\n",
        "В конце считаем метрики на столбце rank\n",
        "\n",
        "\n",
        "Решение:\n",
        "\n",
        "1. Cold users: популярная модель на основе feature пользователей (возраст, пол, доход)\n",
        "2. Warm users: ?\n",
        "3. Hot users: UserKnn с различными вариациями 1) измерения расстояния (CosineRecommender, TFIDFRecommender, BM25Recommender, Хэмминг, Городских кварталов), 2) вариации переранжирования айтемов между похожими пользователями (tfidf - уже реализовано в UserKnn.py, попробовать реализовать bm25 или придумать свою формулу переранжирования) 3) эксперимент с схемой оффлайн  валидации (изменить способ разбиения на фолды, на меньше чем неделю)."
      ]
    },
    {
      "cell_type": "code",
      "execution_count": null,
      "metadata": {
        "colab": {
          "base_uri": "https://localhost:8080/",
          "height": 1000
        },
        "id": "RQ1R5_F2fwR2",
        "outputId": "a51d5123-fc5a-45cd-bb74-3b294e187626"
      },
      "outputs": [],
      "source": [
        "!python -m pip install --upgrade pip\n",
        "!pip install jedi\n",
        "!pip install --upgrade setuptools\n",
        "!pip3 install rectools==0.3.0 --use-pep517\n",
        "from IPython.display import clear_output\n",
        "clear_output()\n",
        "!pip show rectools"
      ]
    },
    {
      "cell_type": "code",
      "execution_count": null,
      "metadata": {},
      "outputs": [],
      "source": []
    },
    {
      "cell_type": "markdown",
      "metadata": {
        "id": "DHrIoukH0LTK"
      },
      "source": [
        "# Загрузка датасета KION"
      ]
    },
    {
      "cell_type": "code",
      "execution_count": null,
      "metadata": {
        "id": "b0oCF_ZWkK-7"
      },
      "outputs": [],
      "source": [
        "from datetime import date\n",
        "import pickle\n",
        "from typing import Dict, Optional, List\n",
        "from collections import Counter\n",
        "\n",
        "import pandas as pd\n",
        "import numpy as np\n",
        "import scipy as sp\n",
        "import requests\n",
        "from tqdm.auto import tqdm\n",
        "from scipy.stats import mode \n",
        "from pprint import pprint\n",
        "import warnings\n",
        "import matplotlib.pyplot as plt\n",
        "import implicit\n",
        "from implicit.nearest_neighbours import ItemItemRecommender, CosineRecommender, TFIDFRecommender, BM25Recommender\n",
        "import dill\n",
        "warnings.filterwarnings(\"ignore\")\n",
        "\n",
        "from rectools import Columns\n",
        "from rectools.dataset import Dataset\n",
        "from rectools.models.popular_in_category import PopularInCategoryModel\n",
        "from rectools.models.popular import PopularModel \n",
        "from rectools.model_selection.time_split import TimeRangeSplitter\n",
        "from rectools.metrics import Precision, Recall, MAP, MeanInvUserFreq, Serendipity, calc_metrics\n",
        "\n"
      ]
    },
    {
      "cell_type": "code",
      "execution_count": null,
      "metadata": {},
      "outputs": [],
      "source": [
        "\n",
        "pd.set_option('display.max_columns', None)\n",
        "pd.set_option('display.max_colwidth', 200)\n"
      ]
    },
    {
      "cell_type": "code",
      "execution_count": null,
      "metadata": {},
      "outputs": [],
      "source": [
        "\n",
        "#download dataset by chunks\n",
        "url = \"https://storage.yandexcloud.net/itmo-recsys-public-data/kion_train.zip\"\n",
        "\n",
        "req = requests.get(url, stream=True)\n",
        "\n",
        "with open('kion_train.zip', \"wb\") as fd:\n",
        "    total_size_in_bytes = int(req.headers.get('Content-Length', 0))\n",
        "    progress_bar = tqdm(desc='kion dataset download', total=total_size_in_bytes, unit='iB', unit_scale=True)\n",
        "    for chunk in req.iter_content(chunk_size=2 ** 20):\n",
        "        progress_bar.update(len(chunk))\n",
        "        fd.write(chunk)\n",
        "\n",
        "!unzip kion_train.zip\n"
      ]
    },
    {
      "cell_type": "code",
      "execution_count": null,
      "metadata": {},
      "outputs": [],
      "source": [
        "\n",
        "interactions = pd.read_csv('kion_train/interactions.csv')\n",
        "users = pd.read_csv('kion_train/users.csv')\n",
        "items = pd.read_csv('kion_train/items.csv')\n",
        "\n",
        "#rename columns, convert timestamp\n",
        "interactions.rename(columns={'last_watch_dt': Columns.Datetime,\n",
        "                            'total_dur': Columns.Weight}, \n",
        "                    inplace=True) \n",
        "interactions.rename(columns={'last_watch_dt': Columns.Datetime}, inplace=True) \n",
        "\n",
        "interactions['datetime'] = pd.to_datetime(interactions['datetime'])\n",
        "interactions[\"order\"] = interactions.groupby(\"user_id\").cumcount(ascending=False)"
      ]
    },
    {
      "cell_type": "code",
      "execution_count": null,
      "metadata": {
        "id": "cyYAcvuF22tf"
      },
      "outputs": [],
      "source": [
        "interactions[\"user_id\"] = interactions[\"user_id\"].astype(np.uint32)\n",
        "interactions[\"item_id\"] = interactions[\"item_id\"].astype(np.uint16)\n",
        "interactions[\"weight\"] = interactions[\"weight\"].astype(np.uint16)\n",
        "interactions[\"watched_pct\"] = interactions[\"watched_pct\"].astype(np.float32)"
      ]
    },
    {
      "cell_type": "code",
      "execution_count": null,
      "metadata": {
        "colab": {
          "base_uri": "https://localhost:8080/"
        },
        "id": "j4M7m3V62qBD",
        "outputId": "a86b783b-cb76-4f4c-fc08-239f94bf19ee"
      },
      "outputs": [],
      "source": [
        "interactions.info()"
      ]
    },
    {
      "cell_type": "markdown",
      "metadata": {
        "id": "ikvNp6sH0KjF"
      },
      "source": [
        "# Модели и бейзлайны"
      ]
    },
    {
      "cell_type": "markdown",
      "metadata": {
        "id": "u1rJY7lp0g4d"
      },
      "source": [
        "## 0. Деление пользователей на горячих и теплых/холодных"
      ]
    },
    {
      "cell_type": "markdown",
      "metadata": {
        "id": "xR16j5SUa_WE"
      },
      "source": [
        "[[[[Сначала получить всех пользователей для которых есть взаимодействия\n",
        "\n",
        "Возможно убрать тёплых пользователей, у которых мало взаимодействий. Возможно рекомендовать им популярное/популярное по категории или похожие фильмы/сериалы на те, что он уже смотрел.]]]]\n"
      ]
    },
    {
      "cell_type": "markdown",
      "metadata": {
        "id": "Ad4GoaWs1wjR"
      },
      "source": [
        "Горячие пользователи - это те пользователи, у которых 10 или больше взаимодействий"
      ]
    },
    {
      "cell_type": "code",
      "execution_count": 273,
      "metadata": {
        "colab": {
          "base_uri": "https://localhost:8080/",
          "height": 460
        },
        "id": "toJjIbhPf6ks",
        "outputId": "68d89e9f-33ff-44a4-9227-f7adb5267ae4"
      },
      "outputs": [],
      "source": [
        "# Preparing of the Hot Users\n",
        "threshold = 10\n",
        "users_inter_count = interactions.groupby(\"user_id\")[\"item_id\"].count()\n",
        "hot_users = users_inter_count[users_inter_count >= threshold].index.values\n",
        "\n",
        "hot_interaсtions = interactions[interactions[\"user_id\"].isin(hot_users)].sort_values([\"user_id\", \"datetime\"])\n"
      ]
    },
    {
      "cell_type": "code",
      "execution_count": 276,
      "metadata": {},
      "outputs": [
        {
          "name": "stdout",
          "output_type": "stream",
          "text": [
            "Hot users:  145410\n",
            "Hot interactions:  3260927\n"
          ]
        },
        {
          "data": {
            "text/html": [
              "<div>\n",
              "<style scoped>\n",
              "    .dataframe tbody tr th:only-of-type {\n",
              "        vertical-align: middle;\n",
              "    }\n",
              "\n",
              "    .dataframe tbody tr th {\n",
              "        vertical-align: top;\n",
              "    }\n",
              "\n",
              "    .dataframe thead th {\n",
              "        text-align: right;\n",
              "    }\n",
              "</style>\n",
              "<table border=\"1\" class=\"dataframe\">\n",
              "  <thead>\n",
              "    <tr style=\"text-align: right;\">\n",
              "      <th></th>\n",
              "      <th>user_id</th>\n",
              "      <th>item_id</th>\n",
              "      <th>datetime</th>\n",
              "      <th>weight</th>\n",
              "      <th>watched_pct</th>\n",
              "      <th>order</th>\n",
              "    </tr>\n",
              "  </thead>\n",
              "  <tbody>\n",
              "    <tr>\n",
              "      <th>537061</th>\n",
              "      <td>1097544</td>\n",
              "      <td>13973</td>\n",
              "      <td>2021-08-21</td>\n",
              "      <td>3089</td>\n",
              "      <td>58.0</td>\n",
              "      <td>11</td>\n",
              "    </tr>\n",
              "    <tr>\n",
              "      <th>5157263</th>\n",
              "      <td>1097544</td>\n",
              "      <td>1000</td>\n",
              "      <td>2021-08-21</td>\n",
              "      <td>67</td>\n",
              "      <td>1.0</td>\n",
              "      <td>1</td>\n",
              "    </tr>\n",
              "    <tr>\n",
              "      <th>3622193</th>\n",
              "      <td>1097554</td>\n",
              "      <td>11275</td>\n",
              "      <td>2021-04-06</td>\n",
              "      <td>7825</td>\n",
              "      <td>100.0</td>\n",
              "      <td>6</td>\n",
              "    </tr>\n",
              "    <tr>\n",
              "      <th>1497465</th>\n",
              "      <td>1097554</td>\n",
              "      <td>1053</td>\n",
              "      <td>2021-04-10</td>\n",
              "      <td>12</td>\n",
              "      <td>100.0</td>\n",
              "      <td>7</td>\n",
              "    </tr>\n",
              "    <tr>\n",
              "      <th>4150064</th>\n",
              "      <td>1097554</td>\n",
              "      <td>849</td>\n",
              "      <td>2021-04-12</td>\n",
              "      <td>6521</td>\n",
              "      <td>100.0</td>\n",
              "      <td>3</td>\n",
              "    </tr>\n",
              "    <tr>\n",
              "      <th>4840760</th>\n",
              "      <td>1097554</td>\n",
              "      <td>9169</td>\n",
              "      <td>2021-04-14</td>\n",
              "      <td>7378</td>\n",
              "      <td>100.0</td>\n",
              "      <td>0</td>\n",
              "    </tr>\n",
              "    <tr>\n",
              "      <th>4450562</th>\n",
              "      <td>1097554</td>\n",
              "      <td>3509</td>\n",
              "      <td>2021-04-15</td>\n",
              "      <td>14076</td>\n",
              "      <td>100.0</td>\n",
              "      <td>2</td>\n",
              "    </tr>\n",
              "    <tr>\n",
              "      <th>1474297</th>\n",
              "      <td>1097554</td>\n",
              "      <td>496</td>\n",
              "      <td>2021-04-20</td>\n",
              "      <td>2</td>\n",
              "      <td>0.0</td>\n",
              "      <td>8</td>\n",
              "    </tr>\n",
              "    <tr>\n",
              "      <th>3818420</th>\n",
              "      <td>1097554</td>\n",
              "      <td>4580</td>\n",
              "      <td>2021-04-20</td>\n",
              "      <td>22404</td>\n",
              "      <td>100.0</td>\n",
              "      <td>5</td>\n",
              "    </tr>\n",
              "    <tr>\n",
              "      <th>885465</th>\n",
              "      <td>1097554</td>\n",
              "      <td>16361</td>\n",
              "      <td>2021-04-22</td>\n",
              "      <td>6662</td>\n",
              "      <td>100.0</td>\n",
              "      <td>9</td>\n",
              "    </tr>\n",
              "    <tr>\n",
              "      <th>4106330</th>\n",
              "      <td>1097554</td>\n",
              "      <td>1151</td>\n",
              "      <td>2021-04-23</td>\n",
              "      <td>41019</td>\n",
              "      <td>100.0</td>\n",
              "      <td>4</td>\n",
              "    </tr>\n",
              "    <tr>\n",
              "      <th>4708970</th>\n",
              "      <td>1097554</td>\n",
              "      <td>12463</td>\n",
              "      <td>2021-04-25</td>\n",
              "      <td>8729</td>\n",
              "      <td>100.0</td>\n",
              "      <td>1</td>\n",
              "    </tr>\n",
              "  </tbody>\n",
              "</table>\n",
              "</div>"
            ],
            "text/plain": [
              "         user_id  item_id   datetime  weight  watched_pct  order\n",
              "537061   1097544    13973 2021-08-21    3089         58.0     11\n",
              "5157263  1097544     1000 2021-08-21      67          1.0      1\n",
              "3622193  1097554    11275 2021-04-06    7825        100.0      6\n",
              "1497465  1097554     1053 2021-04-10      12        100.0      7\n",
              "4150064  1097554      849 2021-04-12    6521        100.0      3\n",
              "4840760  1097554     9169 2021-04-14    7378        100.0      0\n",
              "4450562  1097554     3509 2021-04-15   14076        100.0      2\n",
              "1474297  1097554      496 2021-04-20       2          0.0      8\n",
              "3818420  1097554     4580 2021-04-20   22404        100.0      5\n",
              "885465   1097554    16361 2021-04-22    6662        100.0      9\n",
              "4106330  1097554     1151 2021-04-23   41019        100.0      4\n",
              "4708970  1097554    12463 2021-04-25    8729        100.0      1"
            ]
          },
          "execution_count": 276,
          "metadata": {},
          "output_type": "execute_result"
        }
      ],
      "source": [
        "\n",
        "print(\"Hot users: \", hot_users.shape[0])\n",
        "print(\"Hot interactions: \", hot_interaсtions.shape[0])\n",
        "hot_interaсtions.tail(12)"
      ]
    },
    {
      "cell_type": "code",
      "execution_count": 277,
      "metadata": {
        "colab": {
          "base_uri": "https://localhost:8080/"
        },
        "id": "zaEni1XT3rLi",
        "outputId": "9bc7adf4-c221-4e25-91aa-1e6c16e0df6d"
      },
      "outputs": [
        {
          "name": "stdout",
          "output_type": "stream",
          "text": [
            "<class 'pandas.core.frame.DataFrame'>\n",
            "Int64Index: 3260927 entries, 71779 to 4708970\n",
            "Data columns (total 6 columns):\n",
            " #   Column       Dtype         \n",
            "---  ------       -----         \n",
            " 0   user_id      uint32        \n",
            " 1   item_id      uint16        \n",
            " 2   datetime     datetime64[ns]\n",
            " 3   weight       uint16        \n",
            " 4   watched_pct  float32       \n",
            " 5   order        uint16        \n",
            "dtypes: datetime64[ns](1), float32(1), uint16(3), uint32(1)\n",
            "memory usage: 93.3 MB\n"
          ]
        }
      ],
      "source": [
        "hot_interaсtions[\"order\"] = hot_interaсtions[\"order\"].astype(np.uint16)\n",
        "hot_interaсtions.info()"
      ]
    },
    {
      "cell_type": "markdown",
      "metadata": {
        "id": "GxiWhtqw2WE8"
      },
      "source": [
        "Тёплые пользователи"
      ]
    },
    {
      "cell_type": "code",
      "execution_count": null,
      "metadata": {
        "colab": {
          "base_uri": "https://localhost:8080/"
        },
        "id": "vgQCehlU2Qov",
        "outputId": "941d3cfc-66bb-42e0-cf19-e3d321fc551e"
      },
      "outputs": [],
      "source": [
        "# Preparing of the warm users\n",
        "warm_users = users_inter_count[users_inter_count < threshold].index.values\n",
        "warm_interaсtions = interactions[interactions[\"user_id\"].isin(warm_users)].sort_values([\"user_id\", \"datetime\"])\n",
        "print(\"Warm users: \", warm_users.shape[0])\n",
        "print(\"Warm interactions: \", warm_interaсtions.shape[0])\n",
        "warm_interaсtions.head(12)"
      ]
    },
    {
      "cell_type": "markdown",
      "metadata": {
        "id": "0I923uv-3wbT"
      },
      "source": [
        "Холодные пользователи"
      ]
    },
    {
      "cell_type": "code",
      "execution_count": null,
      "metadata": {
        "id": "pTpxKaW12cqp"
      },
      "outputs": [],
      "source": [
        "# Preparing of the cold users\n",
        "\n",
        "# 1) те пользователи, которые есть в таблице [users] и нет в таблице [interactions];\n",
        "cold_users = users.loc[~users.user_id.isin(interactions.user_id)]\n",
        "# 2) пользователи, \"user_id\" которых мы раньше не видели (например, они могут нам прислать отрицательный user_id)."
      ]
    },
    {
      "cell_type": "code",
      "execution_count": null,
      "metadata": {},
      "outputs": [],
      "source": [
        "print(\"Cold users: \", cold_users.shape[0])\n",
        "cold_users.head()"
      ]
    },
    {
      "cell_type": "markdown",
      "metadata": {
        "id": "BRZQjQ7i0fL7"
      },
      "source": [
        "## 1. Горячие пользователи UserKnn\n",
        "\n",
        "\n",
        "[Вступительная речь] "
      ]
    },
    {
      "cell_type": "markdown",
      "metadata": {
        "id": "ivGfL7oz1E0M"
      },
      "source": [
        "#### Дополненная UserKnn с лекции"
      ]
    },
    {
      "cell_type": "code",
      "execution_count": null,
      "metadata": {
        "id": "bUqyZ54ugCFl"
      },
      "outputs": [],
      "source": [
        "\n",
        "\n",
        "class UserKnn():\n",
        "    \"\"\"Class for fit-perdict UserKNN model \n",
        "       based on ItemKNN model from implicit.nearest_neighbours\n",
        "    \"\"\"\n",
        "    \n",
        "    def __init__(self, model: ItemItemRecommender, N_users: int = 50):\n",
        "        self.N_users = N_users\n",
        "        self.model = model\n",
        "        self.is_fitted = False\n",
        "        \n",
        "    def get_mappings(self, train):\n",
        "        self.users_inv_mapping = dict(enumerate(train['user_id'].unique()))\n",
        "        self.users_mapping = {v: k for k, v in self.users_inv_mapping.items()}\n",
        "        \n",
        "        self.items_inv_mapping = dict(enumerate(train['item_id'].unique()))\n",
        "        self.items_mapping = {v: k for k, v in self.items_inv_mapping.items()}\n",
        "    \n",
        "    def get_matrix(self, df: pd.DataFrame, \n",
        "                   user_col: str = 'user_id', \n",
        "                   item_col: str = 'item_id', \n",
        "                   weight_col: str = None, \n",
        "                   users_mapping: Dict[int, int] = None, \n",
        "                   items_mapping: Dict[int, int] = None):\n",
        "\n",
        "        if weight_col:\n",
        "            weights = df[weight_col].astype(np.float32)\n",
        "        else:\n",
        "            weights = np.ones(len(df), dtype=np.float32)\n",
        "\n",
        "        interaction_matrix = sp.sparse.coo_matrix((\n",
        "            weights,\n",
        "            (\n",
        "                df[user_col].map(self.users_mapping.get),\n",
        "                df[item_col].map(self.items_mapping.get)\n",
        "            )\n",
        "            ))\n",
        "\n",
        "        self.watched = df.groupby(user_col).agg({item_col: tuple})\n",
        "        return interaction_matrix\n",
        "\n",
        "    def idf(self, n: int, x: float):\n",
        "        return np.log((1 + n) / (1 + x) + 1)\n",
        "\n",
        "    def _count_item_idf(self, df: pd.DataFrame):\n",
        "        item_cnt = Counter(df['item_id'].values)\n",
        "        item_idf = pd.DataFrame.from_dict(item_cnt, orient='index', columns=['doc_freq']).reset_index()\n",
        "        item_idf['idf'] = item_idf['doc_freq'].apply(lambda x: self.idf(self.n, x))\n",
        "        self.item_idf = item_idf\n",
        "\n",
        "    def fit(self, train: pd.DataFrame, weight_col: Optional[str] = None): # добавил аргумент weight_col = None, теперь можно выбирать что есть вес\n",
        "        self.user_knn = self.model\n",
        "        self.get_mappings(train)\n",
        "        # 1) Тут не был задан параметр weight_col=\n",
        "        self.weights_matrix = self.get_matrix(train, weight_col=weight_col, \n",
        "                                              users_mapping=self.users_mapping, \n",
        "                                             items_mapping=self.items_mapping)\n",
        "\n",
        "        self.n = train.shape[0]\n",
        "\n",
        "        # 2) (не получилось) Можно добавить bm25 или придумать свой способ переранжирования \n",
        "        self._count_item_idf(train)\n",
        "\n",
        "        self.user_knn.fit(self.weights_matrix)\n",
        "        self.is_fitted = True\n",
        "\n",
        "    def _generate_recs_mapper(self, model: ItemItemRecommender, user_mapping: Dict[int, int], \n",
        "                              user_inv_mapping: Dict[int, int], N: int):\n",
        "        def _recs_mapper(user):\n",
        "            user_id = user_mapping[user]\n",
        "            recs = model.similar_items(user_id, N=N)\n",
        "            return [user_inv_mapping[user] for user, _ in recs], [sim for _, sim in recs]\n",
        "        return _recs_mapper\n",
        "    \n",
        "    def predict(self, test: pd.DataFrame, N_recs: int = 10):\n",
        "        \n",
        "        if not self.is_fitted:\n",
        "            raise ValueError(\"Please call fit before predict\")\n",
        "        \n",
        "        mapper = self._generate_recs_mapper(\n",
        "            model=self.user_knn, \n",
        "            user_mapping=self.users_mapping,\n",
        "            user_inv_mapping=self.users_inv_mapping,\n",
        "            N=self.N_users\n",
        "        )\n",
        "\n",
        "        recs = pd.DataFrame({'user_id': test['user_id'].unique()})\n",
        "        recs['sim_user_id'], recs['sim'] = zip(*recs['user_id'].map(mapper))\n",
        "        recs = recs.set_index('user_id').apply(pd.Series.explode).reset_index()\n",
        "        recs[\"sim_user_id\"] = recs[\"sim_user_id\"].astype(np.uint32)\n",
        "        recs[\"sim\"] = recs[\"sim\"].astype(np.float32)\n",
        "        # Удаляем самого себя из похожих\n",
        "        recs = recs[recs[\"user_id\"] != recs[\"sim_user_id\"]] \n",
        "        \n",
        "        recs = recs.merge(self.watched, left_on=['sim_user_id'], right_on=['user_id'], how='left')\\\n",
        "                    .drop([\"sim_user_id\"], axis=1)\\\n",
        "                    .explode('item_id')\\\n",
        "                    .sort_values(['user_id', 'sim'], ascending=False)\\\n",
        "                    .drop_duplicates(['user_id', 'item_id'], keep='first')\\\n",
        "                    .merge(self.watched, left_on=[\"user_id\"], right_on=[\"user_id\"], how=\"left\")\n",
        "        \n",
        "        # исключаем уже просмотренное тестовым пользователем из рекомендаций\n",
        "        recs = recs[recs.apply(lambda x: x[\"item_id_x\"] not in x[\"item_id_y\"], axis=1)]\\\n",
        "                    .rename(columns={\"item_id_x\": \"item_id\"})\\\n",
        "                    .merge(self.item_idf, left_on='item_id', right_on='index', how='left')\n",
        "        \n",
        "        recs['score'] = recs['sim'] * recs['idf']\n",
        "        recs.drop([\"sim\", \"idf\"], axis=1, inplace=True)\n",
        "        recs = recs.sort_values(['user_id', 'score'], ascending=False)\n",
        "        recs['rank'] = recs.groupby('user_id').cumcount() + 1\n",
        "        return recs[recs['rank'] <= N_recs][['user_id', 'item_id', 'rank']]"
      ]
    },
    {
      "cell_type": "markdown",
      "metadata": {
        "id": "0NZYUElozu6B"
      },
      "source": [
        "#### Схема валидации\n",
        "\n"
      ]
    },
    {
      "cell_type": "markdown",
      "metadata": {
        "id": "YQrYKvvZN5qi"
      },
      "source": [
        "[[[Будто нужно сделать крос-валидацию и сравнить несколько моделей, потом когда модель будет выбрана по результатам метрик по среднему по всем тестовым разбиениям, нужно взять и обучить её на всём нашем наборе данных, а далее отправить модель на сервис и получить результат скрытом тесте]]][[почему leavePout?]]"
      ]
    },
    {
      "cell_type": "code",
      "execution_count": null,
      "metadata": {
        "id": "ZMClRt7SfO8Q"
      },
      "outputs": [],
      "source": [
        "from typing import Optional\n",
        "\n",
        "\n",
        "class UsersKFoldPOut():\n",
        "    def __init__(\n",
        "        self, n_folds: int, p: int, \n",
        "        user_column: str = \"user_id\", \n",
        "        order_column: str = \"order\", \n",
        "        random_seed: int = 23\n",
        "    ):\n",
        "        self.n_folds = n_folds\n",
        "        self.p = p\n",
        "        self.user_column = user_column\n",
        "        self.order_column = order_column\n",
        "        self.random_seed = random_seed\n",
        "\n",
        "    def split(self, df: pd.DataFrame):\n",
        "        # сортировка для воспроизводимости результатов\n",
        "        users = sorted(df[self.user_column].unique())\n",
        "        users_count = len(users)\n",
        "\n",
        "        np.random.seed(self.random_seed)\n",
        "        np.random.shuffle(users)\n",
        "\n",
        "        fold_sizes = np.full(self.n_folds, users_count // self.n_folds, dtype=np.uint32)\n",
        "        fold_sizes[: users_count % self.n_folds] += 1\n",
        "        current = 0\n",
        "        for fold_size in fold_sizes:\n",
        "            start, stop = current, current + fold_size\n",
        "            test_fold_users = users[start:stop]\n",
        "            test_mask = df[self.user_column].isin(test_fold_users) & (df[self.order_column] < self.p)\n",
        "            train_mask =df[self.user_column].isin(test_fold_users) & ~test_mask\n",
        "\n",
        "            yield train_mask, test_mask\n",
        "            current = stop\n",
        "\n",
        "\n",
        "def train(\n",
        "    df: pd.DataFrame,\n",
        "    cv: UsersKFoldPOut,\n",
        "    models: dict,\n",
        "    metrics: dict,\n",
        "    weight_col: Optional[str] = None,\n",
        "):\n",
        "    results = []\n",
        "\n",
        "    fold_iterator = cv.split(df)\n",
        "\n",
        "    postfix = weight_col\n",
        "    if not weight_col:\n",
        "        postfix = \"weight_1\"\n",
        "\n",
        "    for i_fold, (train_ids, test_ids) in enumerate(fold_iterator):\n",
        "        print(f\"\\n==================== Fold {i_fold}\")\n",
        "\n",
        "        df_train = df.loc[train_ids].copy()\n",
        "        df_test = df.loc[test_ids][Columns.UserItem].copy()\n",
        "\n",
        "        catalog = df_train[Columns.Item].unique()\n",
        "        \n",
        "        for model_name, model in models.items():\n",
        "            userknn_model = UserKnn(model=model, N_users=50)\n",
        "            userknn_model.fit(df_train, weight_col=weight_col)\n",
        "        \n",
        "            recos = userknn_model.predict(df_test)\n",
        "        \n",
        "            metric_values = calc_metrics(\n",
        "                metrics,\n",
        "                reco=recos,\n",
        "                interactions=df_test,\n",
        "                prev_interactions=df_train,\n",
        "                catalog=catalog,\n",
        "            )\n",
        "    \n",
        "            fold = {\"fold\": i_fold, \"model\": model_name}\n",
        "            fold.update(metric_values)\n",
        "            results.append(fold)\n",
        "\n",
        "    df_metrics = pd.DataFrame(results)\n",
        "    df_metrics.to_csv(f\"/content/drive/MyDrive/RecSys MTC/practice3/models/df_metrics_{postfix}.csv\")"
      ]
    },
    {
      "cell_type": "markdown",
      "metadata": {
        "id": "VUU-c5S-5PtS"
      },
      "source": [
        "#### Сравнение и выбор модели"
      ]
    },
    {
      "cell_type": "code",
      "execution_count": null,
      "metadata": {
        "id": "qQrJLFTbozKc"
      },
      "outputs": [],
      "source": [
        "metrics = {\n",
        "    \"prec@10\": Precision(k=10),\n",
        "    \"recall@10\": Recall(k=10),\n",
        "    \"map@10\": MAP(k=10),\n",
        "    \"novelty\": MeanInvUserFreq(k=10),\n",
        "    \"serendipity\": Serendipity(k=10),\n",
        "}\n",
        "\n",
        "models = {\n",
        "    \"cosine\": CosineRecommender(),\n",
        "    \"tfidf\": TFIDFRecommender(),\n",
        "    \"bm25\": BM25Recommender(),\n",
        "}\n",
        "\n",
        "cv = UsersKFoldPOut(n_folds=10, p=5)\n",
        "\n",
        "train(hot_interaсtions, cv, models, metrics, weight_col=None)\n",
        "train(hot_interaсtions, cv, models, metrics, weight_col=\"watched_pct\")\n",
        "train(hot_interaсtions, cv, models, metrics, weight_col=\"weight\")"
      ]
    },
    {
      "cell_type": "markdown",
      "metadata": {
        "id": "9VMtnUCW6zx6"
      },
      "source": [
        "[[Комментарий]]"
      ]
    },
    {
      "cell_type": "code",
      "execution_count": null,
      "metadata": {
        "colab": {
          "base_uri": "https://localhost:8080/",
          "height": 175
        },
        "id": "_1JE2YJqoy3k",
        "outputId": "7ddbfc7b-4929-4d45-ce17-b50b448961b8"
      },
      "outputs": [],
      "source": [
        "# df_metrics_w1 = pd.read_csv(f\"/content/drive/MyDrive/RecSys MTC/practice3/models/df_metrics_weight_1.csv\")\n",
        "# df_metrics_w1.groupby(\"model\").mean()[metrics.keys()]"
      ]
    },
    {
      "cell_type": "code",
      "execution_count": null,
      "metadata": {
        "colab": {
          "base_uri": "https://localhost:8080/",
          "height": 175
        },
        "id": "0CBgznBToyx6",
        "outputId": "4a0a362c-4730-4eda-f295-ac3e91a8d3b6"
      },
      "outputs": [],
      "source": [
        "# df_metrics_w1.groupby(\"model\").std()[metrics.keys()]"
      ]
    },
    {
      "cell_type": "markdown",
      "metadata": {
        "id": "axpluPGY64hv"
      },
      "source": [
        "[[Комментарий]]"
      ]
    },
    {
      "cell_type": "code",
      "execution_count": null,
      "metadata": {
        "colab": {
          "base_uri": "https://localhost:8080/",
          "height": 175
        },
        "id": "Oezz6OO5oy0s",
        "outputId": "40deb7b0-a5cd-49a8-c8fb-8b9ab3a5ff46"
      },
      "outputs": [],
      "source": [
        "df_metrics_wpct = pd.read_csv(f\"/content/drive/MyDrive/RecSys MTC/practice3/models/df_metrics_watched_pct.csv\")\n",
        "df_metrics_wpct.groupby(\"model\").mean()[metrics.keys()]"
      ]
    },
    {
      "cell_type": "code",
      "execution_count": null,
      "metadata": {
        "colab": {
          "base_uri": "https://localhost:8080/",
          "height": 175
        },
        "id": "8fP-kF5HoyvN",
        "outputId": "7b489bc3-7961-4de1-f726-c1d0740d4d62"
      },
      "outputs": [],
      "source": [
        "df_metrics_wpct.groupby(\"model\").std()[metrics.keys()]"
      ]
    },
    {
      "cell_type": "markdown",
      "metadata": {
        "id": "3GvyxJoP65iT"
      },
      "source": [
        "[[Комментарий]]"
      ]
    },
    {
      "cell_type": "code",
      "execution_count": null,
      "metadata": {
        "colab": {
          "base_uri": "https://localhost:8080/"
        },
        "id": "mI4lx-jB6gqE",
        "outputId": "3ec6528e-a416-4823-9dce-72d358770e92"
      },
      "outputs": [],
      "source": [
        "df_metrics_dur = pd.read_csv(f\"/content/drive/MyDrive/RecSys MTC/practice3/models/df_metrics_total_dur.csv\")\n",
        "df_metrics_dur.groupby(\"model\").mean()[metrics.keys()]"
      ]
    },
    {
      "cell_type": "code",
      "execution_count": null,
      "metadata": {
        "colab": {
          "base_uri": "https://localhost:8080/"
        },
        "id": "Wl3TQHxp6ri5",
        "outputId": "eb43e657-86cf-4e22-d6b7-761bcb545803"
      },
      "outputs": [],
      "source": [
        "df_metrics_dur.groupby(\"model\").std()[metrics.keys()]"
      ]
    },
    {
      "cell_type": "markdown",
      "metadata": {
        "id": "sCXmE_1V732i"
      },
      "source": [
        "#### Выбор модели для сервиса. Обучение на полном наборе горячих пользователей\n",
        "\n",
        "Лучшая модель по результатам кросс-валидации - это:\n",
        "\n",
        "**BM25Recommender с процентом просмотренного \"watched_pct\"** в весах разреженной матрицы взаимодействий"
      ]
    },
    {
      "cell_type": "code",
      "execution_count": null,
      "metadata": {
        "id": "Mus8IE5Y73SY"
      },
      "outputs": [],
      "source": [
        "# Можно 1) потюнить гиперпарамтеры K1, B. (N_users?)\n",
        "# можно 2) пересмотреть схему валидации\n",
        "best_model = UserKnn(model=BM25Recommender(K1=1.2, B=0.75), N_users=50)\n",
        "\n",
        "best_model.fit(hot_interaсtions[[\"user_id\", \"item_id\", \"watched_pct\"]], weight_col=\"watched_pct\")\n",
        "\n",
        "# мне пока не получилось запердиктить сразу для 145 тысяч пользователей, нехватка памяти для операции apply, которую предложил Даниэль\n",
        "# думаю разбить разбить горячих пользователей на более мелкие таблицы\n",
        "hot_recs = best_model.predict(hot_interaсtions[[\"user_id\"]], N_recs=10)\n",
        "hot_recs.head(30)"
      ]
    },
    {
      "cell_type": "code",
      "execution_count": null,
      "metadata": {
        "id": "HBJLCMF8tkXc"
      },
      "outputs": [],
      "source": [
        "hot_recs"
      ]
    },
    {
      "cell_type": "code",
      "execution_count": null,
      "metadata": {
        "id": "rTG5kg1_t_MW"
      },
      "outputs": [],
      "source": [
        "save_name = f\"best_hot_bm25_watched_pct\"\n",
        "with open(f'/content/drive/MyDrive/RecSys MTC/practice3/models/{save_name}.dill', 'wb') as f:\n",
        "    dill.dump(best_model, f)"
      ]
    },
    {
      "cell_type": "code",
      "execution_count": null,
      "metadata": {
        "id": "xjJKIfViw7u4"
      },
      "outputs": [],
      "source": [
        "hot_recs.to_csv(f'/content/drive/MyDrive/RecSys MTC/practice3/models/{save_name}.csv', index=False)"
      ]
    },
    {
      "cell_type": "markdown",
      "metadata": {
        "id": "fgoq0dRo02a4"
      },
      "source": [
        "## 2. Тёплые и Холодные пользователи"
      ]
    },
    {
      "cell_type": "code",
      "execution_count": null,
      "metadata": {},
      "outputs": [],
      "source": [
        "# для теплых и холодных пользователей предлагается использовать бейзлайн с популярными "
      ]
    },
    {
      "cell_type": "code",
      "execution_count": null,
      "metadata": {},
      "outputs": [],
      "source": [
        "warm_interaсtions.head(1)"
      ]
    },
    {
      "cell_type": "code",
      "execution_count": null,
      "metadata": {},
      "outputs": [],
      "source": [
        "hot_users_df = users.loc[users.user_id.isin(hot_users)]"
      ]
    },
    {
      "cell_type": "code",
      "execution_count": null,
      "metadata": {},
      "outputs": [],
      "source": [
        "# user feature preparing\n",
        "\n",
        "\n",
        "# income\n",
        "income_feature = pd.DataFrame(\n",
        "    {\n",
        "        \"id\": hot_users_df[\"user_id\"],\n",
        "        \"value\": hot_users_df[\"income\"],\n",
        "        \"feature\": \"income\",\n",
        "    }\n",
        ")\n",
        "\n",
        "# sex\n",
        "sex_feature = pd.DataFrame(\n",
        "    {\n",
        "        \"id\": hot_users_df[\"user_id\"],\n",
        "        \"value\": hot_users_df[\"sex\"],\n",
        "        \"feature\": \"sex\",\n",
        "    }\n",
        ")\n",
        "\n",
        "# age\n",
        "age_feature = pd.DataFrame(\n",
        "    {\n",
        "        \"id\": hot_users_df[\"user_id\"],\n",
        "        \"value\": hot_users_df[\"age\"],\n",
        "        \"feature\": \"age\",\n",
        "    }\n",
        ")\n",
        "\n",
        "user_features = pd.concat([income_feature, sex_feature, age_feature])"
      ]
    },
    {
      "cell_type": "code",
      "execution_count": null,
      "metadata": {},
      "outputs": [],
      "source": [
        "user_features.head()"
      ]
    },
    {
      "cell_type": "code",
      "execution_count": null,
      "metadata": {},
      "outputs": [],
      "source": [
        "items.head(1)"
      ]
    },
    {
      "cell_type": "code",
      "execution_count": null,
      "metadata": {},
      "outputs": [],
      "source": [
        "# item features \n",
        "hot_items = items.loc[items.item_id.isin(hot_interaсtions['item_id'])]\n",
        "\n",
        "# year \n",
        "_, bins = pd.qcut(hot_items[\"release_year\"], 10, retbins=True)\n",
        "labels = bins[:-1]\n",
        "year_feature = pd.DataFrame(\n",
        "    {\n",
        "        \"id\": hot_items[\"item_id\"],\n",
        "        \"value\": pd.cut(hot_items[\"release_year\"], bins=bins, labels=bins[:-1]),\n",
        "        \"feature\": \"release_year\",\n",
        "    }\n",
        ")\n",
        "\n",
        "# genre \n",
        "hot_items[\"genre\"] = hot_items[\"genres\"].str.split(\",\")\n",
        "genre_feature = hot_items[[\"item_id\", \"genre\"]].explode(\"genre\")\n",
        "genre_feature.columns = [\"id\", \"value\"]\n",
        "genre_feature[\"feature\"] = \"genre\"\n",
        "\n",
        "# age rating\n",
        "age_feature = pd.DataFrame(\n",
        "    {\n",
        "        \"id\": hot_items[\"item_id\"],\n",
        "        \"value\": hot_items['age_rating'],\n",
        "        \"feature\": \"age_rating\",\n",
        "    }\n",
        ")\n",
        "\n",
        "# country\n",
        "hot_items[\"country\"] = hot_items[\"countries\"].str.split(\",\")\n",
        "country_feature = hot_items[[\"item_id\", \"country\"]].explode(\"country\")\n",
        "country_feature.columns = [\"id\", \"value\"]\n",
        "country_feature[\"feature\"] = \"country\"\n",
        "\n"
      ]
    },
    {
      "cell_type": "code",
      "execution_count": null,
      "metadata": {},
      "outputs": [],
      "source": [
        "item_feat = pd.concat([genre_feature, year_feature, age_feature, country_feature])"
      ]
    },
    {
      "cell_type": "code",
      "execution_count": null,
      "metadata": {},
      "outputs": [],
      "source": [
        "item_feat.head()"
      ]
    },
    {
      "cell_type": "code",
      "execution_count": null,
      "metadata": {},
      "outputs": [],
      "source": [
        "# construct dataset \n",
        "\n",
        "dataset = Dataset.construct(\n",
        "    interactions_df=hot_interaсtions,\n",
        "    user_features_df=None, #user_features,\n",
        "    item_features_df=item_feat,\n",
        "    cat_item_features=['genre', 'release_year', 'age_rating', 'country'],\n",
        "    cat_user_features=['income', 'age', 'sex']\n",
        ")\n"
      ]
    },
    {
      "cell_type": "code",
      "execution_count": null,
      "metadata": {},
      "outputs": [],
      "source": [
        "# модель популярного\n",
        "\n",
        "simple_popular = PopularModel(add_cold=True)\n",
        "simple_popular.fit(dataset);"
      ]
    },
    {
      "attachments": {},
      "cell_type": "markdown",
      "metadata": {},
      "source": [
        "## Решили протестировать кросс-валидацию на временных рядах. \n",
        "\n",
        "### Размер выборки и максимальное количество действий \n",
        "Мы используем датасет с горячими пользователями. В процессе написания функции, возникла идея, брать не весь датасет для построения модели популярных.\n",
        "\n",
        "Будут ли средние метрики лучше, если:\n",
        "\n",
        "Решили потестировать c T, где T -- число на дату которого считаются метрики:\n",
        "- Если взять весь датасет\n",
        "- Ограничиться T - delta, где delta -- количество дней\n",
        "\n",
        "Решили потестровать с ограничением количество взаимодействий на пользователя."
      ]
    },
    {
      "cell_type": "code",
      "execution_count": null,
      "metadata": {},
      "outputs": [],
      "source": [
        "def calc_metrics_popular_by_date(\n",
        "    hot_interaсtions: pd.DataFrame,\n",
        "    metrics: Dict,\n",
        "    delta_days: int = None,\n",
        "    max_interactions: int = None\n",
        "):\n",
        "\n",
        "    \"\"\"\n",
        "    interactions: pd.DataFrame - взаисодействия пользователя\n",
        "    metrics: Dict - какие метрики нужно рассчитать?\n",
        "    delta_days: int - максимальное число дней в выборке\n",
        "    max_interactions: int - максимальное количество действий на одного юзера\n",
        "\n",
        "    Возвращает pandas DataFrame с рассчитанными метриками\n",
        "    \"\"\"\n",
        "\n",
        "    date_range = pd.date_range(\n",
        "        hot_interaсtions.datetime.min(), \n",
        "        hot_interaсtions.datetime.max()\n",
        "    )\n",
        "    # делаю date range\n",
        "    interactions_date_range = pd.DataFrame(columns=hot_interaсtions.columns)\n",
        "    calced_metrics = {}\n",
        "\n",
        "    if max_interactions is not None:\n",
        "        hot_interaсtions = (\n",
        "            hot_interaсtions.loc[\n",
        "                hot_interaсtions['order']<=max_interactions\n",
        "            ]\n",
        "        )\n",
        "        print(hot_interaсtions.shape)\n",
        "\n",
        "\n",
        "    for i_fold, date in enumerate(date_range[:-1]):\n",
        "\n",
        "        train_ids = hot_interaсtions.loc[\n",
        "            hot_interaсtions[Columns.Datetime] == date\n",
        "        ].index\n",
        "        test_ids = hot_interaсtions.loc[\n",
        "            hot_interaсtions[Columns.Datetime] == date+pd.Timedelta(days=1)\n",
        "        ].index\n",
        "\n",
        "        X_train = hot_interaсtions.loc[train_ids].copy()\n",
        "        X_test = hot_interaсtions.loc[test_ids].copy()\n",
        "\n",
        "        interactions_date_range = pd.concat([\n",
        "            interactions_date_range, \n",
        "            X_train,\n",
        "            X_test\n",
        "        ])\n",
        "\n",
        "        if delta_days is not None:\n",
        "            \n",
        "            interactions_date_range = interactions_date_range.loc[\n",
        "                interactions_date_range[Columns.Datetime] >= (\n",
        "                    date+pd.Timedelta(days=1) -\n",
        "                    pd.Timedelta(days=delta_days)\n",
        "                )\n",
        "            ]\n",
        "\n",
        "        X_test = X_test[Columns.UserItem]\n",
        "\n",
        "        catalog = interactions_date_range[Columns.Item].unique()\n",
        "\n",
        "        \n",
        "        dataset = Dataset.construct(\n",
        "            interactions_df=interactions_date_range,\n",
        "        )\n",
        "\n",
        "        simple_popular = PopularModel(add_cold=True)\n",
        "        simple_popular.fit(dataset)\n",
        "\n",
        "        recos = simple_popular.recommend(\n",
        "            X_test[Columns.User], \n",
        "            dataset=dataset, \n",
        "            k=10, \n",
        "            filter_viewed=False\n",
        "        )\n",
        "        \n",
        "        metric_values = calc_metrics(\n",
        "                    metrics,\n",
        "                    reco=recos,\n",
        "                    interactions=X_test,\n",
        "                    prev_interactions=X_train,\n",
        "                    catalog=catalog,\n",
        "                )\n",
        "        calced_metrics[f'{(date+pd.Timedelta(days=1)).strftime(\"%y-%m-%d\")}'] = metric_values\n",
        "    calced_metrics_df = pd.DataFrame(calced_metrics).T\n",
        "    return calced_metrics_df, simple_popular\n",
        "\n",
        "def make_plot(\n",
        "    calced_metrics: pd.DataFrame,\n",
        "    k_for_metrics: int\n",
        ") -> None:\n",
        "    # make plot \n",
        "\n",
        "    x_tick = calced_metrics.index.values.copy()\n",
        "    x_tick[::2] = ''\n",
        "\n",
        "    fig, ax = plt.subplots(figsize=(15,6))\n",
        "\n",
        "    ax = plt.plot(calced_metrics.drop(['novelty'],axis=1), )\n",
        "    plt.vlines(x_tick, ymin=0, ymax=0.6, linestyles=':', colors='grey')\n",
        "    plt.xticks(x_tick, )\n",
        "    fig.autofmt_xdate(rotation=90)\n",
        "    plt.legend(calced_metrics.drop(['novelty'],axis=1).columns)\n",
        "    plt.title('Metrics for Pop model')\n",
        "    \n",
        "    text_1 = f\"k = {k_for_metrics}\"\n",
        "    text_2 = \"prec@k:{0:.3f}\".format(calced_metrics[f'prec@{k_for_metrics}'].mean())\n",
        "    text_3 = \"map@k:{0:.3f}\".format(calced_metrics[f'recall@{k_for_metrics}'].mean())\n",
        "    text_4 = \"novelty:{0:.3f}\".format(calced_metrics[f'map@{k_for_metrics}'].mean())\n",
        "    text_5 = \"serendipity:{0:.3f}\".format(calced_metrics['serendipity'].mean())\n",
        "    _text = [text_1, text_2, text_3, text_4, text_5]\n",
        "    plt.text(0, 0.65, \"\\n\".join(_text))\n",
        "\n",
        "    plt.show()\n",
        "\n",
        "def calc_metrics_make_plot(\n",
        "    hot_interaсtions: pd.DataFrame,\n",
        "    delta_days: int = None,\n",
        "    max_interactions: int = None,\n",
        "    k_for_metrics: int = 10\n",
        ") -> None:\n",
        "\n",
        "    if k_for_metrics is None:\n",
        "        k_for_metrics = 10\n",
        "\n",
        "    # Метрики тоже должны меняться\n",
        "    metrics = {\n",
        "        f\"prec@{k_for_metrics}\": Precision(k=k_for_metrics),\n",
        "        f\"recall@{k_for_metrics}\": Recall(k=k_for_metrics),\n",
        "        f\"map@{k_for_metrics}\": MAP(k=k_for_metrics),\n",
        "        \"novelty\": MeanInvUserFreq(k=k_for_metrics),\n",
        "        \"serendipity\": Serendipity(k=k_for_metrics),\n",
        "    }\n",
        "\n",
        "    calced_metrics_df, _ = calc_metrics_popular_by_date(\n",
        "        hot_interaсtions, \n",
        "        metrics, \n",
        "        delta_days,\n",
        "        max_interactions\n",
        "    )\n",
        "    make_plot(\n",
        "        calced_metrics_df, \n",
        "        k_for_metrics\n",
        "    )\n",
        "    "
      ]
    },
    {
      "cell_type": "code",
      "execution_count": null,
      "metadata": {},
      "outputs": [],
      "source": [
        "delta_days = [None, 14, 7, 3, 1]\n",
        "max_interactions = [None, 10, 5, 3, 1]\n",
        "\n",
        "for days,max_iter in zip(delta_days, max_interactions):\n",
        "\n",
        "    print(\"max_interactions:\", max_iter,\"\\n\", \"delta_days:\", days)\n",
        "    calc_metrics_make_plot(\n",
        "        hot_interaсtions,\n",
        "        days,\n",
        "        max_iter,\n",
        "        max_iter\n",
        "    )"
      ]
    },
    {
      "attachments": {},
      "cell_type": "markdown",
      "metadata": {},
      "source": [
        "Что ж, интересно.\n",
        "А если зафиксировать max_interactions"
      ]
    },
    {
      "cell_type": "code",
      "execution_count": null,
      "metadata": {},
      "outputs": [],
      "source": [
        "delta_days = [None, 14, 7, 3, 1]\n",
        "max_iter = 10\n",
        "\n",
        "for days in delta_days:\n",
        "\n",
        "    print(\"max_interactions:\", max_iter,\"\\n\", \"delta_days:\", days)\n",
        "    calc_metrics_make_plot(\n",
        "        hot_interaсtions,\n",
        "        days,\n",
        "        max_iter,\n",
        "        max_iter\n",
        "    )"
      ]
    },
    {
      "attachments": {},
      "cell_type": "markdown",
      "metadata": {},
      "source": [
        "Чем ближе к T, тем выше метрики. Логично. \n",
        "Теперь зафиксиреум delta_t"
      ]
    },
    {
      "cell_type": "code",
      "execution_count": null,
      "metadata": {},
      "outputs": [],
      "source": [
        "delta_days = [1, 1, 1, 1, 1]\n",
        "max_interactions = [None, 10, 5, 3, 1]\n",
        "\n",
        "for days,max_iter in zip(delta_days, max_interactions):\n",
        "\n",
        "    print(\"max_interactions:\", max_iter,\"\\n\", \"delta_days:\", days)\n",
        "    calc_metrics_make_plot(\n",
        "        hot_interaсtions,\n",
        "        days,\n",
        "        max_iter,\n",
        "        max_iter\n",
        "    )"
      ]
    },
    {
      "attachments": {},
      "cell_type": "markdown",
      "metadata": {},
      "source": [
        "Получается можно не нужно брать популярного дальше T-1 дней. Достаточно 10 взаимодействий\n",
        "\n",
        "`max_interactions: 10 \n",
        " delta_days: 1`"
      ]
    },
    {
      "attachments": {},
      "cell_type": "markdown",
      "metadata": {},
      "source": [
        "Для юзеров, которых нет в БД, нужно делать популярную рекомендацию.\n",
        "\n",
        "Для неизвестных юзеров буду просто брать самые популярные."
      ]
    },
    {
      "cell_type": "code",
      "execution_count": 317,
      "metadata": {},
      "outputs": [],
      "source": [
        "def popular_predict(\n",
        "    user_id: int,\n",
        "    dataset: Dataset,\n",
        "    top_popular: List,\n",
        "    popular_model: PopularModel,\n",
        "    k_recs: int\n",
        ") -> List:\n",
        "\n",
        "    if user_id in dataset.user_id_map.external_ids:\n",
        "\n",
        "        recos = popular_model.recommend(\n",
        "            [user_id], \n",
        "            dataset=dataset, \n",
        "            k=k_recs, \n",
        "            filter_viewed=False\n",
        "        )['item_id'].values\n",
        "    else:\n",
        "        recos = top_popular[:k_recs]\n",
        "\n",
        "    return recos\n"
      ]
    },
    {
      "attachments": {},
      "cell_type": "markdown",
      "metadata": {},
      "source": [
        "Немного изменю функцию"
      ]
    },
    {
      "cell_type": "code",
      "execution_count": null,
      "metadata": {},
      "outputs": [],
      "source": [
        "delta_days = 1\n",
        "k_recs = 10\n",
        "\n",
        "date_range = pd.date_range(\n",
        "        interactions.datetime.min(), \n",
        "        interactions.datetime.max()\n",
        "    )\n",
        "calced_metrics = {}\n",
        "\n",
        "\n",
        "for date in date_range[:-1]:\n",
        "\n",
        "    train_ids = interactions.loc[\n",
        "        interactions[Columns.Datetime] == date\n",
        "    ].index\n",
        "    test_ids = interactions.loc[\n",
        "        interactions[Columns.Datetime] == date+pd.Timedelta(days=1)\n",
        "    ].index\n",
        "\n",
        "    X_train = interactions.loc[train_ids].copy()\n",
        "    X_test = interactions.loc[test_ids].copy()\n",
        "\n",
        "    interactions_date_range = pd.concat([\n",
        "        interactions_date_range, \n",
        "        X_train,\n",
        "        X_test\n",
        "    ])\n",
        "\n",
        "    if delta_days is not None:\n",
        "            \n",
        "            interactions_date_range = interactions_date_range.loc[\n",
        "                interactions_date_range[Columns.Datetime] >= (\n",
        "                    date+pd.Timedelta(days=1) -\n",
        "                    pd.Timedelta(days=delta_days)\n",
        "                )\n",
        "            ]\n",
        "\n",
        "    X_test = X_test[Columns.UserItem]\n",
        "\n",
        "    catalog = interactions_date_range[Columns.Item].unique()\n",
        "\n",
        "    \n",
        "    dataset = Dataset.construct(\n",
        "        interactions_df=interactions_date_range,\n",
        "    )\n",
        "\n",
        "    simple_popular = PopularModel(add_cold=True)\n",
        "    simple_popular.fit(dataset)\n",
        "\n",
        "    top_popular_list = (\n",
        "        X_train[['user_id', 'item_id']]\n",
        "        .groupby('item_id')\n",
        "        .count()\n",
        "        .sort_values('user_id')[-k_recs:]\n",
        "    )\n",
        "\n",
        "    recos = pd.DataFrame(\n",
        "        {\n",
        "            \"user_id\": X_test[Columns.User].unique()\n",
        "        }\n",
        "    )\n",
        "    recos['item_id'] = recos['user_id'].apply(\n",
        "        lambda x: popular_predict(\n",
        "            x,\n",
        "            dataset,\n",
        "            top_popular_list,\n",
        "            simple_popular,\n",
        "            k_recs\n",
        "        )\n",
        "    )\n",
        "\n",
        "    recos = recos.explode('item_id')\n",
        "\n",
        "    recos = simple_popular.recommend(\n",
        "        X_test[Columns.User], \n",
        "        dataset=dataset, \n",
        "        k=k_recs, \n",
        "        filter_viewed=False\n",
        "    )\n",
        "\n",
        "    metric_values = calc_metrics(\n",
        "                    metrics,\n",
        "                    reco=recos,\n",
        "                    interactions=X_test,\n",
        "                    prev_interactions=X_train,\n",
        "                    catalog=catalog,\n",
        "                )\n",
        "    calced_metrics[f'{(date+pd.Timedelta(days=1)).strftime(\"%y-%m-%d\")}'] = metric_values\n",
        "calced_metrics_df = pd.DataFrame(calced_metrics).T"
      ]
    },
    {
      "cell_type": "code",
      "execution_count": null,
      "metadata": {},
      "outputs": [],
      "source": [
        "calced_metrics_df.to_csv('interactions_metrics.csv')"
      ]
    },
    {
      "cell_type": "code",
      "execution_count": 266,
      "metadata": {},
      "outputs": [
        {
          "data": {
            "image/png": "[encoded data removed]",
            "text/plain": [
              "<Figure size 1500x600 with 1 Axes>"
            ]
          },
          "metadata": {},
          "output_type": "display_data"
        }
      ],
      "source": [
        "make_plot(\n",
        "        calced_metrics_df\n",
        "    )"
      ]
    },
    {
      "attachments": {},
      "cell_type": "markdown",
      "metadata": {},
      "source": [
        "Сохраняю модель, датасет и топ популярных."
      ]
    },
    {
      "cell_type": "code",
      "execution_count": 280,
      "metadata": {},
      "outputs": [
        {
          "data": {
            "text/html": [
              "<div>\n",
              "<style scoped>\n",
              "    .dataframe tbody tr th:only-of-type {\n",
              "        vertical-align: middle;\n",
              "    }\n",
              "\n",
              "    .dataframe tbody tr th {\n",
              "        vertical-align: top;\n",
              "    }\n",
              "\n",
              "    .dataframe thead th {\n",
              "        text-align: right;\n",
              "    }\n",
              "</style>\n",
              "<table border=\"1\" class=\"dataframe\">\n",
              "  <thead>\n",
              "    <tr style=\"text-align: right;\">\n",
              "      <th></th>\n",
              "      <th>user_id</th>\n",
              "      <th>item_id</th>\n",
              "      <th>datetime</th>\n",
              "      <th>weight</th>\n",
              "      <th>watched_pct</th>\n",
              "      <th>order</th>\n",
              "    </tr>\n",
              "  </thead>\n",
              "  <tbody>\n",
              "    <tr>\n",
              "      <th>71779</th>\n",
              "      <td>2</td>\n",
              "      <td>7571</td>\n",
              "      <td>2021-05-20</td>\n",
              "      <td>6151</td>\n",
              "      <td>100.0</td>\n",
              "      <td>48</td>\n",
              "    </tr>\n",
              "    <tr>\n",
              "      <th>809786</th>\n",
              "      <td>2</td>\n",
              "      <td>11577</td>\n",
              "      <td>2021-05-21</td>\n",
              "      <td>4974</td>\n",
              "      <td>98.0</td>\n",
              "      <td>38</td>\n",
              "    </tr>\n",
              "    <tr>\n",
              "      <th>1824303</th>\n",
              "      <td>2</td>\n",
              "      <td>16166</td>\n",
              "      <td>2021-05-21</td>\n",
              "      <td>5980</td>\n",
              "      <td>95.0</td>\n",
              "      <td>30</td>\n",
              "    </tr>\n",
              "    <tr>\n",
              "      <th>702734</th>\n",
              "      <td>2</td>\n",
              "      <td>8936</td>\n",
              "      <td>2021-05-29</td>\n",
              "      <td>18</td>\n",
              "      <td>1.0</td>\n",
              "      <td>40</td>\n",
              "    </tr>\n",
              "    <tr>\n",
              "      <th>4980177</th>\n",
              "      <td>2</td>\n",
              "      <td>4436</td>\n",
              "      <td>2021-05-29</td>\n",
              "      <td>2618</td>\n",
              "      <td>30.0</td>\n",
              "      <td>6</td>\n",
              "    </tr>\n",
              "    <tr>\n",
              "      <th>...</th>\n",
              "      <td>...</td>\n",
              "      <td>...</td>\n",
              "      <td>...</td>\n",
              "      <td>...</td>\n",
              "      <td>...</td>\n",
              "      <td>...</td>\n",
              "    </tr>\n",
              "    <tr>\n",
              "      <th>1474297</th>\n",
              "      <td>1097554</td>\n",
              "      <td>496</td>\n",
              "      <td>2021-04-20</td>\n",
              "      <td>2</td>\n",
              "      <td>0.0</td>\n",
              "      <td>8</td>\n",
              "    </tr>\n",
              "    <tr>\n",
              "      <th>3818420</th>\n",
              "      <td>1097554</td>\n",
              "      <td>4580</td>\n",
              "      <td>2021-04-20</td>\n",
              "      <td>22404</td>\n",
              "      <td>100.0</td>\n",
              "      <td>5</td>\n",
              "    </tr>\n",
              "    <tr>\n",
              "      <th>885465</th>\n",
              "      <td>1097554</td>\n",
              "      <td>16361</td>\n",
              "      <td>2021-04-22</td>\n",
              "      <td>6662</td>\n",
              "      <td>100.0</td>\n",
              "      <td>9</td>\n",
              "    </tr>\n",
              "    <tr>\n",
              "      <th>4106330</th>\n",
              "      <td>1097554</td>\n",
              "      <td>1151</td>\n",
              "      <td>2021-04-23</td>\n",
              "      <td>41019</td>\n",
              "      <td>100.0</td>\n",
              "      <td>4</td>\n",
              "    </tr>\n",
              "    <tr>\n",
              "      <th>4708970</th>\n",
              "      <td>1097554</td>\n",
              "      <td>12463</td>\n",
              "      <td>2021-04-25</td>\n",
              "      <td>8729</td>\n",
              "      <td>100.0</td>\n",
              "      <td>1</td>\n",
              "    </tr>\n",
              "  </tbody>\n",
              "</table>\n",
              "<p>3260927 rows × 6 columns</p>\n",
              "</div>"
            ],
            "text/plain": [
              "         user_id  item_id   datetime  weight  watched_pct  order\n",
              "71779          2     7571 2021-05-20    6151        100.0     48\n",
              "809786         2    11577 2021-05-21    4974         98.0     38\n",
              "1824303        2    16166 2021-05-21    5980         95.0     30\n",
              "702734         2     8936 2021-05-29      18          1.0     40\n",
              "4980177        2     4436 2021-05-29    2618         30.0      6\n",
              "...          ...      ...        ...     ...          ...    ...\n",
              "1474297  1097554      496 2021-04-20       2          0.0      8\n",
              "3818420  1097554     4580 2021-04-20   22404        100.0      5\n",
              "885465   1097554    16361 2021-04-22    6662        100.0      9\n",
              "4106330  1097554     1151 2021-04-23   41019        100.0      4\n",
              "4708970  1097554    12463 2021-04-25    8729        100.0      1\n",
              "\n",
              "[3260927 rows x 6 columns]"
            ]
          },
          "execution_count": 280,
          "metadata": {},
          "output_type": "execute_result"
        }
      ],
      "source": [
        "hot_interaсtions"
      ]
    },
    {
      "cell_type": "code",
      "execution_count": 283,
      "metadata": {},
      "outputs": [],
      "source": [
        "# взаимодействия на последнюю дату\n",
        "last_datetime = hot_interaсtions.loc[hot_interaсtions.datetime == date_range[-1]]"
      ]
    },
    {
      "cell_type": "code",
      "execution_count": 306,
      "metadata": {},
      "outputs": [],
      "source": [
        "# лист популярных\n",
        "top_popular_list = (\n",
        "        last_datetime[['user_id', 'item_id']]\n",
        "        .groupby('item_id')\n",
        "        .count()\n",
        "        .sort_values('user_id')\n",
        "    ).index.values\n",
        "pickle.dump(top_popular_list, open('../service/reco_models/top_popular_list.pickle', 'wb'))"
      ]
    },
    {
      "cell_type": "code",
      "execution_count": null,
      "metadata": {},
      "outputs": [],
      "source": []
    },
    {
      "cell_type": "code",
      "execution_count": 288,
      "metadata": {},
      "outputs": [],
      "source": [
        "# датасет\n",
        "dataset = Dataset.construct(\n",
        "        interactions_df=last_datetime,\n",
        "    )\n",
        "\n",
        "pickle.dump(dataset, open('../service/models/popular_dataset.pickle', 'wb'))"
      ]
    },
    {
      "cell_type": "code",
      "execution_count": null,
      "metadata": {},
      "outputs": [],
      "source": []
    },
    {
      "cell_type": "code",
      "execution_count": 299,
      "metadata": {},
      "outputs": [],
      "source": [
        "# модель \n",
        "simple_popular = PopularModel(add_cold=True)\n",
        "simple_popular.fit(dataset)\n",
        "\n",
        "pickle.dump(simple_popular, open('../service/reco_models/popular_model.pickle', 'wb'))"
      ]
    },
    {
      "cell_type": "code",
      "execution_count": 318,
      "metadata": {},
      "outputs": [
        {
          "data": {
            "text/plain": [
              "array([14488, 12192,  9728, 15297,  5543, 10440,  4218,   341,   512,\n",
              "       13865], dtype=uint16)"
            ]
          },
          "execution_count": 318,
          "metadata": {},
          "output_type": "execute_result"
        }
      ],
      "source": [
        "popular_predict(\n",
        "    106,\n",
        "    dataset,\n",
        "    top_popular_list,\n",
        "    simple_popular,\n",
        "    10\n",
        ")"
      ]
    },
    {
      "cell_type": "code",
      "execution_count": 312,
      "metadata": {},
      "outputs": [
        {
          "data": {
            "text/html": [
              "<div>\n",
              "<style scoped>\n",
              "    .dataframe tbody tr th:only-of-type {\n",
              "        vertical-align: middle;\n",
              "    }\n",
              "\n",
              "    .dataframe tbody tr th {\n",
              "        vertical-align: top;\n",
              "    }\n",
              "\n",
              "    .dataframe thead th {\n",
              "        text-align: right;\n",
              "    }\n",
              "</style>\n",
              "<table border=\"1\" class=\"dataframe\">\n",
              "  <thead>\n",
              "    <tr style=\"text-align: right;\">\n",
              "      <th></th>\n",
              "      <th>user_id</th>\n",
              "      <th>item_id</th>\n",
              "      <th>datetime</th>\n",
              "      <th>weight</th>\n",
              "      <th>watched_pct</th>\n",
              "      <th>order</th>\n",
              "    </tr>\n",
              "  </thead>\n",
              "  <tbody>\n",
              "    <tr>\n",
              "      <th>1990513</th>\n",
              "      <td>106</td>\n",
              "      <td>14619</td>\n",
              "      <td>2021-08-22</td>\n",
              "      <td>4911</td>\n",
              "      <td>99.0</td>\n",
              "      <td>32</td>\n",
              "    </tr>\n",
              "    <tr>\n",
              "      <th>4727774</th>\n",
              "      <td>106</td>\n",
              "      <td>1439</td>\n",
              "      <td>2021-08-22</td>\n",
              "      <td>4959</td>\n",
              "      <td>96.0</td>\n",
              "      <td>6</td>\n",
              "    </tr>\n",
              "    <tr>\n",
              "      <th>3326398</th>\n",
              "      <td>272</td>\n",
              "      <td>15894</td>\n",
              "      <td>2021-08-22</td>\n",
              "      <td>1733</td>\n",
              "      <td>34.0</td>\n",
              "      <td>7</td>\n",
              "    </tr>\n",
              "    <tr>\n",
              "      <th>5034219</th>\n",
              "      <td>272</td>\n",
              "      <td>16026</td>\n",
              "      <td>2021-08-22</td>\n",
              "      <td>1611</td>\n",
              "      <td>31.0</td>\n",
              "      <td>3</td>\n",
              "    </tr>\n",
              "    <tr>\n",
              "      <th>3562624</th>\n",
              "      <td>321</td>\n",
              "      <td>8335</td>\n",
              "      <td>2021-08-22</td>\n",
              "      <td>6064</td>\n",
              "      <td>100.0</td>\n",
              "      <td>6</td>\n",
              "    </tr>\n",
              "    <tr>\n",
              "      <th>...</th>\n",
              "      <td>...</td>\n",
              "      <td>...</td>\n",
              "      <td>...</td>\n",
              "      <td>...</td>\n",
              "      <td>...</td>\n",
              "      <td>...</td>\n",
              "    </tr>\n",
              "    <tr>\n",
              "      <th>4385196</th>\n",
              "      <td>1097470</td>\n",
              "      <td>3808</td>\n",
              "      <td>2021-08-22</td>\n",
              "      <td>1646</td>\n",
              "      <td>32.0</td>\n",
              "      <td>14</td>\n",
              "    </tr>\n",
              "    <tr>\n",
              "      <th>3042742</th>\n",
              "      <td>1097479</td>\n",
              "      <td>7128</td>\n",
              "      <td>2021-08-22</td>\n",
              "      <td>10993</td>\n",
              "      <td>1.0</td>\n",
              "      <td>4</td>\n",
              "    </tr>\n",
              "    <tr>\n",
              "      <th>240366</th>\n",
              "      <td>1097508</td>\n",
              "      <td>10986</td>\n",
              "      <td>2021-08-22</td>\n",
              "      <td>55</td>\n",
              "      <td>2.0</td>\n",
              "      <td>100</td>\n",
              "    </tr>\n",
              "    <tr>\n",
              "      <th>5443553</th>\n",
              "      <td>1097508</td>\n",
              "      <td>9985</td>\n",
              "      <td>2021-08-22</td>\n",
              "      <td>2409</td>\n",
              "      <td>7.0</td>\n",
              "      <td>0</td>\n",
              "    </tr>\n",
              "    <tr>\n",
              "      <th>4872355</th>\n",
              "      <td>1097521</td>\n",
              "      <td>13218</td>\n",
              "      <td>2021-08-22</td>\n",
              "      <td>1577</td>\n",
              "      <td>35.0</td>\n",
              "      <td>1</td>\n",
              "    </tr>\n",
              "  </tbody>\n",
              "</table>\n",
              "<p>33785 rows × 6 columns</p>\n",
              "</div>"
            ],
            "text/plain": [
              "         user_id  item_id   datetime  weight  watched_pct  order\n",
              "1990513      106    14619 2021-08-22    4911         99.0     32\n",
              "4727774      106     1439 2021-08-22    4959         96.0      6\n",
              "3326398      272    15894 2021-08-22    1733         34.0      7\n",
              "5034219      272    16026 2021-08-22    1611         31.0      3\n",
              "3562624      321     8335 2021-08-22    6064        100.0      6\n",
              "...          ...      ...        ...     ...          ...    ...\n",
              "4385196  1097470     3808 2021-08-22    1646         32.0     14\n",
              "3042742  1097479     7128 2021-08-22   10993          1.0      4\n",
              "240366   1097508    10986 2021-08-22      55          2.0    100\n",
              "5443553  1097508     9985 2021-08-22    2409          7.0      0\n",
              "4872355  1097521    13218 2021-08-22    1577         35.0      1\n",
              "\n",
              "[33785 rows x 6 columns]"
            ]
          },
          "execution_count": 312,
          "metadata": {},
          "output_type": "execute_result"
        }
      ],
      "source": [
        "last_datetime"
      ]
    },
    {
      "cell_type": "markdown",
      "metadata": {
        "id": "eKkPJrBO9Ly3"
      },
      "source": [
        "## 3. Формирование оффлайн рекомендаций для всех пользователей"
      ]
    },
    {
      "cell_type": "code",
      "execution_count": null,
      "metadata": {},
      "outputs": [],
      "source": []
    },
    {
      "cell_type": "code",
      "execution_count": null,
      "metadata": {
        "id": "4AnAuvSy9VJi"
      },
      "outputs": [],
      "source": [
        "#TODO()\n",
        "\n",
        "# 1) дополнить недостающие рекомендации горячих до 10 штук. Чем?\n",
        "# 1.1) Можем попробовать докинуть популярные \n",
        "# 2) сформировать рекомендации для тёплых\n",
        "# 3) сформировать рекомендации для холодных\n",
        "# 2,3) Рекомендации для теплых и холодных -- это одна моделька"
      ]
    },
    {
      "cell_type": "code",
      "execution_count": null,
      "metadata": {
        "id": "KoKXdJ9noyqH"
      },
      "outputs": [],
      "source": []
    },
    {
      "cell_type": "code",
      "execution_count": null,
      "metadata": {
        "id": "8OUrruaKoynd"
      },
      "outputs": [],
      "source": []
    },
    {
      "cell_type": "code",
      "execution_count": null,
      "metadata": {
        "id": "sfno2zX6oyk_"
      },
      "outputs": [],
      "source": []
    },
    {
      "cell_type": "code",
      "execution_count": null,
      "metadata": {
        "id": "aUSxooBvoyiV"
      },
      "outputs": [],
      "source": []
    },
    {
      "cell_type": "code",
      "execution_count": null,
      "metadata": {
        "id": "JdcrjvV-oyf9"
      },
      "outputs": [],
      "source": []
    },
    {
      "cell_type": "code",
      "execution_count": null,
      "metadata": {
        "id": "5Azr0P4VI8Y3"
      },
      "outputs": [],
      "source": []
    }
  ],
  "metadata": {
    "colab": {
      "collapsed_sections": [
        "0NZYUElozu6B"
      ],
      "provenance": []
    },
    "kernelspec": {
      "display_name": "Python 3.8.15 ('.notebooks': venv)",
      "language": "python",
      "name": "python3"
    },
    "language_info": {
      "codemirror_mode": {
        "name": "ipython",
        "version": 3
      },
      "file_extension": ".py",
      "mimetype": "text/x-python",
      "name": "python",
      "nbconvert_exporter": "python",
      "pygments_lexer": "ipython3",
      "version": "3.8.15"
    },
    "vscode": {
      "interpreter": {
        "hash": "cd5881303aab9b4958c820d1e6e6db8e6c9fef46b1e00555c10aeb46dc139e5d"
      }
    }
  },
  "nbformat": 4,
  "nbformat_minor": 0
}
