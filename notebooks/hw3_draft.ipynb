{
  "cells": [
    {
      "cell_type": "markdown",
      "metadata": {
        "id": "9YARtxijnMWj"
      },
      "source": [
        "# **Заметки**\n",
        "\n",
        "ЗАМЕЧАНИЯ по коду UserKnn: \n",
        "\n",
        "1. В этом классе не используются веса weights, а вместо них единицы (есть/нет взаимодействия)\n",
        "2. Удалили ли мы айтемы, которые посмотрел тестовый пользователь во время train взаимодействий? Вроде НЕЕЕЕЕТ\n",
        "\n",
        "Предложения:\n",
        "3. Пересмотреть, что мы будем считать весом взаимодействия: количество просмтренного времени, или процент от просмотренного, или по дефолту - факт просмотра \n",
        "4. Есть несколько моделей ItemItemRecommender, они отличаются измерением векторного расстояния Cosine, TF-IDF, BM25\n",
        "\n",
        "\n",
        "\n",
        "Вариации решения: \n",
        "\n",
        "`1. изменение столбца веса в матрице взаимодействий`\n",
        "\n",
        "`2. измерение способа расчёта расстояния между векторами - вроде бы зависит от класса Recommender (в implicit я нашёл только 3 таких класса, где взять классы для измерения расстояний по Хэммингу, Манхэтону и тд...?)`\n",
        "\n",
        "`3. изменить способ переранжирования заменить TFIDF на BM25 (или придумать свою)`\n",
        "\n",
        "\n",
        "АЛГОРИТМ:\n",
        "\n",
        "- __ Сначала создаём фолды обучения и тестирования, в train и test все пользователи и объекты - общие, то есть в test нет холодных объектов и пользователей\n",
        "\n",
        "- __ Создаём sparse-матрицу взаимодействий на основе train\n",
        "\n",
        "- __ Обучаем Recommender на sparse-матрице\n",
        "\n",
        "- __ Получаем предсказание ближайших пользователей для тестовых (test[\"user_id\"].unique()), удаляем соседа для самого себя (similarity>=1)\n",
        "\n",
        "- __ Смотрим какие фильмы смотрели ближайшие соседи в train взаимодействиях, составляем список просмотренных объектов\n",
        "\n",
        "- __ Удаляем дубликаты рекоммендаций для айтем-юзер, оставляем одну рекоммендацию айтем-юзер с наибольшим сходством (*КСТАТИ: мы удалили айтемы, которые посмотрел тестовый пользователь во время train взаимодействий? Вроде НЕЕЕЕЕТ*)\n",
        "\n",
        "- __ Последний шаг. Так как для схожих пользователей сходство по разным айтемам одинаковое, то необходимо - проранжировать все рекоммендации айтемов:\n",
        "\n",
        " -    считаем сколько взаимодействий с каждым айтемом в train (так мы узнаем какой айтем был самым популярным и дадим ему меньший вес, чтобы поднять вероятность показать менее популярное)\n",
        "\n",
        " - считаем IDF на train'е через формулу log(...) и для каждого айтема в тестовом наборе получаем свой IDF-score \n",
        "\n",
        " - умножаем схожесть similarity людей на IDF-score айтема и получаем rank-score - по нему делаем сортировку и выбираем первые айтемы для рекомендации\n",
        "\n",
        "В конце считаем метрики на столбце rank\n",
        "\n",
        "\n",
        "Решение:\n",
        "\n",
        "1. Cold users: популярная модель на основе feature пользователей (возраст, пол, доход)\n",
        "2. Warm users: ?\n",
        "3. Hot users: UserKnn с различными вариациями 1) измерения расстояния (CosineRecommender, TFIDFRecommender, BM25Recommender, Хэмминг, Городских кварталов), 2) вариации переранжирования айтемов между похожими пользователями (tfidf - уже реализовано в UserKnn.py, попробовать реализовать bm25 или придумать свою формулу переранжирования) 3) эксперимент с схемой оффлайн  валидации (изменить способ разбиения на фолды, на меньше чем неделю)."
      ]
    },
    {
      "cell_type": "code",
      "execution_count": 8,
      "metadata": {
        "colab": {
          "base_uri": "https://localhost:8080/",
          "height": 1000
        },
        "id": "RQ1R5_F2fwR2",
        "outputId": "a51d5123-fc5a-45cd-bb74-3b294e187626"
      },
      "outputs": [
        {
          "name": "stdout",
          "output_type": "stream",
          "text": [
            "Name: rectools\n",
            "Version: 0.3.0\n",
            "Summary: An easy-to-use Python library for building recommendation systems\n",
            "Home-page: https://github.com/MobileTeleSystems/RecTools\n",
            "Author: Daniil Potapov\n",
            "Author-email: sharth23@gmail.com\n",
            "License: Apache-2.0\n",
            "Location: /home/dmitry/documents/github/RecoServiceTemplate/notebooks/.notebooks/lib/python3.8/site-packages\n",
            "Requires: attrs, implicit, lightfm, Markdown, nmslib, numpy, pandas, scipy, tqdm, typeguard\n",
            "Required-by: \n"
          ]
        }
      ],
      "source": [
        "!python -m pip install --upgrade pip\n",
        "!pip install jedi\n",
        "!pip install --upgrade setuptools\n",
        "!pip3 install rectools==0.3.0 --use-pep517\n",
        "from IPython.display import clear_output\n",
        "clear_output()\n",
        "!pip show rectools"
      ]
    },
    {
      "cell_type": "code",
      "execution_count": null,
      "metadata": {},
      "outputs": [],
      "source": []
    },
    {
      "cell_type": "markdown",
      "metadata": {
        "id": "DHrIoukH0LTK"
      },
      "source": [
        "# Загрузка датасета KION"
      ]
    },
    {
      "cell_type": "code",
      "execution_count": 212,
      "metadata": {
        "id": "b0oCF_ZWkK-7"
      },
      "outputs": [],
      "source": [
        "from datetime import date\n",
        "import pickle\n",
        "\n",
        "import pandas as pd\n",
        "import numpy as np\n",
        "import scipy as sp\n",
        "import requests\n",
        "from tqdm.auto import tqdm\n",
        "from scipy.stats import mode \n",
        "from pprint import pprint\n",
        "import warnings\n",
        "import matplotlib.pyplot as plt\n",
        "warnings.filterwarnings(\"ignore\")\n",
        "\n",
        "from rectools import Columns\n",
        "from rectools.dataset import Dataset\n",
        "from rectools.models.popular_in_category import PopularInCategoryModel\n",
        "from rectools.models.popular import PopularModel \n",
        "from rectools.model_selection.time_split import TimeRangeSplitter\n"
      ]
    },
    {
      "cell_type": "code",
      "execution_count": null,
      "metadata": {},
      "outputs": [],
      "source": [
        "\n",
        "pd.set_option('display.max_columns', None)\n",
        "pd.set_option('display.max_colwidth', 200)\n"
      ]
    },
    {
      "cell_type": "code",
      "execution_count": null,
      "metadata": {},
      "outputs": [],
      "source": [
        "\n",
        "#download dataset by chunks\n",
        "url = \"https://storage.yandexcloud.net/itmo-recsys-public-data/kion_train.zip\"\n",
        "\n",
        "req = requests.get(url, stream=True)\n",
        "\n",
        "with open('kion_train.zip', \"wb\") as fd:\n",
        "    total_size_in_bytes = int(req.headers.get('Content-Length', 0))\n",
        "    progress_bar = tqdm(desc='kion dataset download', total=total_size_in_bytes, unit='iB', unit_scale=True)\n",
        "    for chunk in req.iter_content(chunk_size=2 ** 20):\n",
        "        progress_bar.update(len(chunk))\n",
        "        fd.write(chunk)\n",
        "\n",
        "!unzip kion_train.zip\n"
      ]
    },
    {
      "cell_type": "code",
      "execution_count": 103,
      "metadata": {},
      "outputs": [],
      "source": [
        "\n",
        "interactions = pd.read_csv('kion_train/interactions.csv')\n",
        "users = pd.read_csv('kion_train/users.csv')\n",
        "items = pd.read_csv('kion_train/items.csv')\n",
        "\n",
        "#rename columns, convert timestamp\n",
        "interactions.rename(columns={'last_watch_dt': Columns.Datetime,\n",
        "                            'total_dur': Columns.Weight}, \n",
        "                    inplace=True) \n",
        "interactions.rename(columns={'last_watch_dt': Columns.Datetime}, inplace=True) \n",
        "\n",
        "interactions['datetime'] = pd.to_datetime(interactions['datetime'])\n",
        "interactions[\"order\"] = interactions.groupby(\"user_id\").cumcount(ascending=False)"
      ]
    },
    {
      "cell_type": "code",
      "execution_count": 67,
      "metadata": {
        "id": "cyYAcvuF22tf"
      },
      "outputs": [],
      "source": [
        "interactions[\"user_id\"] = interactions[\"user_id\"].astype(np.uint32)\n",
        "interactions[\"item_id\"] = interactions[\"item_id\"].astype(np.uint16)\n",
        "interactions[\"weight\"] = interactions[\"weight\"].astype(np.uint16)\n",
        "interactions[\"watched_pct\"] = interactions[\"watched_pct\"].astype(np.float32)"
      ]
    },
    {
      "cell_type": "code",
      "execution_count": 64,
      "metadata": {
        "colab": {
          "base_uri": "https://localhost:8080/"
        },
        "id": "j4M7m3V62qBD",
        "outputId": "a86b783b-cb76-4f4c-fc08-239f94bf19ee"
      },
      "outputs": [
        {
          "name": "stdout",
          "output_type": "stream",
          "text": [
            "<class 'pandas.core.frame.DataFrame'>\n",
            "RangeIndex: 5476251 entries, 0 to 5476250\n",
            "Data columns (total 5 columns):\n",
            " #   Column       Dtype         \n",
            "---  ------       -----         \n",
            " 0   user_id      int64         \n",
            " 1   item_id      int64         \n",
            " 2   datetime     datetime64[ns]\n",
            " 3   total_dur    int64         \n",
            " 4   watched_pct  float64       \n",
            "dtypes: datetime64[ns](1), float64(1), int64(3)\n",
            "memory usage: 208.9 MB\n"
          ]
        }
      ],
      "source": [
        "interactions.info()"
      ]
    },
    {
      "cell_type": "markdown",
      "metadata": {
        "id": "ikvNp6sH0KjF"
      },
      "source": [
        "# Модели и бейзлайны"
      ]
    },
    {
      "cell_type": "markdown",
      "metadata": {
        "id": "u1rJY7lp0g4d"
      },
      "source": [
        "## 0. Деление пользователей на горячих и теплых/холодных"
      ]
    },
    {
      "cell_type": "markdown",
      "metadata": {
        "id": "xR16j5SUa_WE"
      },
      "source": [
        "[[[[Сначала получить всех пользователей для которых есть взаимодействия\n",
        "\n",
        "Возможно убрать тёплых пользователей, у которых мало взаимодействий. Возможно рекомендовать им популярное/популярное по категории или похожие фильмы/сериалы на те, что он уже смотрел.]]]]\n"
      ]
    },
    {
      "cell_type": "markdown",
      "metadata": {
        "id": "Ad4GoaWs1wjR"
      },
      "source": [
        "Горячие пользователи - это те пользователи, у которых 10 или больше взаимодействий"
      ]
    },
    {
      "cell_type": "code",
      "execution_count": 124,
      "metadata": {
        "colab": {
          "base_uri": "https://localhost:8080/",
          "height": 460
        },
        "id": "toJjIbhPf6ks",
        "outputId": "68d89e9f-33ff-44a4-9227-f7adb5267ae4"
      },
      "outputs": [],
      "source": [
        "# Preparing of the Hot Users\n",
        "threshold = 10\n",
        "users_inter_count = interactions.groupby(\"user_id\")[\"item_id\"].count()\n",
        "hot_users = users_inter_count[users_inter_count >= threshold].index.values\n",
        "\n",
        "hot_interaсtions = interactions[interactions[\"user_id\"].isin(hot_users)].sort_values([\"user_id\", \"datetime\"])\n"
      ]
    },
    {
      "cell_type": "code",
      "execution_count": 125,
      "metadata": {},
      "outputs": [
        {
          "name": "stdout",
          "output_type": "stream",
          "text": [
            "Hot users:  145410\n",
            "Hot interactions:  3260927\n"
          ]
        },
        {
          "data": {
            "text/html": [
              "<div>\n",
              "<style scoped>\n",
              "    .dataframe tbody tr th:only-of-type {\n",
              "        vertical-align: middle;\n",
              "    }\n",
              "\n",
              "    .dataframe tbody tr th {\n",
              "        vertical-align: top;\n",
              "    }\n",
              "\n",
              "    .dataframe thead th {\n",
              "        text-align: right;\n",
              "    }\n",
              "</style>\n",
              "<table border=\"1\" class=\"dataframe\">\n",
              "  <thead>\n",
              "    <tr style=\"text-align: right;\">\n",
              "      <th></th>\n",
              "      <th>user_id</th>\n",
              "      <th>item_id</th>\n",
              "      <th>datetime</th>\n",
              "      <th>weight</th>\n",
              "      <th>watched_pct</th>\n",
              "      <th>order</th>\n",
              "    </tr>\n",
              "  </thead>\n",
              "  <tbody>\n",
              "    <tr>\n",
              "      <th>537061</th>\n",
              "      <td>1097544</td>\n",
              "      <td>13973</td>\n",
              "      <td>2021-08-21</td>\n",
              "      <td>3089</td>\n",
              "      <td>58.0</td>\n",
              "      <td>11</td>\n",
              "    </tr>\n",
              "    <tr>\n",
              "      <th>5157263</th>\n",
              "      <td>1097544</td>\n",
              "      <td>1000</td>\n",
              "      <td>2021-08-21</td>\n",
              "      <td>67</td>\n",
              "      <td>1.0</td>\n",
              "      <td>1</td>\n",
              "    </tr>\n",
              "    <tr>\n",
              "      <th>3622193</th>\n",
              "      <td>1097554</td>\n",
              "      <td>11275</td>\n",
              "      <td>2021-04-06</td>\n",
              "      <td>7825</td>\n",
              "      <td>100.0</td>\n",
              "      <td>6</td>\n",
              "    </tr>\n",
              "    <tr>\n",
              "      <th>1497465</th>\n",
              "      <td>1097554</td>\n",
              "      <td>1053</td>\n",
              "      <td>2021-04-10</td>\n",
              "      <td>65548</td>\n",
              "      <td>100.0</td>\n",
              "      <td>7</td>\n",
              "    </tr>\n",
              "    <tr>\n",
              "      <th>4150064</th>\n",
              "      <td>1097554</td>\n",
              "      <td>849</td>\n",
              "      <td>2021-04-12</td>\n",
              "      <td>6521</td>\n",
              "      <td>100.0</td>\n",
              "      <td>3</td>\n",
              "    </tr>\n",
              "    <tr>\n",
              "      <th>4840760</th>\n",
              "      <td>1097554</td>\n",
              "      <td>9169</td>\n",
              "      <td>2021-04-14</td>\n",
              "      <td>7378</td>\n",
              "      <td>100.0</td>\n",
              "      <td>0</td>\n",
              "    </tr>\n",
              "    <tr>\n",
              "      <th>4450562</th>\n",
              "      <td>1097554</td>\n",
              "      <td>3509</td>\n",
              "      <td>2021-04-15</td>\n",
              "      <td>14076</td>\n",
              "      <td>100.0</td>\n",
              "      <td>2</td>\n",
              "    </tr>\n",
              "    <tr>\n",
              "      <th>1474297</th>\n",
              "      <td>1097554</td>\n",
              "      <td>496</td>\n",
              "      <td>2021-04-20</td>\n",
              "      <td>2</td>\n",
              "      <td>0.0</td>\n",
              "      <td>8</td>\n",
              "    </tr>\n",
              "    <tr>\n",
              "      <th>3818420</th>\n",
              "      <td>1097554</td>\n",
              "      <td>4580</td>\n",
              "      <td>2021-04-20</td>\n",
              "      <td>22404</td>\n",
              "      <td>100.0</td>\n",
              "      <td>5</td>\n",
              "    </tr>\n",
              "    <tr>\n",
              "      <th>885465</th>\n",
              "      <td>1097554</td>\n",
              "      <td>16361</td>\n",
              "      <td>2021-04-22</td>\n",
              "      <td>6662</td>\n",
              "      <td>100.0</td>\n",
              "      <td>9</td>\n",
              "    </tr>\n",
              "    <tr>\n",
              "      <th>4106330</th>\n",
              "      <td>1097554</td>\n",
              "      <td>1151</td>\n",
              "      <td>2021-04-23</td>\n",
              "      <td>41019</td>\n",
              "      <td>100.0</td>\n",
              "      <td>4</td>\n",
              "    </tr>\n",
              "    <tr>\n",
              "      <th>4708970</th>\n",
              "      <td>1097554</td>\n",
              "      <td>12463</td>\n",
              "      <td>2021-04-25</td>\n",
              "      <td>8729</td>\n",
              "      <td>100.0</td>\n",
              "      <td>1</td>\n",
              "    </tr>\n",
              "  </tbody>\n",
              "</table>\n",
              "</div>"
            ],
            "text/plain": [
              "         user_id  item_id   datetime  weight  watched_pct  order\n",
              "537061   1097544    13973 2021-08-21    3089         58.0     11\n",
              "5157263  1097544     1000 2021-08-21      67          1.0      1\n",
              "3622193  1097554    11275 2021-04-06    7825        100.0      6\n",
              "1497465  1097554     1053 2021-04-10   65548        100.0      7\n",
              "4150064  1097554      849 2021-04-12    6521        100.0      3\n",
              "4840760  1097554     9169 2021-04-14    7378        100.0      0\n",
              "4450562  1097554     3509 2021-04-15   14076        100.0      2\n",
              "1474297  1097554      496 2021-04-20       2          0.0      8\n",
              "3818420  1097554     4580 2021-04-20   22404        100.0      5\n",
              "885465   1097554    16361 2021-04-22    6662        100.0      9\n",
              "4106330  1097554     1151 2021-04-23   41019        100.0      4\n",
              "4708970  1097554    12463 2021-04-25    8729        100.0      1"
            ]
          },
          "execution_count": 125,
          "metadata": {},
          "output_type": "execute_result"
        }
      ],
      "source": [
        "\n",
        "print(\"Hot users: \", hot_users.shape[0])\n",
        "print(\"Hot interactions: \", hot_interaсtions.shape[0])\n",
        "hot_interaсtions.tail(12)"
      ]
    },
    {
      "cell_type": "code",
      "execution_count": 126,
      "metadata": {
        "colab": {
          "base_uri": "https://localhost:8080/"
        },
        "id": "zaEni1XT3rLi",
        "outputId": "9bc7adf4-c221-4e25-91aa-1e6c16e0df6d"
      },
      "outputs": [
        {
          "name": "stdout",
          "output_type": "stream",
          "text": [
            "<class 'pandas.core.frame.DataFrame'>\n",
            "Int64Index: 3260927 entries, 71779 to 4708970\n",
            "Data columns (total 6 columns):\n",
            " #   Column       Dtype         \n",
            "---  ------       -----         \n",
            " 0   user_id      int64         \n",
            " 1   item_id      int64         \n",
            " 2   datetime     datetime64[ns]\n",
            " 3   weight       int64         \n",
            " 4   watched_pct  float64       \n",
            " 5   order        uint16        \n",
            "dtypes: datetime64[ns](1), float64(1), int64(3), uint16(1)\n",
            "memory usage: 155.5 MB\n"
          ]
        }
      ],
      "source": [
        "hot_interaсtions[\"order\"] = hot_interaсtions[\"order\"].astype(np.uint16)\n",
        "hot_interaсtions.info()"
      ]
    },
    {
      "cell_type": "markdown",
      "metadata": {
        "id": "GxiWhtqw2WE8"
      },
      "source": [
        "Тёплые пользователи"
      ]
    },
    {
      "cell_type": "code",
      "execution_count": 19,
      "metadata": {
        "colab": {
          "base_uri": "https://localhost:8080/"
        },
        "id": "vgQCehlU2Qov",
        "outputId": "941d3cfc-66bb-42e0-cf19-e3d321fc551e"
      },
      "outputs": [
        {
          "name": "stdout",
          "output_type": "stream",
          "text": [
            "Warm users:  816769\n",
            "Warm interactions:  2215324\n"
          ]
        },
        {
          "data": {
            "text/html": [
              "<div>\n",
              "<style scoped>\n",
              "    .dataframe tbody tr th:only-of-type {\n",
              "        vertical-align: middle;\n",
              "    }\n",
              "\n",
              "    .dataframe tbody tr th {\n",
              "        vertical-align: top;\n",
              "    }\n",
              "\n",
              "    .dataframe thead th {\n",
              "        text-align: right;\n",
              "    }\n",
              "</style>\n",
              "<table border=\"1\" class=\"dataframe\">\n",
              "  <thead>\n",
              "    <tr style=\"text-align: right;\">\n",
              "      <th></th>\n",
              "      <th>user_id</th>\n",
              "      <th>item_id</th>\n",
              "      <th>datetime</th>\n",
              "      <th>total_dur</th>\n",
              "      <th>watched_pct</th>\n",
              "    </tr>\n",
              "  </thead>\n",
              "  <tbody>\n",
              "    <tr>\n",
              "      <th>3590116</th>\n",
              "      <td>0</td>\n",
              "      <td>12192</td>\n",
              "      <td>2021-07-16</td>\n",
              "      <td>89</td>\n",
              "      <td>0.0</td>\n",
              "    </tr>\n",
              "    <tr>\n",
              "      <th>620</th>\n",
              "      <td>0</td>\n",
              "      <td>7102</td>\n",
              "      <td>2021-07-19</td>\n",
              "      <td>169</td>\n",
              "      <td>3.0</td>\n",
              "    </tr>\n",
              "    <tr>\n",
              "      <th>67070</th>\n",
              "      <td>0</td>\n",
              "      <td>14359</td>\n",
              "      <td>2021-07-19</td>\n",
              "      <td>130</td>\n",
              "      <td>2.0</td>\n",
              "    </tr>\n",
              "    <tr>\n",
              "      <th>90113</th>\n",
              "      <td>0</td>\n",
              "      <td>15297</td>\n",
              "      <td>2021-07-19</td>\n",
              "      <td>459</td>\n",
              "      <td>0.0</td>\n",
              "    </tr>\n",
              "    <tr>\n",
              "      <th>3103040</th>\n",
              "      <td>0</td>\n",
              "      <td>9728</td>\n",
              "      <td>2021-07-19</td>\n",
              "      <td>4</td>\n",
              "      <td>0.0</td>\n",
              "    </tr>\n",
              "    <tr>\n",
              "      <th>1213765</th>\n",
              "      <td>0</td>\n",
              "      <td>6006</td>\n",
              "      <td>2021-07-20</td>\n",
              "      <td>1</td>\n",
              "      <td>0.0</td>\n",
              "    </tr>\n",
              "    <tr>\n",
              "      <th>2354936</th>\n",
              "      <td>1</td>\n",
              "      <td>10440</td>\n",
              "      <td>2021-08-13</td>\n",
              "      <td>19579</td>\n",
              "      <td>80.0</td>\n",
              "    </tr>\n",
              "    <tr>\n",
              "      <th>1625374</th>\n",
              "      <td>1</td>\n",
              "      <td>3669</td>\n",
              "      <td>2021-08-16</td>\n",
              "      <td>1593</td>\n",
              "      <td>26.0</td>\n",
              "    </tr>\n",
              "    <tr>\n",
              "      <th>4299412</th>\n",
              "      <td>4</td>\n",
              "      <td>6317</td>\n",
              "      <td>2021-06-02</td>\n",
              "      <td>14</td>\n",
              "      <td>0.0</td>\n",
              "    </tr>\n",
              "    <tr>\n",
              "      <th>114632</th>\n",
              "      <td>4</td>\n",
              "      <td>4700</td>\n",
              "      <td>2021-07-02</td>\n",
              "      <td>5799</td>\n",
              "      <td>97.0</td>\n",
              "    </tr>\n",
              "    <tr>\n",
              "      <th>523352</th>\n",
              "      <td>7</td>\n",
              "      <td>8710</td>\n",
              "      <td>2021-04-07</td>\n",
              "      <td>672</td>\n",
              "      <td>17.0</td>\n",
              "    </tr>\n",
              "    <tr>\n",
              "      <th>4506281</th>\n",
              "      <td>8</td>\n",
              "      <td>6809</td>\n",
              "      <td>2021-07-05</td>\n",
              "      <td>12</td>\n",
              "      <td>0.0</td>\n",
              "    </tr>\n",
              "  </tbody>\n",
              "</table>\n",
              "</div>"
            ],
            "text/plain": [
              "         user_id  item_id   datetime  total_dur  watched_pct\n",
              "3590116        0    12192 2021-07-16         89          0.0\n",
              "620            0     7102 2021-07-19        169          3.0\n",
              "67070          0    14359 2021-07-19        130          2.0\n",
              "90113          0    15297 2021-07-19        459          0.0\n",
              "3103040        0     9728 2021-07-19          4          0.0\n",
              "1213765        0     6006 2021-07-20          1          0.0\n",
              "2354936        1    10440 2021-08-13      19579         80.0\n",
              "1625374        1     3669 2021-08-16       1593         26.0\n",
              "4299412        4     6317 2021-06-02         14          0.0\n",
              "114632         4     4700 2021-07-02       5799         97.0\n",
              "523352         7     8710 2021-04-07        672         17.0\n",
              "4506281        8     6809 2021-07-05         12          0.0"
            ]
          },
          "execution_count": 19,
          "metadata": {},
          "output_type": "execute_result"
        }
      ],
      "source": [
        "# Preparing of the warm users\n",
        "warm_users = users_inter_count[users_inter_count < threshold].index.values\n",
        "warm_interaсtions = interactions[interactions[\"user_id\"].isin(warm_users)].sort_values([\"user_id\", \"datetime\"])\n",
        "print(\"Warm users: \", warm_users.shape[0])\n",
        "print(\"Warm interactions: \", warm_interaсtions.shape[0])\n",
        "warm_interaсtions.head(12)"
      ]
    },
    {
      "cell_type": "markdown",
      "metadata": {
        "id": "0I923uv-3wbT"
      },
      "source": [
        "Холодные пользователи"
      ]
    },
    {
      "cell_type": "code",
      "execution_count": 24,
      "metadata": {
        "id": "pTpxKaW12cqp"
      },
      "outputs": [],
      "source": [
        "# Preparing of the cold users\n",
        "\n",
        "# 1) те пользователи, которые есть в таблице [users] и нет в таблице [interactions];\n",
        "cold_users = users.loc[~users.user_id.isin(interactions.user_id)]\n",
        "# 2) пользователи, \"user_id\" которых мы раньше не видели (например, они могут нам прислать отрицательный user_id)."
      ]
    },
    {
      "cell_type": "code",
      "execution_count": 27,
      "metadata": {},
      "outputs": [
        {
          "name": "stdout",
          "output_type": "stream",
          "text": [
            "Cold users:  95909\n"
          ]
        },
        {
          "data": {
            "text/html": [
              "<div>\n",
              "<style scoped>\n",
              "    .dataframe tbody tr th:only-of-type {\n",
              "        vertical-align: middle;\n",
              "    }\n",
              "\n",
              "    .dataframe tbody tr th {\n",
              "        vertical-align: top;\n",
              "    }\n",
              "\n",
              "    .dataframe thead th {\n",
              "        text-align: right;\n",
              "    }\n",
              "</style>\n",
              "<table border=\"1\" class=\"dataframe\">\n",
              "  <thead>\n",
              "    <tr style=\"text-align: right;\">\n",
              "      <th></th>\n",
              "      <th>user_id</th>\n",
              "      <th>age</th>\n",
              "      <th>income</th>\n",
              "      <th>sex</th>\n",
              "      <th>kids_flg</th>\n",
              "    </tr>\n",
              "  </thead>\n",
              "  <tbody>\n",
              "    <tr>\n",
              "      <th>2</th>\n",
              "      <td>1047345</td>\n",
              "      <td>age_45_54</td>\n",
              "      <td>income_40_60</td>\n",
              "      <td>Ж</td>\n",
              "      <td>0</td>\n",
              "    </tr>\n",
              "    <tr>\n",
              "      <th>6</th>\n",
              "      <td>391756</td>\n",
              "      <td>age_25_34</td>\n",
              "      <td>income_0_20</td>\n",
              "      <td>М</td>\n",
              "      <td>0</td>\n",
              "    </tr>\n",
              "    <tr>\n",
              "      <th>7</th>\n",
              "      <td>15878</td>\n",
              "      <td>age_25_34</td>\n",
              "      <td>income_40_60</td>\n",
              "      <td>М</td>\n",
              "      <td>1</td>\n",
              "    </tr>\n",
              "    <tr>\n",
              "      <th>10</th>\n",
              "      <td>99952</td>\n",
              "      <td>NaN</td>\n",
              "      <td>NaN</td>\n",
              "      <td>М</td>\n",
              "      <td>0</td>\n",
              "    </tr>\n",
              "    <tr>\n",
              "      <th>19</th>\n",
              "      <td>1067802</td>\n",
              "      <td>age_35_44</td>\n",
              "      <td>income_40_60</td>\n",
              "      <td>М</td>\n",
              "      <td>0</td>\n",
              "    </tr>\n",
              "  </tbody>\n",
              "</table>\n",
              "</div>"
            ],
            "text/plain": [
              "    user_id        age        income sex  kids_flg\n",
              "2   1047345  age_45_54  income_40_60   Ж         0\n",
              "6    391756  age_25_34   income_0_20   М         0\n",
              "7     15878  age_25_34  income_40_60   М         1\n",
              "10    99952        NaN           NaN   М         0\n",
              "19  1067802  age_35_44  income_40_60   М         0"
            ]
          },
          "execution_count": 27,
          "metadata": {},
          "output_type": "execute_result"
        }
      ],
      "source": [
        "print(\"Cold users: \", cold_users.shape[0])\n",
        "cold_users.head()"
      ]
    },
    {
      "cell_type": "markdown",
      "metadata": {
        "id": "BRZQjQ7i0fL7"
      },
      "source": [
        "## 1. Горячие пользователи UserKnn\n",
        "\n",
        "\n",
        "[Вступительная речь] "
      ]
    },
    {
      "cell_type": "markdown",
      "metadata": {
        "id": "ivGfL7oz1E0M"
      },
      "source": [
        "#### Дополненная UserKnn с лекции"
      ]
    },
    {
      "cell_type": "code",
      "execution_count": 29,
      "metadata": {
        "id": "bUqyZ54ugCFl"
      },
      "outputs": [],
      "source": [
        "import pandas as pd\n",
        "import numpy as np\n",
        "import scipy as sp\n",
        "from typing import Dict\n",
        "from collections import Counter\n",
        "import implicit\n",
        "from implicit.nearest_neighbours import ItemItemRecommender, CosineRecommender, TFIDFRecommender, BM25Recommender\n",
        "from rectools.metrics import Precision, Recall, MAP, MeanInvUserFreq, Serendipity, calc_metrics\n",
        "import dill\n",
        "from typing import Optional\n",
        "\n",
        "\n",
        "class UserKnn():\n",
        "    \"\"\"Class for fit-perdict UserKNN model \n",
        "       based on ItemKNN model from implicit.nearest_neighbours\n",
        "    \"\"\"\n",
        "    \n",
        "    def __init__(self, model: ItemItemRecommender, N_users: int = 50):\n",
        "        self.N_users = N_users\n",
        "        self.model = model\n",
        "        self.is_fitted = False\n",
        "        \n",
        "    def get_mappings(self, train):\n",
        "        self.users_inv_mapping = dict(enumerate(train['user_id'].unique()))\n",
        "        self.users_mapping = {v: k for k, v in self.users_inv_mapping.items()}\n",
        "        \n",
        "        self.items_inv_mapping = dict(enumerate(train['item_id'].unique()))\n",
        "        self.items_mapping = {v: k for k, v in self.items_inv_mapping.items()}\n",
        "    \n",
        "    def get_matrix(self, df: pd.DataFrame, \n",
        "                   user_col: str = 'user_id', \n",
        "                   item_col: str = 'item_id', \n",
        "                   weight_col: str = None, \n",
        "                   users_mapping: Dict[int, int] = None, \n",
        "                   items_mapping: Dict[int, int] = None):\n",
        "\n",
        "        if weight_col:\n",
        "            weights = df[weight_col].astype(np.float32)\n",
        "        else:\n",
        "            weights = np.ones(len(df), dtype=np.float32)\n",
        "\n",
        "        interaction_matrix = sp.sparse.coo_matrix((\n",
        "            weights,\n",
        "            (\n",
        "                df[user_col].map(self.users_mapping.get),\n",
        "                df[item_col].map(self.items_mapping.get)\n",
        "            )\n",
        "            ))\n",
        "\n",
        "        self.watched = df.groupby(user_col).agg({item_col: tuple})\n",
        "        return interaction_matrix\n",
        "\n",
        "    def idf(self, n: int, x: float):\n",
        "        return np.log((1 + n) / (1 + x) + 1)\n",
        "\n",
        "    def _count_item_idf(self, df: pd.DataFrame):\n",
        "        item_cnt = Counter(df['item_id'].values)\n",
        "        item_idf = pd.DataFrame.from_dict(item_cnt, orient='index', columns=['doc_freq']).reset_index()\n",
        "        item_idf['idf'] = item_idf['doc_freq'].apply(lambda x: self.idf(self.n, x))\n",
        "        self.item_idf = item_idf\n",
        "\n",
        "    def fit(self, train: pd.DataFrame, weight_col: Optional[str] = None): # добавил аргумент weight_col = None, теперь можно выбирать что есть вес\n",
        "        self.user_knn = self.model\n",
        "        self.get_mappings(train)\n",
        "        # 1) Тут не был задан параметр weight_col=\n",
        "        self.weights_matrix = self.get_matrix(train, weight_col=weight_col, \n",
        "                                              users_mapping=self.users_mapping, \n",
        "                                             items_mapping=self.items_mapping)\n",
        "\n",
        "        self.n = train.shape[0]\n",
        "\n",
        "        # 2) (не получилось) Можно добавить bm25 или придумать свой способ переранжирования \n",
        "        self._count_item_idf(train)\n",
        "\n",
        "        self.user_knn.fit(self.weights_matrix)\n",
        "        self.is_fitted = True\n",
        "\n",
        "    def _generate_recs_mapper(self, model: ItemItemRecommender, user_mapping: Dict[int, int], \n",
        "                              user_inv_mapping: Dict[int, int], N: int):\n",
        "        def _recs_mapper(user):\n",
        "            user_id = user_mapping[user]\n",
        "            recs = model.similar_items(user_id, N=N)\n",
        "            return [user_inv_mapping[user] for user, _ in recs], [sim for _, sim in recs]\n",
        "        return _recs_mapper\n",
        "    \n",
        "    def predict(self, test: pd.DataFrame, N_recs: int = 10):\n",
        "        \n",
        "        if not self.is_fitted:\n",
        "            raise ValueError(\"Please call fit before predict\")\n",
        "        \n",
        "        mapper = self._generate_recs_mapper(\n",
        "            model=self.user_knn, \n",
        "            user_mapping=self.users_mapping,\n",
        "            user_inv_mapping=self.users_inv_mapping,\n",
        "            N=self.N_users\n",
        "        )\n",
        "\n",
        "        recs = pd.DataFrame({'user_id': test['user_id'].unique()})\n",
        "        recs['sim_user_id'], recs['sim'] = zip(*recs['user_id'].map(mapper))\n",
        "        recs = recs.set_index('user_id').apply(pd.Series.explode).reset_index()\n",
        "        recs[\"sim_user_id\"] = recs[\"sim_user_id\"].astype(np.uint32)\n",
        "        recs[\"sim\"] = recs[\"sim\"].astype(np.float32)\n",
        "        # Удаляем самого себя из похожих\n",
        "        recs = recs[recs[\"user_id\"] != recs[\"sim_user_id\"]] \n",
        "        \n",
        "        recs = recs.merge(self.watched, left_on=['sim_user_id'], right_on=['user_id'], how='left')\\\n",
        "                    .drop([\"sim_user_id\"], axis=1)\\\n",
        "                    .explode('item_id')\\\n",
        "                    .sort_values(['user_id', 'sim'], ascending=False)\\\n",
        "                    .drop_duplicates(['user_id', 'item_id'], keep='first')\\\n",
        "                    .merge(self.watched, left_on=[\"user_id\"], right_on=[\"user_id\"], how=\"left\")\n",
        "        \n",
        "        # исключаем уже просмотренное тестовым пользователем из рекомендаций\n",
        "        recs = recs[recs.apply(lambda x: x[\"item_id_x\"] not in x[\"item_id_y\"], axis=1)]\\\n",
        "                    .rename(columns={\"item_id_x\": \"item_id\"})\\\n",
        "                    .merge(self.item_idf, left_on='item_id', right_on='index', how='left')\n",
        "        \n",
        "        recs['score'] = recs['sim'] * recs['idf']\n",
        "        recs.drop([\"sim\", \"idf\"], axis=1, inplace=True)\n",
        "        recs = recs.sort_values(['user_id', 'score'], ascending=False)\n",
        "        recs['rank'] = recs.groupby('user_id').cumcount() + 1\n",
        "        return recs[recs['rank'] <= N_recs][['user_id', 'item_id', 'rank']]"
      ]
    },
    {
      "cell_type": "markdown",
      "metadata": {
        "id": "0NZYUElozu6B"
      },
      "source": [
        "#### Схема валидации\n",
        "\n"
      ]
    },
    {
      "cell_type": "markdown",
      "metadata": {
        "id": "YQrYKvvZN5qi"
      },
      "source": [
        "[[[Будто нужно сделать крос-валидацию и сравнить несколько моделей, потом когда модель будет выбрана по результатам метрик по среднему по всем тестовым разбиениям, нужно взять и обучить её на всём нашем наборе данных, а далее отправить модель на сервис и получить результат скрытом тесте]]][[почему leavePout?]]"
      ]
    },
    {
      "cell_type": "code",
      "execution_count": 30,
      "metadata": {
        "id": "ZMClRt7SfO8Q"
      },
      "outputs": [],
      "source": [
        "from typing import Optional\n",
        "\n",
        "\n",
        "class UsersKFoldPOut():\n",
        "    def __init__(\n",
        "        self, n_folds: int, p: int, \n",
        "        user_column: str = \"user_id\", \n",
        "        order_column: str = \"order\", \n",
        "        random_seed: int = 23\n",
        "    ):\n",
        "        self.n_folds = n_folds\n",
        "        self.p = p\n",
        "        self.user_column = user_column\n",
        "        self.order_column = order_column\n",
        "        self.random_seed = random_seed\n",
        "\n",
        "    def split(self, df: pd.DataFrame):\n",
        "        # сортировка для воспроизводимости результатов\n",
        "        users = sorted(df[self.user_column].unique())\n",
        "        users_count = len(users)\n",
        "\n",
        "        np.random.seed(self.random_seed)\n",
        "        np.random.shuffle(users)\n",
        "\n",
        "        fold_sizes = np.full(self.n_folds, users_count // self.n_folds, dtype=np.uint32)\n",
        "        fold_sizes[: users_count % self.n_folds] += 1\n",
        "        current = 0\n",
        "        for fold_size in fold_sizes:\n",
        "            start, stop = current, current + fold_size\n",
        "            test_fold_users = users[start:stop]\n",
        "            test_mask = df[self.user_column].isin(test_fold_users) & (df[self.order_column] < self.p)\n",
        "            train_mask =df[self.user_column].isin(test_fold_users) & ~test_mask\n",
        "\n",
        "            yield train_mask, test_mask\n",
        "            current = stop\n",
        "\n",
        "\n",
        "def train(\n",
        "    df: pd.DataFrame,\n",
        "    cv: UsersKFoldPOut,\n",
        "    models: dict,\n",
        "    metrics: dict,\n",
        "    weight_col: Optional[str] = None,\n",
        "):\n",
        "    results = []\n",
        "\n",
        "    fold_iterator = cv.split(df)\n",
        "\n",
        "    postfix = weight_col\n",
        "    if not weight_col:\n",
        "        postfix = \"weight_1\"\n",
        "\n",
        "    for i_fold, (train_ids, test_ids) in enumerate(fold_iterator):\n",
        "        print(f\"\\n==================== Fold {i_fold}\")\n",
        "\n",
        "        df_train = df.loc[train_ids].copy()\n",
        "        df_test = df.loc[test_ids][Columns.UserItem].copy()\n",
        "\n",
        "        catalog = df_train[Columns.Item].unique()\n",
        "        \n",
        "        for model_name, model in models.items():\n",
        "            userknn_model = UserKnn(model=model, N_users=50)\n",
        "            userknn_model.fit(df_train, weight_col=weight_col)\n",
        "        \n",
        "            recos = userknn_model.predict(df_test)\n",
        "        \n",
        "            metric_values = calc_metrics(\n",
        "                metrics,\n",
        "                reco=recos,\n",
        "                interactions=df_test,\n",
        "                prev_interactions=df_train,\n",
        "                catalog=catalog,\n",
        "            )\n",
        "    \n",
        "            fold = {\"fold\": i_fold, \"model\": model_name}\n",
        "            fold.update(metric_values)\n",
        "            results.append(fold)\n",
        "\n",
        "    df_metrics = pd.DataFrame(results)\n",
        "    df_metrics.to_csv(f\"/content/drive/MyDrive/RecSys MTC/practice3/models/df_metrics_{postfix}.csv\")"
      ]
    },
    {
      "cell_type": "markdown",
      "metadata": {
        "id": "VUU-c5S-5PtS"
      },
      "source": [
        "#### Сравнение и выбор модели"
      ]
    },
    {
      "cell_type": "code",
      "execution_count": 40,
      "metadata": {
        "id": "qQrJLFTbozKc"
      },
      "outputs": [
        {
          "name": "stdout",
          "output_type": "stream",
          "text": [
            "\n",
            "==================== Fold 0\n"
          ]
        },
        {
          "name": "stderr",
          "output_type": "stream",
          "text": [
            "100%|██████████| 14541/14541 [00:00<00:00, 21275.33it/s]\n"
          ]
        },
        {
          "ename": "KeyboardInterrupt",
          "evalue": "",
          "output_type": "error",
          "traceback": [
            "\u001b[0;31m---------------------------------------------------------------------------\u001b[0m",
            "\u001b[0;31mKeyboardInterrupt\u001b[0m                         Traceback (most recent call last)",
            "Cell \u001b[0;32mIn[40], line 19\u001b[0m\n\u001b[1;32m      1\u001b[0m \u001b[39m# metrics = {\u001b[39;00m\n\u001b[1;32m      2\u001b[0m \u001b[39m#     \"prec@10\": Precision(k=10),\u001b[39;00m\n\u001b[1;32m      3\u001b[0m \u001b[39m#     \"recall@10\": Recall(k=10),\u001b[39;00m\n\u001b[0;32m   (...)\u001b[0m\n\u001b[1;32m     17\u001b[0m \u001b[39m# train(hot_interaсtions, cv, models, metrics, weight_col=None)\u001b[39;00m\n\u001b[1;32m     18\u001b[0m \u001b[39m# train(hot_interaсtions, cv, models, metrics, weight_col=\"watched_pct\")\u001b[39;00m\n\u001b[0;32m---> 19\u001b[0m train(hot_interaсtions, cv, models, metrics, weight_col\u001b[39m=\u001b[39;49m\u001b[39m\"\u001b[39;49m\u001b[39mtotal_dur\u001b[39;49m\u001b[39m\"\u001b[39;49m)\n",
            "Cell \u001b[0;32mIn[30], line 65\u001b[0m, in \u001b[0;36mtrain\u001b[0;34m(df, cv, models, metrics, weight_col)\u001b[0m\n\u001b[1;32m     62\u001b[0m userknn_model \u001b[39m=\u001b[39m UserKnn(model\u001b[39m=\u001b[39mmodel, N_users\u001b[39m=\u001b[39m\u001b[39m50\u001b[39m)\n\u001b[1;32m     63\u001b[0m userknn_model\u001b[39m.\u001b[39mfit(df_train, weight_col\u001b[39m=\u001b[39mweight_col)\n\u001b[0;32m---> 65\u001b[0m recos \u001b[39m=\u001b[39m userknn_model\u001b[39m.\u001b[39;49mpredict(df_test)\n\u001b[1;32m     67\u001b[0m metric_values \u001b[39m=\u001b[39m calc_metrics(\n\u001b[1;32m     68\u001b[0m     metrics,\n\u001b[1;32m     69\u001b[0m     reco\u001b[39m=\u001b[39mrecos,\n\u001b[0;32m   (...)\u001b[0m\n\u001b[1;32m     72\u001b[0m     catalog\u001b[39m=\u001b[39mcatalog,\n\u001b[1;32m     73\u001b[0m )\n\u001b[1;32m     75\u001b[0m fold \u001b[39m=\u001b[39m {\u001b[39m\"\u001b[39m\u001b[39mfold\u001b[39m\u001b[39m\"\u001b[39m: i_fold, \u001b[39m\"\u001b[39m\u001b[39mmodel\u001b[39m\u001b[39m\"\u001b[39m: model_name}\n",
            "Cell \u001b[0;32mIn[29], line 114\u001b[0m, in \u001b[0;36mUserKnn.predict\u001b[0;34m(self, test, N_recs)\u001b[0m\n\u001b[1;32m    106\u001b[0m recs \u001b[39m=\u001b[39m recs\u001b[39m.\u001b[39mmerge(\u001b[39mself\u001b[39m\u001b[39m.\u001b[39mwatched, left_on\u001b[39m=\u001b[39m[\u001b[39m'\u001b[39m\u001b[39msim_user_id\u001b[39m\u001b[39m'\u001b[39m], right_on\u001b[39m=\u001b[39m[\u001b[39m'\u001b[39m\u001b[39muser_id\u001b[39m\u001b[39m'\u001b[39m], how\u001b[39m=\u001b[39m\u001b[39m'\u001b[39m\u001b[39mleft\u001b[39m\u001b[39m'\u001b[39m)\\\n\u001b[1;32m    107\u001b[0m             \u001b[39m.\u001b[39mdrop([\u001b[39m\"\u001b[39m\u001b[39msim_user_id\u001b[39m\u001b[39m\"\u001b[39m], axis\u001b[39m=\u001b[39m\u001b[39m1\u001b[39m)\\\n\u001b[1;32m    108\u001b[0m             \u001b[39m.\u001b[39mexplode(\u001b[39m'\u001b[39m\u001b[39mitem_id\u001b[39m\u001b[39m'\u001b[39m)\\\n\u001b[1;32m    109\u001b[0m             \u001b[39m.\u001b[39msort_values([\u001b[39m'\u001b[39m\u001b[39muser_id\u001b[39m\u001b[39m'\u001b[39m, \u001b[39m'\u001b[39m\u001b[39msim\u001b[39m\u001b[39m'\u001b[39m], ascending\u001b[39m=\u001b[39m\u001b[39mFalse\u001b[39;00m)\\\n\u001b[1;32m    110\u001b[0m             \u001b[39m.\u001b[39mdrop_duplicates([\u001b[39m'\u001b[39m\u001b[39muser_id\u001b[39m\u001b[39m'\u001b[39m, \u001b[39m'\u001b[39m\u001b[39mitem_id\u001b[39m\u001b[39m'\u001b[39m], keep\u001b[39m=\u001b[39m\u001b[39m'\u001b[39m\u001b[39mfirst\u001b[39m\u001b[39m'\u001b[39m)\\\n\u001b[1;32m    111\u001b[0m             \u001b[39m.\u001b[39mmerge(\u001b[39mself\u001b[39m\u001b[39m.\u001b[39mwatched, left_on\u001b[39m=\u001b[39m[\u001b[39m\"\u001b[39m\u001b[39muser_id\u001b[39m\u001b[39m\"\u001b[39m], right_on\u001b[39m=\u001b[39m[\u001b[39m\"\u001b[39m\u001b[39muser_id\u001b[39m\u001b[39m\"\u001b[39m], how\u001b[39m=\u001b[39m\u001b[39m\"\u001b[39m\u001b[39mleft\u001b[39m\u001b[39m\"\u001b[39m)\n\u001b[1;32m    113\u001b[0m \u001b[39m# исключаем уже просмотренное тестовым пользователем из рекомендаций\u001b[39;00m\n\u001b[0;32m--> 114\u001b[0m recs \u001b[39m=\u001b[39m recs[recs\u001b[39m.\u001b[39;49mapply(\u001b[39mlambda\u001b[39;49;00m x: x[\u001b[39m\"\u001b[39;49m\u001b[39mitem_id_x\u001b[39;49m\u001b[39m\"\u001b[39;49m] \u001b[39mnot\u001b[39;49;00m \u001b[39min\u001b[39;49;00m x[\u001b[39m\"\u001b[39;49m\u001b[39mitem_id_y\u001b[39;49m\u001b[39m\"\u001b[39;49m], axis\u001b[39m=\u001b[39;49m\u001b[39m1\u001b[39;49m)]\\\n\u001b[1;32m    115\u001b[0m             \u001b[39m.\u001b[39mrename(columns\u001b[39m=\u001b[39m{\u001b[39m\"\u001b[39m\u001b[39mitem_id_x\u001b[39m\u001b[39m\"\u001b[39m: \u001b[39m\"\u001b[39m\u001b[39mitem_id\u001b[39m\u001b[39m\"\u001b[39m})\\\n\u001b[1;32m    116\u001b[0m             \u001b[39m.\u001b[39mmerge(\u001b[39mself\u001b[39m\u001b[39m.\u001b[39mitem_idf, left_on\u001b[39m=\u001b[39m\u001b[39m'\u001b[39m\u001b[39mitem_id\u001b[39m\u001b[39m'\u001b[39m, right_on\u001b[39m=\u001b[39m\u001b[39m'\u001b[39m\u001b[39mindex\u001b[39m\u001b[39m'\u001b[39m, how\u001b[39m=\u001b[39m\u001b[39m'\u001b[39m\u001b[39mleft\u001b[39m\u001b[39m'\u001b[39m)\n\u001b[1;32m    118\u001b[0m recs[\u001b[39m'\u001b[39m\u001b[39mscore\u001b[39m\u001b[39m'\u001b[39m] \u001b[39m=\u001b[39m recs[\u001b[39m'\u001b[39m\u001b[39msim\u001b[39m\u001b[39m'\u001b[39m] \u001b[39m*\u001b[39m recs[\u001b[39m'\u001b[39m\u001b[39midf\u001b[39m\u001b[39m'\u001b[39m]\n\u001b[1;32m    119\u001b[0m recs\u001b[39m.\u001b[39mdrop([\u001b[39m\"\u001b[39m\u001b[39msim\u001b[39m\u001b[39m\"\u001b[39m, \u001b[39m\"\u001b[39m\u001b[39midf\u001b[39m\u001b[39m\"\u001b[39m], axis\u001b[39m=\u001b[39m\u001b[39m1\u001b[39m, inplace\u001b[39m=\u001b[39m\u001b[39mTrue\u001b[39;00m)\n",
            "File \u001b[0;32m~/documents/github/RecoServiceTemplate/notebooks/.notebooks/lib/python3.8/site-packages/pandas/core/frame.py:9565\u001b[0m, in \u001b[0;36mDataFrame.apply\u001b[0;34m(self, func, axis, raw, result_type, args, **kwargs)\u001b[0m\n\u001b[1;32m   9554\u001b[0m \u001b[39mfrom\u001b[39;00m \u001b[39mpandas\u001b[39;00m\u001b[39m.\u001b[39;00m\u001b[39mcore\u001b[39;00m\u001b[39m.\u001b[39;00m\u001b[39mapply\u001b[39;00m \u001b[39mimport\u001b[39;00m frame_apply\n\u001b[1;32m   9556\u001b[0m op \u001b[39m=\u001b[39m frame_apply(\n\u001b[1;32m   9557\u001b[0m     \u001b[39mself\u001b[39m,\n\u001b[1;32m   9558\u001b[0m     func\u001b[39m=\u001b[39mfunc,\n\u001b[0;32m   (...)\u001b[0m\n\u001b[1;32m   9563\u001b[0m     kwargs\u001b[39m=\u001b[39mkwargs,\n\u001b[1;32m   9564\u001b[0m )\n\u001b[0;32m-> 9565\u001b[0m \u001b[39mreturn\u001b[39;00m op\u001b[39m.\u001b[39;49mapply()\u001b[39m.\u001b[39m__finalize__(\u001b[39mself\u001b[39m, method\u001b[39m=\u001b[39m\u001b[39m\"\u001b[39m\u001b[39mapply\u001b[39m\u001b[39m\"\u001b[39m)\n",
            "File \u001b[0;32m~/documents/github/RecoServiceTemplate/notebooks/.notebooks/lib/python3.8/site-packages/pandas/core/apply.py:746\u001b[0m, in \u001b[0;36mFrameApply.apply\u001b[0;34m(self)\u001b[0m\n\u001b[1;32m    743\u001b[0m \u001b[39melif\u001b[39;00m \u001b[39mself\u001b[39m\u001b[39m.\u001b[39mraw:\n\u001b[1;32m    744\u001b[0m     \u001b[39mreturn\u001b[39;00m \u001b[39mself\u001b[39m\u001b[39m.\u001b[39mapply_raw()\n\u001b[0;32m--> 746\u001b[0m \u001b[39mreturn\u001b[39;00m \u001b[39mself\u001b[39;49m\u001b[39m.\u001b[39;49mapply_standard()\n",
            "File \u001b[0;32m~/documents/github/RecoServiceTemplate/notebooks/.notebooks/lib/python3.8/site-packages/pandas/core/apply.py:873\u001b[0m, in \u001b[0;36mFrameApply.apply_standard\u001b[0;34m(self)\u001b[0m\n\u001b[1;32m    872\u001b[0m \u001b[39mdef\u001b[39;00m \u001b[39mapply_standard\u001b[39m(\u001b[39mself\u001b[39m):\n\u001b[0;32m--> 873\u001b[0m     results, res_index \u001b[39m=\u001b[39m \u001b[39mself\u001b[39;49m\u001b[39m.\u001b[39;49mapply_series_generator()\n\u001b[1;32m    875\u001b[0m     \u001b[39m# wrap results\u001b[39;00m\n\u001b[1;32m    876\u001b[0m     \u001b[39mreturn\u001b[39;00m \u001b[39mself\u001b[39m\u001b[39m.\u001b[39mwrap_results(results, res_index)\n",
            "File \u001b[0;32m~/documents/github/RecoServiceTemplate/notebooks/.notebooks/lib/python3.8/site-packages/pandas/core/apply.py:889\u001b[0m, in \u001b[0;36mFrameApply.apply_series_generator\u001b[0;34m(self)\u001b[0m\n\u001b[1;32m    886\u001b[0m \u001b[39mwith\u001b[39;00m option_context(\u001b[39m\"\u001b[39m\u001b[39mmode.chained_assignment\u001b[39m\u001b[39m\"\u001b[39m, \u001b[39mNone\u001b[39;00m):\n\u001b[1;32m    887\u001b[0m     \u001b[39mfor\u001b[39;00m i, v \u001b[39min\u001b[39;00m \u001b[39menumerate\u001b[39m(series_gen):\n\u001b[1;32m    888\u001b[0m         \u001b[39m# ignore SettingWithCopy here in case the user mutates\u001b[39;00m\n\u001b[0;32m--> 889\u001b[0m         results[i] \u001b[39m=\u001b[39m \u001b[39mself\u001b[39;49m\u001b[39m.\u001b[39;49mf(v)\n\u001b[1;32m    890\u001b[0m         \u001b[39mif\u001b[39;00m \u001b[39misinstance\u001b[39m(results[i], ABCSeries):\n\u001b[1;32m    891\u001b[0m             \u001b[39m# If we have a view on v, we need to make a copy because\u001b[39;00m\n\u001b[1;32m    892\u001b[0m             \u001b[39m#  series_generator will swap out the underlying data\u001b[39;00m\n\u001b[1;32m    893\u001b[0m             results[i] \u001b[39m=\u001b[39m results[i]\u001b[39m.\u001b[39mcopy(deep\u001b[39m=\u001b[39m\u001b[39mFalse\u001b[39;00m)\n",
            "Cell \u001b[0;32mIn[29], line 114\u001b[0m, in \u001b[0;36mUserKnn.predict.<locals>.<lambda>\u001b[0;34m(x)\u001b[0m\n\u001b[1;32m    106\u001b[0m recs \u001b[39m=\u001b[39m recs\u001b[39m.\u001b[39mmerge(\u001b[39mself\u001b[39m\u001b[39m.\u001b[39mwatched, left_on\u001b[39m=\u001b[39m[\u001b[39m'\u001b[39m\u001b[39msim_user_id\u001b[39m\u001b[39m'\u001b[39m], right_on\u001b[39m=\u001b[39m[\u001b[39m'\u001b[39m\u001b[39muser_id\u001b[39m\u001b[39m'\u001b[39m], how\u001b[39m=\u001b[39m\u001b[39m'\u001b[39m\u001b[39mleft\u001b[39m\u001b[39m'\u001b[39m)\\\n\u001b[1;32m    107\u001b[0m             \u001b[39m.\u001b[39mdrop([\u001b[39m\"\u001b[39m\u001b[39msim_user_id\u001b[39m\u001b[39m\"\u001b[39m], axis\u001b[39m=\u001b[39m\u001b[39m1\u001b[39m)\\\n\u001b[1;32m    108\u001b[0m             \u001b[39m.\u001b[39mexplode(\u001b[39m'\u001b[39m\u001b[39mitem_id\u001b[39m\u001b[39m'\u001b[39m)\\\n\u001b[1;32m    109\u001b[0m             \u001b[39m.\u001b[39msort_values([\u001b[39m'\u001b[39m\u001b[39muser_id\u001b[39m\u001b[39m'\u001b[39m, \u001b[39m'\u001b[39m\u001b[39msim\u001b[39m\u001b[39m'\u001b[39m], ascending\u001b[39m=\u001b[39m\u001b[39mFalse\u001b[39;00m)\\\n\u001b[1;32m    110\u001b[0m             \u001b[39m.\u001b[39mdrop_duplicates([\u001b[39m'\u001b[39m\u001b[39muser_id\u001b[39m\u001b[39m'\u001b[39m, \u001b[39m'\u001b[39m\u001b[39mitem_id\u001b[39m\u001b[39m'\u001b[39m], keep\u001b[39m=\u001b[39m\u001b[39m'\u001b[39m\u001b[39mfirst\u001b[39m\u001b[39m'\u001b[39m)\\\n\u001b[1;32m    111\u001b[0m             \u001b[39m.\u001b[39mmerge(\u001b[39mself\u001b[39m\u001b[39m.\u001b[39mwatched, left_on\u001b[39m=\u001b[39m[\u001b[39m\"\u001b[39m\u001b[39muser_id\u001b[39m\u001b[39m\"\u001b[39m], right_on\u001b[39m=\u001b[39m[\u001b[39m\"\u001b[39m\u001b[39muser_id\u001b[39m\u001b[39m\"\u001b[39m], how\u001b[39m=\u001b[39m\u001b[39m\"\u001b[39m\u001b[39mleft\u001b[39m\u001b[39m\"\u001b[39m)\n\u001b[1;32m    113\u001b[0m \u001b[39m# исключаем уже просмотренное тестовым пользователем из рекомендаций\u001b[39;00m\n\u001b[0;32m--> 114\u001b[0m recs \u001b[39m=\u001b[39m recs[recs\u001b[39m.\u001b[39mapply(\u001b[39mlambda\u001b[39;00m x: x[\u001b[39m\"\u001b[39;49m\u001b[39mitem_id_x\u001b[39;49m\u001b[39m\"\u001b[39;49m] \u001b[39mnot\u001b[39;49;00m \u001b[39min\u001b[39;49;00m x[\u001b[39m\"\u001b[39;49m\u001b[39mitem_id_y\u001b[39;49m\u001b[39m\"\u001b[39;49m], axis\u001b[39m=\u001b[39m\u001b[39m1\u001b[39m)]\\\n\u001b[1;32m    115\u001b[0m             \u001b[39m.\u001b[39mrename(columns\u001b[39m=\u001b[39m{\u001b[39m\"\u001b[39m\u001b[39mitem_id_x\u001b[39m\u001b[39m\"\u001b[39m: \u001b[39m\"\u001b[39m\u001b[39mitem_id\u001b[39m\u001b[39m\"\u001b[39m})\\\n\u001b[1;32m    116\u001b[0m             \u001b[39m.\u001b[39mmerge(\u001b[39mself\u001b[39m\u001b[39m.\u001b[39mitem_idf, left_on\u001b[39m=\u001b[39m\u001b[39m'\u001b[39m\u001b[39mitem_id\u001b[39m\u001b[39m'\u001b[39m, right_on\u001b[39m=\u001b[39m\u001b[39m'\u001b[39m\u001b[39mindex\u001b[39m\u001b[39m'\u001b[39m, how\u001b[39m=\u001b[39m\u001b[39m'\u001b[39m\u001b[39mleft\u001b[39m\u001b[39m'\u001b[39m)\n\u001b[1;32m    118\u001b[0m recs[\u001b[39m'\u001b[39m\u001b[39mscore\u001b[39m\u001b[39m'\u001b[39m] \u001b[39m=\u001b[39m recs[\u001b[39m'\u001b[39m\u001b[39msim\u001b[39m\u001b[39m'\u001b[39m] \u001b[39m*\u001b[39m recs[\u001b[39m'\u001b[39m\u001b[39midf\u001b[39m\u001b[39m'\u001b[39m]\n\u001b[1;32m    119\u001b[0m recs\u001b[39m.\u001b[39mdrop([\u001b[39m\"\u001b[39m\u001b[39msim\u001b[39m\u001b[39m\"\u001b[39m, \u001b[39m\"\u001b[39m\u001b[39midf\u001b[39m\u001b[39m\"\u001b[39m], axis\u001b[39m=\u001b[39m\u001b[39m1\u001b[39m, inplace\u001b[39m=\u001b[39m\u001b[39mTrue\u001b[39;00m)\n",
            "\u001b[0;31mKeyboardInterrupt\u001b[0m: "
          ]
        }
      ],
      "source": [
        "metrics = {\n",
        "    \"prec@10\": Precision(k=10),\n",
        "    \"recall@10\": Recall(k=10),\n",
        "    \"map@10\": MAP(k=10),\n",
        "    \"novelty\": MeanInvUserFreq(k=10),\n",
        "    \"serendipity\": Serendipity(k=10),\n",
        "}\n",
        "\n",
        "models = {\n",
        "    \"cosine\": CosineRecommender(),\n",
        "    \"tfidf\": TFIDFRecommender(),\n",
        "    \"bm25\": BM25Recommender(),\n",
        "}\n",
        "\n",
        "cv = UsersKFoldPOut(n_folds=10, p=5)\n",
        "\n",
        "train(hot_interaсtions, cv, models, metrics, weight_col=None)\n",
        "train(hot_interaсtions, cv, models, metrics, weight_col=\"watched_pct\")\n",
        "train(hot_interaсtions, cv, models, metrics, weight_col=\"weight\")"
      ]
    },
    {
      "cell_type": "markdown",
      "metadata": {
        "id": "9VMtnUCW6zx6"
      },
      "source": [
        "[[Комментарий]]"
      ]
    },
    {
      "cell_type": "code",
      "execution_count": 37,
      "metadata": {
        "colab": {
          "base_uri": "https://localhost:8080/",
          "height": 175
        },
        "id": "_1JE2YJqoy3k",
        "outputId": "7ddbfc7b-4929-4d45-ce17-b50b448961b8"
      },
      "outputs": [],
      "source": [
        "# df_metrics_w1 = pd.read_csv(f\"/content/drive/MyDrive/RecSys MTC/practice3/models/df_metrics_weight_1.csv\")\n",
        "# df_metrics_w1.groupby(\"model\").mean()[metrics.keys()]"
      ]
    },
    {
      "cell_type": "code",
      "execution_count": 39,
      "metadata": {
        "colab": {
          "base_uri": "https://localhost:8080/",
          "height": 175
        },
        "id": "0CBgznBToyx6",
        "outputId": "4a0a362c-4730-4eda-f295-ac3e91a8d3b6"
      },
      "outputs": [],
      "source": [
        "# df_metrics_w1.groupby(\"model\").std()[metrics.keys()]"
      ]
    },
    {
      "cell_type": "markdown",
      "metadata": {
        "id": "axpluPGY64hv"
      },
      "source": [
        "[[Комментарий]]"
      ]
    },
    {
      "cell_type": "code",
      "execution_count": null,
      "metadata": {
        "colab": {
          "base_uri": "https://localhost:8080/",
          "height": 175
        },
        "id": "Oezz6OO5oy0s",
        "outputId": "40deb7b0-a5cd-49a8-c8fb-8b9ab3a5ff46"
      },
      "outputs": [
        {
          "data": {
            "text/html": [
              "\n",
              "  <div id=\"df-324a94e3-ef05-4b88-b0a5-c7e0c4c92c26\">\n",
              "    <div class=\"colab-df-container\">\n",
              "      <div>\n",
              "<style scoped>\n",
              "    .dataframe tbody tr th:only-of-type {\n",
              "        vertical-align: middle;\n",
              "    }\n",
              "\n",
              "    .dataframe tbody tr th {\n",
              "        vertical-align: top;\n",
              "    }\n",
              "\n",
              "    .dataframe thead th {\n",
              "        text-align: right;\n",
              "    }\n",
              "</style>\n",
              "<table border=\"1\" class=\"dataframe\">\n",
              "  <thead>\n",
              "    <tr style=\"text-align: right;\">\n",
              "      <th></th>\n",
              "      <th>prec@10</th>\n",
              "      <th>recall@10</th>\n",
              "      <th>map@10</th>\n",
              "      <th>novelty</th>\n",
              "      <th>serendipity</th>\n",
              "    </tr>\n",
              "    <tr>\n",
              "      <th>model</th>\n",
              "      <th></th>\n",
              "      <th></th>\n",
              "      <th></th>\n",
              "      <th></th>\n",
              "      <th></th>\n",
              "    </tr>\n",
              "  </thead>\n",
              "  <tbody>\n",
              "    <tr>\n",
              "      <th>bm25</th>\n",
              "      <td>0.011802</td>\n",
              "      <td>0.023605</td>\n",
              "      <td>0.008089</td>\n",
              "      <td>7.136264</td>\n",
              "      <td>0.000071</td>\n",
              "    </tr>\n",
              "    <tr>\n",
              "      <th>cosine</th>\n",
              "      <td>0.002658</td>\n",
              "      <td>0.005316</td>\n",
              "      <td>0.001351</td>\n",
              "      <td>9.675353</td>\n",
              "      <td>0.000074</td>\n",
              "    </tr>\n",
              "    <tr>\n",
              "      <th>tfidf</th>\n",
              "      <td>0.005205</td>\n",
              "      <td>0.010409</td>\n",
              "      <td>0.002777</td>\n",
              "      <td>8.989649</td>\n",
              "      <td>0.000128</td>\n",
              "    </tr>\n",
              "  </tbody>\n",
              "</table>\n",
              "</div>\n",
              "      <button class=\"colab-df-convert\" onclick=\"convertToInteractive('df-324a94e3-ef05-4b88-b0a5-c7e0c4c92c26')\"\n",
              "              title=\"Convert this dataframe to an interactive table.\"\n",
              "              style=\"display:none;\">\n",
              "        \n",
              "  <svg xmlns=\"http://www.w3.org/2000/svg\" height=\"24px\"viewBox=\"0 0 24 24\"\n",
              "       width=\"24px\">\n",
              "    <path d=\"M0 0h24v24H0V0z\" fill=\"none\"/>\n",
              "    <path d=\"M18.56 5.44l.94 2.06.94-2.06 2.06-.94-2.06-.94-.94-2.06-.94 2.06-2.06.94zm-11 1L8.5 8.5l.94-2.06 2.06-.94-2.06-.94L8.5 2.5l-.94 2.06-2.06.94zm10 10l.94 2.06.94-2.06 2.06-.94-2.06-.94-.94-2.06-.94 2.06-2.06.94z\"/><path d=\"M17.41 7.96l-1.37-1.37c-.4-.4-.92-.59-1.43-.59-.52 0-1.04.2-1.43.59L10.3 9.45l-7.72 7.72c-.78.78-.78 2.05 0 2.83L4 21.41c.39.39.9.59 1.41.59.51 0 1.02-.2 1.41-.59l7.78-7.78 2.81-2.81c.8-.78.8-2.07 0-2.86zM5.41 20L4 18.59l7.72-7.72 1.47 1.35L5.41 20z\"/>\n",
              "  </svg>\n",
              "      </button>\n",
              "      \n",
              "  <style>\n",
              "    .colab-df-container {\n",
              "      display:flex;\n",
              "      flex-wrap:wrap;\n",
              "      gap: 12px;\n",
              "    }\n",
              "\n",
              "    .colab-df-convert {\n",
              "      background-color: #E8F0FE;\n",
              "      border: none;\n",
              "      border-radius: 50%;\n",
              "      cursor: pointer;\n",
              "      display: none;\n",
              "      fill: #1967D2;\n",
              "      height: 32px;\n",
              "      padding: 0 0 0 0;\n",
              "      width: 32px;\n",
              "    }\n",
              "\n",
              "    .colab-df-convert:hover {\n",
              "      background-color: #E2EBFA;\n",
              "      box-shadow: 0px 1px 2px rgba(60, 64, 67, 0.3), 0px 1px 3px 1px rgba(60, 64, 67, 0.15);\n",
              "      fill: #174EA6;\n",
              "    }\n",
              "\n",
              "    [theme=dark] .colab-df-convert {\n",
              "      background-color: #3B4455;\n",
              "      fill: #D2E3FC;\n",
              "    }\n",
              "\n",
              "    [theme=dark] .colab-df-convert:hover {\n",
              "      background-color: #434B5C;\n",
              "      box-shadow: 0px 1px 3px 1px rgba(0, 0, 0, 0.15);\n",
              "      filter: drop-shadow(0px 1px 2px rgba(0, 0, 0, 0.3));\n",
              "      fill: #FFFFFF;\n",
              "    }\n",
              "  </style>\n",
              "\n",
              "      <script>\n",
              "        const buttonEl =\n",
              "          document.querySelector('#df-324a94e3-ef05-4b88-b0a5-c7e0c4c92c26 button.colab-df-convert');\n",
              "        buttonEl.style.display =\n",
              "          google.colab.kernel.accessAllowed ? 'block' : 'none';\n",
              "\n",
              "        async function convertToInteractive(key) {\n",
              "          const element = document.querySelector('#df-324a94e3-ef05-4b88-b0a5-c7e0c4c92c26');\n",
              "          const dataTable =\n",
              "            await google.colab.kernel.invokeFunction('convertToInteractive',\n",
              "                                                     [key], {});\n",
              "          if (!dataTable) return;\n",
              "\n",
              "          const docLinkHtml = 'Like what you see? Visit the ' +\n",
              "            '<a target=\"_blank\" href=https://colab.research.google.com/notebooks/data_table.ipynb>data table notebook</a>'\n",
              "            + ' to learn more about interactive tables.';\n",
              "          element.innerHTML = '';\n",
              "          dataTable['output_type'] = 'display_data';\n",
              "          await google.colab.output.renderOutput(dataTable, element);\n",
              "          const docLink = document.createElement('div');\n",
              "          docLink.innerHTML = docLinkHtml;\n",
              "          element.appendChild(docLink);\n",
              "        }\n",
              "      </script>\n",
              "    </div>\n",
              "  </div>\n",
              "  "
            ],
            "text/plain": [
              "         prec@10  recall@10    map@10   novelty  serendipity\n",
              "model                                                       \n",
              "bm25    0.011802   0.023605  0.008089  7.136264     0.000071\n",
              "cosine  0.002658   0.005316  0.001351  9.675353     0.000074\n",
              "tfidf   0.005205   0.010409  0.002777  8.989649     0.000128"
            ]
          },
          "execution_count": 122,
          "metadata": {},
          "output_type": "execute_result"
        }
      ],
      "source": [
        "df_metrics_wpct = pd.read_csv(f\"/content/drive/MyDrive/RecSys MTC/practice3/models/df_metrics_watched_pct.csv\")\n",
        "df_metrics_wpct.groupby(\"model\").mean()[metrics.keys()]"
      ]
    },
    {
      "cell_type": "code",
      "execution_count": null,
      "metadata": {
        "colab": {
          "base_uri": "https://localhost:8080/",
          "height": 175
        },
        "id": "8fP-kF5HoyvN",
        "outputId": "7b489bc3-7961-4de1-f726-c1d0740d4d62"
      },
      "outputs": [
        {
          "data": {
            "text/html": [
              "\n",
              "  <div id=\"df-a52d6db2-22d1-4bd1-9f55-4849851c501d\">\n",
              "    <div class=\"colab-df-container\">\n",
              "      <div>\n",
              "<style scoped>\n",
              "    .dataframe tbody tr th:only-of-type {\n",
              "        vertical-align: middle;\n",
              "    }\n",
              "\n",
              "    .dataframe tbody tr th {\n",
              "        vertical-align: top;\n",
              "    }\n",
              "\n",
              "    .dataframe thead th {\n",
              "        text-align: right;\n",
              "    }\n",
              "</style>\n",
              "<table border=\"1\" class=\"dataframe\">\n",
              "  <thead>\n",
              "    <tr style=\"text-align: right;\">\n",
              "      <th></th>\n",
              "      <th>prec@10</th>\n",
              "      <th>recall@10</th>\n",
              "      <th>map@10</th>\n",
              "      <th>novelty</th>\n",
              "      <th>serendipity</th>\n",
              "    </tr>\n",
              "    <tr>\n",
              "      <th>model</th>\n",
              "      <th></th>\n",
              "      <th></th>\n",
              "      <th></th>\n",
              "      <th></th>\n",
              "      <th></th>\n",
              "    </tr>\n",
              "  </thead>\n",
              "  <tbody>\n",
              "    <tr>\n",
              "      <th>bm25</th>\n",
              "      <td>0.000307</td>\n",
              "      <td>0.000615</td>\n",
              "      <td>0.000201</td>\n",
              "      <td>0.029986</td>\n",
              "      <td>0.000004</td>\n",
              "    </tr>\n",
              "    <tr>\n",
              "      <th>cosine</th>\n",
              "      <td>0.000212</td>\n",
              "      <td>0.000425</td>\n",
              "      <td>0.000144</td>\n",
              "      <td>0.060839</td>\n",
              "      <td>0.000008</td>\n",
              "    </tr>\n",
              "    <tr>\n",
              "      <th>tfidf</th>\n",
              "      <td>0.000236</td>\n",
              "      <td>0.000473</td>\n",
              "      <td>0.000202</td>\n",
              "      <td>0.017995</td>\n",
              "      <td>0.000008</td>\n",
              "    </tr>\n",
              "  </tbody>\n",
              "</table>\n",
              "</div>\n",
              "      <button class=\"colab-df-convert\" onclick=\"convertToInteractive('df-a52d6db2-22d1-4bd1-9f55-4849851c501d')\"\n",
              "              title=\"Convert this dataframe to an interactive table.\"\n",
              "              style=\"display:none;\">\n",
              "        \n",
              "  <svg xmlns=\"http://www.w3.org/2000/svg\" height=\"24px\"viewBox=\"0 0 24 24\"\n",
              "       width=\"24px\">\n",
              "    <path d=\"M0 0h24v24H0V0z\" fill=\"none\"/>\n",
              "    <path d=\"M18.56 5.44l.94 2.06.94-2.06 2.06-.94-2.06-.94-.94-2.06-.94 2.06-2.06.94zm-11 1L8.5 8.5l.94-2.06 2.06-.94-2.06-.94L8.5 2.5l-.94 2.06-2.06.94zm10 10l.94 2.06.94-2.06 2.06-.94-2.06-.94-.94-2.06-.94 2.06-2.06.94z\"/><path d=\"M17.41 7.96l-1.37-1.37c-.4-.4-.92-.59-1.43-.59-.52 0-1.04.2-1.43.59L10.3 9.45l-7.72 7.72c-.78.78-.78 2.05 0 2.83L4 21.41c.39.39.9.59 1.41.59.51 0 1.02-.2 1.41-.59l7.78-7.78 2.81-2.81c.8-.78.8-2.07 0-2.86zM5.41 20L4 18.59l7.72-7.72 1.47 1.35L5.41 20z\"/>\n",
              "  </svg>\n",
              "      </button>\n",
              "      \n",
              "  <style>\n",
              "    .colab-df-container {\n",
              "      display:flex;\n",
              "      flex-wrap:wrap;\n",
              "      gap: 12px;\n",
              "    }\n",
              "\n",
              "    .colab-df-convert {\n",
              "      background-color: #E8F0FE;\n",
              "      border: none;\n",
              "      border-radius: 50%;\n",
              "      cursor: pointer;\n",
              "      display: none;\n",
              "      fill: #1967D2;\n",
              "      height: 32px;\n",
              "      padding: 0 0 0 0;\n",
              "      width: 32px;\n",
              "    }\n",
              "\n",
              "    .colab-df-convert:hover {\n",
              "      background-color: #E2EBFA;\n",
              "      box-shadow: 0px 1px 2px rgba(60, 64, 67, 0.3), 0px 1px 3px 1px rgba(60, 64, 67, 0.15);\n",
              "      fill: #174EA6;\n",
              "    }\n",
              "\n",
              "    [theme=dark] .colab-df-convert {\n",
              "      background-color: #3B4455;\n",
              "      fill: #D2E3FC;\n",
              "    }\n",
              "\n",
              "    [theme=dark] .colab-df-convert:hover {\n",
              "      background-color: #434B5C;\n",
              "      box-shadow: 0px 1px 3px 1px rgba(0, 0, 0, 0.15);\n",
              "      filter: drop-shadow(0px 1px 2px rgba(0, 0, 0, 0.3));\n",
              "      fill: #FFFFFF;\n",
              "    }\n",
              "  </style>\n",
              "\n",
              "      <script>\n",
              "        const buttonEl =\n",
              "          document.querySelector('#df-a52d6db2-22d1-4bd1-9f55-4849851c501d button.colab-df-convert');\n",
              "        buttonEl.style.display =\n",
              "          google.colab.kernel.accessAllowed ? 'block' : 'none';\n",
              "\n",
              "        async function convertToInteractive(key) {\n",
              "          const element = document.querySelector('#df-a52d6db2-22d1-4bd1-9f55-4849851c501d');\n",
              "          const dataTable =\n",
              "            await google.colab.kernel.invokeFunction('convertToInteractive',\n",
              "                                                     [key], {});\n",
              "          if (!dataTable) return;\n",
              "\n",
              "          const docLinkHtml = 'Like what you see? Visit the ' +\n",
              "            '<a target=\"_blank\" href=https://colab.research.google.com/notebooks/data_table.ipynb>data table notebook</a>'\n",
              "            + ' to learn more about interactive tables.';\n",
              "          element.innerHTML = '';\n",
              "          dataTable['output_type'] = 'display_data';\n",
              "          await google.colab.output.renderOutput(dataTable, element);\n",
              "          const docLink = document.createElement('div');\n",
              "          docLink.innerHTML = docLinkHtml;\n",
              "          element.appendChild(docLink);\n",
              "        }\n",
              "      </script>\n",
              "    </div>\n",
              "  </div>\n",
              "  "
            ],
            "text/plain": [
              "         prec@10  recall@10    map@10   novelty  serendipity\n",
              "model                                                       \n",
              "bm25    0.000307   0.000615  0.000201  0.029986     0.000004\n",
              "cosine  0.000212   0.000425  0.000144  0.060839     0.000008\n",
              "tfidf   0.000236   0.000473  0.000202  0.017995     0.000008"
            ]
          },
          "execution_count": 124,
          "metadata": {},
          "output_type": "execute_result"
        }
      ],
      "source": [
        "df_metrics_wpct.groupby(\"model\").std()[metrics.keys()]"
      ]
    },
    {
      "cell_type": "markdown",
      "metadata": {
        "id": "3GvyxJoP65iT"
      },
      "source": [
        "[[Комментарий]]"
      ]
    },
    {
      "cell_type": "code",
      "execution_count": null,
      "metadata": {
        "colab": {
          "base_uri": "https://localhost:8080/"
        },
        "id": "mI4lx-jB6gqE",
        "outputId": "3ec6528e-a416-4823-9dce-72d358770e92"
      },
      "outputs": [
        {
          "data": {
            "text/html": [
              "\n",
              "  <div id=\"df-409547a1-2112-4e8a-b9f8-9f69050411ee\">\n",
              "    <div class=\"colab-df-container\">\n",
              "      <div>\n",
              "<style scoped>\n",
              "    .dataframe tbody tr th:only-of-type {\n",
              "        vertical-align: middle;\n",
              "    }\n",
              "\n",
              "    .dataframe tbody tr th {\n",
              "        vertical-align: top;\n",
              "    }\n",
              "\n",
              "    .dataframe thead th {\n",
              "        text-align: right;\n",
              "    }\n",
              "</style>\n",
              "<table border=\"1\" class=\"dataframe\">\n",
              "  <thead>\n",
              "    <tr style=\"text-align: right;\">\n",
              "      <th></th>\n",
              "      <th>prec@10</th>\n",
              "      <th>recall@10</th>\n",
              "      <th>map@10</th>\n",
              "      <th>novelty</th>\n",
              "      <th>serendipity</th>\n",
              "    </tr>\n",
              "    <tr>\n",
              "      <th>model</th>\n",
              "      <th></th>\n",
              "      <th></th>\n",
              "      <th></th>\n",
              "      <th></th>\n",
              "      <th></th>\n",
              "    </tr>\n",
              "  </thead>\n",
              "  <tbody>\n",
              "    <tr>\n",
              "      <th>bm25</th>\n",
              "      <td>0.000710</td>\n",
              "      <td>0.001421</td>\n",
              "      <td>0.000405</td>\n",
              "      <td>12.389601</td>\n",
              "      <td>0.000026</td>\n",
              "    </tr>\n",
              "    <tr>\n",
              "      <th>cosine</th>\n",
              "      <td>0.001772</td>\n",
              "      <td>0.003544</td>\n",
              "      <td>0.000917</td>\n",
              "      <td>10.289630</td>\n",
              "      <td>0.000053</td>\n",
              "    </tr>\n",
              "    <tr>\n",
              "      <th>tfidf</th>\n",
              "      <td>0.003760</td>\n",
              "      <td>0.007519</td>\n",
              "      <td>0.001979</td>\n",
              "      <td>9.349572</td>\n",
              "      <td>0.000101</td>\n",
              "    </tr>\n",
              "  </tbody>\n",
              "</table>\n",
              "</div>\n",
              "      <button class=\"colab-df-convert\" onclick=\"convertToInteractive('df-409547a1-2112-4e8a-b9f8-9f69050411ee')\"\n",
              "              title=\"Convert this dataframe to an interactive table.\"\n",
              "              style=\"display:none;\">\n",
              "        \n",
              "  <svg xmlns=\"http://www.w3.org/2000/svg\" height=\"24px\"viewBox=\"0 0 24 24\"\n",
              "       width=\"24px\">\n",
              "    <path d=\"M0 0h24v24H0V0z\" fill=\"none\"/>\n",
              "    <path d=\"M18.56 5.44l.94 2.06.94-2.06 2.06-.94-2.06-.94-.94-2.06-.94 2.06-2.06.94zm-11 1L8.5 8.5l.94-2.06 2.06-.94-2.06-.94L8.5 2.5l-.94 2.06-2.06.94zm10 10l.94 2.06.94-2.06 2.06-.94-2.06-.94-.94-2.06-.94 2.06-2.06.94z\"/><path d=\"M17.41 7.96l-1.37-1.37c-.4-.4-.92-.59-1.43-.59-.52 0-1.04.2-1.43.59L10.3 9.45l-7.72 7.72c-.78.78-.78 2.05 0 2.83L4 21.41c.39.39.9.59 1.41.59.51 0 1.02-.2 1.41-.59l7.78-7.78 2.81-2.81c.8-.78.8-2.07 0-2.86zM5.41 20L4 18.59l7.72-7.72 1.47 1.35L5.41 20z\"/>\n",
              "  </svg>\n",
              "      </button>\n",
              "      \n",
              "  <style>\n",
              "    .colab-df-container {\n",
              "      display:flex;\n",
              "      flex-wrap:wrap;\n",
              "      gap: 12px;\n",
              "    }\n",
              "\n",
              "    .colab-df-convert {\n",
              "      background-color: #E8F0FE;\n",
              "      border: none;\n",
              "      border-radius: 50%;\n",
              "      cursor: pointer;\n",
              "      display: none;\n",
              "      fill: #1967D2;\n",
              "      height: 32px;\n",
              "      padding: 0 0 0 0;\n",
              "      width: 32px;\n",
              "    }\n",
              "\n",
              "    .colab-df-convert:hover {\n",
              "      background-color: #E2EBFA;\n",
              "      box-shadow: 0px 1px 2px rgba(60, 64, 67, 0.3), 0px 1px 3px 1px rgba(60, 64, 67, 0.15);\n",
              "      fill: #174EA6;\n",
              "    }\n",
              "\n",
              "    [theme=dark] .colab-df-convert {\n",
              "      background-color: #3B4455;\n",
              "      fill: #D2E3FC;\n",
              "    }\n",
              "\n",
              "    [theme=dark] .colab-df-convert:hover {\n",
              "      background-color: #434B5C;\n",
              "      box-shadow: 0px 1px 3px 1px rgba(0, 0, 0, 0.15);\n",
              "      filter: drop-shadow(0px 1px 2px rgba(0, 0, 0, 0.3));\n",
              "      fill: #FFFFFF;\n",
              "    }\n",
              "  </style>\n",
              "\n",
              "      <script>\n",
              "        const buttonEl =\n",
              "          document.querySelector('#df-409547a1-2112-4e8a-b9f8-9f69050411ee button.colab-df-convert');\n",
              "        buttonEl.style.display =\n",
              "          google.colab.kernel.accessAllowed ? 'block' : 'none';\n",
              "\n",
              "        async function convertToInteractive(key) {\n",
              "          const element = document.querySelector('#df-409547a1-2112-4e8a-b9f8-9f69050411ee');\n",
              "          const dataTable =\n",
              "            await google.colab.kernel.invokeFunction('convertToInteractive',\n",
              "                                                     [key], {});\n",
              "          if (!dataTable) return;\n",
              "\n",
              "          const docLinkHtml = 'Like what you see? Visit the ' +\n",
              "            '<a target=\"_blank\" href=https://colab.research.google.com/notebooks/data_table.ipynb>data table notebook</a>'\n",
              "            + ' to learn more about interactive tables.';\n",
              "          element.innerHTML = '';\n",
              "          dataTable['output_type'] = 'display_data';\n",
              "          await google.colab.output.renderOutput(dataTable, element);\n",
              "          const docLink = document.createElement('div');\n",
              "          docLink.innerHTML = docLinkHtml;\n",
              "          element.appendChild(docLink);\n",
              "        }\n",
              "      </script>\n",
              "    </div>\n",
              "  </div>\n",
              "  "
            ],
            "text/plain": [
              "         prec@10  recall@10    map@10    novelty  serendipity\n",
              "model                                                        \n",
              "bm25    0.000710   0.001421  0.000405  12.389601     0.000026\n",
              "cosine  0.001772   0.003544  0.000917  10.289630     0.000053\n",
              "tfidf   0.003760   0.007519  0.001979   9.349572     0.000101"
            ]
          },
          "execution_count": 9,
          "metadata": {},
          "output_type": "execute_result"
        }
      ],
      "source": [
        "df_metrics_dur = pd.read_csv(f\"/content/drive/MyDrive/RecSys MTC/practice3/models/df_metrics_total_dur.csv\")\n",
        "df_metrics_dur.groupby(\"model\").mean()[metrics.keys()]"
      ]
    },
    {
      "cell_type": "code",
      "execution_count": null,
      "metadata": {
        "colab": {
          "base_uri": "https://localhost:8080/"
        },
        "id": "Wl3TQHxp6ri5",
        "outputId": "eb43e657-86cf-4e22-d6b7-761bcb545803"
      },
      "outputs": [
        {
          "data": {
            "text/html": [
              "\n",
              "  <div id=\"df-83e8fe7a-50b4-4a0d-bff3-8e6e7ae356b1\">\n",
              "    <div class=\"colab-df-container\">\n",
              "      <div>\n",
              "<style scoped>\n",
              "    .dataframe tbody tr th:only-of-type {\n",
              "        vertical-align: middle;\n",
              "    }\n",
              "\n",
              "    .dataframe tbody tr th {\n",
              "        vertical-align: top;\n",
              "    }\n",
              "\n",
              "    .dataframe thead th {\n",
              "        text-align: right;\n",
              "    }\n",
              "</style>\n",
              "<table border=\"1\" class=\"dataframe\">\n",
              "  <thead>\n",
              "    <tr style=\"text-align: right;\">\n",
              "      <th></th>\n",
              "      <th>prec@10</th>\n",
              "      <th>recall@10</th>\n",
              "      <th>map@10</th>\n",
              "      <th>novelty</th>\n",
              "      <th>serendipity</th>\n",
              "    </tr>\n",
              "    <tr>\n",
              "      <th>model</th>\n",
              "      <th></th>\n",
              "      <th></th>\n",
              "      <th></th>\n",
              "      <th></th>\n",
              "      <th></th>\n",
              "    </tr>\n",
              "  </thead>\n",
              "  <tbody>\n",
              "    <tr>\n",
              "      <th>bm25</th>\n",
              "      <td>0.000100</td>\n",
              "      <td>0.000201</td>\n",
              "      <td>0.000049</td>\n",
              "      <td>0.156868</td>\n",
              "      <td>0.000004</td>\n",
              "    </tr>\n",
              "    <tr>\n",
              "      <th>cosine</th>\n",
              "      <td>0.000142</td>\n",
              "      <td>0.000285</td>\n",
              "      <td>0.000075</td>\n",
              "      <td>0.061141</td>\n",
              "      <td>0.000004</td>\n",
              "    </tr>\n",
              "    <tr>\n",
              "      <th>tfidf</th>\n",
              "      <td>0.000148</td>\n",
              "      <td>0.000295</td>\n",
              "      <td>0.000120</td>\n",
              "      <td>0.021250</td>\n",
              "      <td>0.000006</td>\n",
              "    </tr>\n",
              "  </tbody>\n",
              "</table>\n",
              "</div>\n",
              "      <button class=\"colab-df-convert\" onclick=\"convertToInteractive('df-83e8fe7a-50b4-4a0d-bff3-8e6e7ae356b1')\"\n",
              "              title=\"Convert this dataframe to an interactive table.\"\n",
              "              style=\"display:none;\">\n",
              "        \n",
              "  <svg xmlns=\"http://www.w3.org/2000/svg\" height=\"24px\"viewBox=\"0 0 24 24\"\n",
              "       width=\"24px\">\n",
              "    <path d=\"M0 0h24v24H0V0z\" fill=\"none\"/>\n",
              "    <path d=\"M18.56 5.44l.94 2.06.94-2.06 2.06-.94-2.06-.94-.94-2.06-.94 2.06-2.06.94zm-11 1L8.5 8.5l.94-2.06 2.06-.94-2.06-.94L8.5 2.5l-.94 2.06-2.06.94zm10 10l.94 2.06.94-2.06 2.06-.94-2.06-.94-.94-2.06-.94 2.06-2.06.94z\"/><path d=\"M17.41 7.96l-1.37-1.37c-.4-.4-.92-.59-1.43-.59-.52 0-1.04.2-1.43.59L10.3 9.45l-7.72 7.72c-.78.78-.78 2.05 0 2.83L4 21.41c.39.39.9.59 1.41.59.51 0 1.02-.2 1.41-.59l7.78-7.78 2.81-2.81c.8-.78.8-2.07 0-2.86zM5.41 20L4 18.59l7.72-7.72 1.47 1.35L5.41 20z\"/>\n",
              "  </svg>\n",
              "      </button>\n",
              "      \n",
              "  <style>\n",
              "    .colab-df-container {\n",
              "      display:flex;\n",
              "      flex-wrap:wrap;\n",
              "      gap: 12px;\n",
              "    }\n",
              "\n",
              "    .colab-df-convert {\n",
              "      background-color: #E8F0FE;\n",
              "      border: none;\n",
              "      border-radius: 50%;\n",
              "      cursor: pointer;\n",
              "      display: none;\n",
              "      fill: #1967D2;\n",
              "      height: 32px;\n",
              "      padding: 0 0 0 0;\n",
              "      width: 32px;\n",
              "    }\n",
              "\n",
              "    .colab-df-convert:hover {\n",
              "      background-color: #E2EBFA;\n",
              "      box-shadow: 0px 1px 2px rgba(60, 64, 67, 0.3), 0px 1px 3px 1px rgba(60, 64, 67, 0.15);\n",
              "      fill: #174EA6;\n",
              "    }\n",
              "\n",
              "    [theme=dark] .colab-df-convert {\n",
              "      background-color: #3B4455;\n",
              "      fill: #D2E3FC;\n",
              "    }\n",
              "\n",
              "    [theme=dark] .colab-df-convert:hover {\n",
              "      background-color: #434B5C;\n",
              "      box-shadow: 0px 1px 3px 1px rgba(0, 0, 0, 0.15);\n",
              "      filter: drop-shadow(0px 1px 2px rgba(0, 0, 0, 0.3));\n",
              "      fill: #FFFFFF;\n",
              "    }\n",
              "  </style>\n",
              "\n",
              "      <script>\n",
              "        const buttonEl =\n",
              "          document.querySelector('#df-83e8fe7a-50b4-4a0d-bff3-8e6e7ae356b1 button.colab-df-convert');\n",
              "        buttonEl.style.display =\n",
              "          google.colab.kernel.accessAllowed ? 'block' : 'none';\n",
              "\n",
              "        async function convertToInteractive(key) {\n",
              "          const element = document.querySelector('#df-83e8fe7a-50b4-4a0d-bff3-8e6e7ae356b1');\n",
              "          const dataTable =\n",
              "            await google.colab.kernel.invokeFunction('convertToInteractive',\n",
              "                                                     [key], {});\n",
              "          if (!dataTable) return;\n",
              "\n",
              "          const docLinkHtml = 'Like what you see? Visit the ' +\n",
              "            '<a target=\"_blank\" href=https://colab.research.google.com/notebooks/data_table.ipynb>data table notebook</a>'\n",
              "            + ' to learn more about interactive tables.';\n",
              "          element.innerHTML = '';\n",
              "          dataTable['output_type'] = 'display_data';\n",
              "          await google.colab.output.renderOutput(dataTable, element);\n",
              "          const docLink = document.createElement('div');\n",
              "          docLink.innerHTML = docLinkHtml;\n",
              "          element.appendChild(docLink);\n",
              "        }\n",
              "      </script>\n",
              "    </div>\n",
              "  </div>\n",
              "  "
            ],
            "text/plain": [
              "         prec@10  recall@10    map@10   novelty  serendipity\n",
              "model                                                       \n",
              "bm25    0.000100   0.000201  0.000049  0.156868     0.000004\n",
              "cosine  0.000142   0.000285  0.000075  0.061141     0.000004\n",
              "tfidf   0.000148   0.000295  0.000120  0.021250     0.000006"
            ]
          },
          "execution_count": 10,
          "metadata": {},
          "output_type": "execute_result"
        }
      ],
      "source": [
        "df_metrics_dur.groupby(\"model\").std()[metrics.keys()]"
      ]
    },
    {
      "cell_type": "markdown",
      "metadata": {
        "id": "sCXmE_1V732i"
      },
      "source": [
        "#### Выбор модели для сервиса. Обучение на полном наборе горячих пользователей\n",
        "\n",
        "Лучшая модель по результатам кросс-валидации - это:\n",
        "\n",
        "**BM25Recommender с процентом просмотренного \"watched_pct\"** в весах разреженной матрицы взаимодействий"
      ]
    },
    {
      "cell_type": "code",
      "execution_count": null,
      "metadata": {
        "id": "Mus8IE5Y73SY"
      },
      "outputs": [],
      "source": [
        "# Можно 1) потюнить гиперпарамтеры K1, B. (N_users?)\n",
        "# можно 2) пересмотреть схему валидации\n",
        "best_model = UserKnn(model=BM25Recommender(K1=1.2, B=0.75), N_users=50)\n",
        "\n",
        "best_model.fit(hot_interaсtions[[\"user_id\", \"item_id\", \"watched_pct\"]], weight_col=\"watched_pct\")\n",
        "\n",
        "# мне пока не получилось запердиктить сразу для 145 тысяч пользователей, нехватка памяти для операции apply, которую предложил Даниэль\n",
        "# думаю разбить разбить горячих пользователей на более мелкие таблицы\n",
        "hot_recs = best_model.predict(hot_interaсtions[[\"user_id\"]], N_recs=10)\n",
        "hot_recs.head(30)"
      ]
    },
    {
      "cell_type": "code",
      "execution_count": null,
      "metadata": {
        "id": "HBJLCMF8tkXc"
      },
      "outputs": [],
      "source": [
        "hot_recs"
      ]
    },
    {
      "cell_type": "code",
      "execution_count": null,
      "metadata": {
        "id": "rTG5kg1_t_MW"
      },
      "outputs": [],
      "source": [
        "save_name = f\"best_hot_bm25_watched_pct\"\n",
        "with open(f'/content/drive/MyDrive/RecSys MTC/practice3/models/{save_name}.dill', 'wb') as f:\n",
        "    dill.dump(best_model, f)"
      ]
    },
    {
      "cell_type": "code",
      "execution_count": null,
      "metadata": {
        "id": "xjJKIfViw7u4"
      },
      "outputs": [],
      "source": [
        "hot_recs.to_csv(f'/content/drive/MyDrive/RecSys MTC/practice3/models/{save_name}.csv', index=False)"
      ]
    },
    {
      "cell_type": "markdown",
      "metadata": {
        "id": "fgoq0dRo02a4"
      },
      "source": [
        "## 2. Тёплые и Холодные пользователи"
      ]
    },
    {
      "cell_type": "code",
      "execution_count": 34,
      "metadata": {},
      "outputs": [],
      "source": [
        "# для теплых и холодных пользователей предлагается использовать бейзлайн с популярными "
      ]
    },
    {
      "cell_type": "code",
      "execution_count": 35,
      "metadata": {},
      "outputs": [
        {
          "data": {
            "text/html": [
              "<div>\n",
              "<style scoped>\n",
              "    .dataframe tbody tr th:only-of-type {\n",
              "        vertical-align: middle;\n",
              "    }\n",
              "\n",
              "    .dataframe tbody tr th {\n",
              "        vertical-align: top;\n",
              "    }\n",
              "\n",
              "    .dataframe thead th {\n",
              "        text-align: right;\n",
              "    }\n",
              "</style>\n",
              "<table border=\"1\" class=\"dataframe\">\n",
              "  <thead>\n",
              "    <tr style=\"text-align: right;\">\n",
              "      <th></th>\n",
              "      <th>user_id</th>\n",
              "      <th>item_id</th>\n",
              "      <th>datetime</th>\n",
              "      <th>total_dur</th>\n",
              "      <th>watched_pct</th>\n",
              "    </tr>\n",
              "  </thead>\n",
              "  <tbody>\n",
              "    <tr>\n",
              "      <th>3590116</th>\n",
              "      <td>0</td>\n",
              "      <td>12192</td>\n",
              "      <td>2021-07-16</td>\n",
              "      <td>89</td>\n",
              "      <td>0.0</td>\n",
              "    </tr>\n",
              "  </tbody>\n",
              "</table>\n",
              "</div>"
            ],
            "text/plain": [
              "         user_id  item_id   datetime  total_dur  watched_pct\n",
              "3590116        0    12192 2021-07-16         89          0.0"
            ]
          },
          "execution_count": 35,
          "metadata": {},
          "output_type": "execute_result"
        }
      ],
      "source": [
        "warm_interaсtions.head(1)"
      ]
    },
    {
      "cell_type": "code",
      "execution_count": 71,
      "metadata": {},
      "outputs": [],
      "source": [
        "hot_users_df = users.loc[users.user_id.isin(hot_users)]"
      ]
    },
    {
      "cell_type": "code",
      "execution_count": 72,
      "metadata": {},
      "outputs": [],
      "source": [
        "# user feature preparing\n",
        "\n",
        "\n",
        "# income\n",
        "income_feature = pd.DataFrame(\n",
        "    {\n",
        "        \"id\": hot_users_df[\"user_id\"],\n",
        "        \"value\": hot_users_df[\"income\"],\n",
        "        \"feature\": \"income\",\n",
        "    }\n",
        ")\n",
        "\n",
        "# sex\n",
        "sex_feature = pd.DataFrame(\n",
        "    {\n",
        "        \"id\": hot_users_df[\"user_id\"],\n",
        "        \"value\": hot_users_df[\"sex\"],\n",
        "        \"feature\": \"sex\",\n",
        "    }\n",
        ")\n",
        "\n",
        "# age\n",
        "age_feature = pd.DataFrame(\n",
        "    {\n",
        "        \"id\": hot_users_df[\"user_id\"],\n",
        "        \"value\": hot_users_df[\"age\"],\n",
        "        \"feature\": \"age\",\n",
        "    }\n",
        ")\n",
        "\n",
        "user_features = pd.concat([income_feature, sex_feature, age_feature])"
      ]
    },
    {
      "cell_type": "code",
      "execution_count": 73,
      "metadata": {},
      "outputs": [
        {
          "data": {
            "text/html": [
              "<div>\n",
              "<style scoped>\n",
              "    .dataframe tbody tr th:only-of-type {\n",
              "        vertical-align: middle;\n",
              "    }\n",
              "\n",
              "    .dataframe tbody tr th {\n",
              "        vertical-align: top;\n",
              "    }\n",
              "\n",
              "    .dataframe thead th {\n",
              "        text-align: right;\n",
              "    }\n",
              "</style>\n",
              "<table border=\"1\" class=\"dataframe\">\n",
              "  <thead>\n",
              "    <tr style=\"text-align: right;\">\n",
              "      <th></th>\n",
              "      <th>id</th>\n",
              "      <th>value</th>\n",
              "      <th>feature</th>\n",
              "    </tr>\n",
              "  </thead>\n",
              "  <tbody>\n",
              "    <tr>\n",
              "      <th>1</th>\n",
              "      <td>962099</td>\n",
              "      <td>income_20_40</td>\n",
              "      <td>income</td>\n",
              "    </tr>\n",
              "    <tr>\n",
              "      <th>3</th>\n",
              "      <td>721985</td>\n",
              "      <td>income_20_40</td>\n",
              "      <td>income</td>\n",
              "    </tr>\n",
              "    <tr>\n",
              "      <th>4</th>\n",
              "      <td>704055</td>\n",
              "      <td>income_60_90</td>\n",
              "      <td>income</td>\n",
              "    </tr>\n",
              "    <tr>\n",
              "      <th>8</th>\n",
              "      <td>846063</td>\n",
              "      <td>income_40_60</td>\n",
              "      <td>income</td>\n",
              "    </tr>\n",
              "    <tr>\n",
              "      <th>18</th>\n",
              "      <td>155520</td>\n",
              "      <td>income_40_60</td>\n",
              "      <td>income</td>\n",
              "    </tr>\n",
              "  </tbody>\n",
              "</table>\n",
              "</div>"
            ],
            "text/plain": [
              "        id         value feature\n",
              "1   962099  income_20_40  income\n",
              "3   721985  income_20_40  income\n",
              "4   704055  income_60_90  income\n",
              "8   846063  income_40_60  income\n",
              "18  155520  income_40_60  income"
            ]
          },
          "execution_count": 73,
          "metadata": {},
          "output_type": "execute_result"
        }
      ],
      "source": [
        "user_features.head()"
      ]
    },
    {
      "cell_type": "code",
      "execution_count": 56,
      "metadata": {},
      "outputs": [
        {
          "data": {
            "text/html": [
              "<div>\n",
              "<style scoped>\n",
              "    .dataframe tbody tr th:only-of-type {\n",
              "        vertical-align: middle;\n",
              "    }\n",
              "\n",
              "    .dataframe tbody tr th {\n",
              "        vertical-align: top;\n",
              "    }\n",
              "\n",
              "    .dataframe thead th {\n",
              "        text-align: right;\n",
              "    }\n",
              "</style>\n",
              "<table border=\"1\" class=\"dataframe\">\n",
              "  <thead>\n",
              "    <tr style=\"text-align: right;\">\n",
              "      <th></th>\n",
              "      <th>item_id</th>\n",
              "      <th>content_type</th>\n",
              "      <th>title</th>\n",
              "      <th>title_orig</th>\n",
              "      <th>release_year</th>\n",
              "      <th>genres</th>\n",
              "      <th>countries</th>\n",
              "      <th>for_kids</th>\n",
              "      <th>age_rating</th>\n",
              "      <th>studios</th>\n",
              "      <th>directors</th>\n",
              "      <th>actors</th>\n",
              "      <th>description</th>\n",
              "      <th>keywords</th>\n",
              "      <th>genre</th>\n",
              "    </tr>\n",
              "  </thead>\n",
              "  <tbody>\n",
              "    <tr>\n",
              "      <th>0</th>\n",
              "      <td>10711</td>\n",
              "      <td>film</td>\n",
              "      <td>Поговори с ней</td>\n",
              "      <td>Hable con ella</td>\n",
              "      <td>2002.0</td>\n",
              "      <td>драмы, зарубежные, детективы, мелодрамы</td>\n",
              "      <td>Испания</td>\n",
              "      <td>NaN</td>\n",
              "      <td>16.0</td>\n",
              "      <td>NaN</td>\n",
              "      <td>Педро Альмодовар</td>\n",
              "      <td>Адольфо Фернандес, Ана Фернандес, Дарио Грандинетти, Джеральдин Чаплин, Елена Анайя, Каэтано Велозо, Леонор Уотлинг, Лола Дуэньяс, Лолес Леон, Малу Айродо, Мариола Фуэнтес, Пас Вега, Пина Бауш, Ро...</td>\n",
              "      <td>Мелодрама легендарного Педро Альмодовара «Поговори с ней» в 2003 году получила премию «Оскар» за лучший сценарий.  Журналист Марко берет интервью у знаменитой женщины-тореро Лидии и вскоре влюбляе...</td>\n",
              "      <td>Поговори, ней, 2002, Испания, друзья, любовь, сильные, женщины, преодоление, трудностей, отношения, дружба, отношения, паре, отношения, мужчины, женщины, романтические, отношения, потеря, близких,...</td>\n",
              "      <td>[драмы,  зарубежные,  детективы,  мелодрамы]</td>\n",
              "    </tr>\n",
              "  </tbody>\n",
              "</table>\n",
              "</div>"
            ],
            "text/plain": [
              "   item_id content_type           title      title_orig  release_year  \\\n",
              "0    10711         film  Поговори с ней  Hable con ella        2002.0   \n",
              "\n",
              "                                    genres countries  for_kids  age_rating  \\\n",
              "0  драмы, зарубежные, детективы, мелодрамы   Испания       NaN        16.0   \n",
              "\n",
              "  studios         directors  \\\n",
              "0     NaN  Педро Альмодовар   \n",
              "\n",
              "                                                                                                                                                                                                    actors  \\\n",
              "0  Адольфо Фернандес, Ана Фернандес, Дарио Грандинетти, Джеральдин Чаплин, Елена Анайя, Каэтано Велозо, Леонор Уотлинг, Лола Дуэньяс, Лолес Леон, Малу Айродо, Мариола Фуэнтес, Пас Вега, Пина Бауш, Ро...   \n",
              "\n",
              "                                                                                                                                                                                               description  \\\n",
              "0  Мелодрама легендарного Педро Альмодовара «Поговори с ней» в 2003 году получила премию «Оскар» за лучший сценарий.  Журналист Марко берет интервью у знаменитой женщины-тореро Лидии и вскоре влюбляе...   \n",
              "\n",
              "                                                                                                                                                                                                  keywords  \\\n",
              "0  Поговори, ней, 2002, Испания, друзья, любовь, сильные, женщины, преодоление, трудностей, отношения, дружба, отношения, паре, отношения, мужчины, женщины, романтические, отношения, потеря, близких,...   \n",
              "\n",
              "                                          genre  \n",
              "0  [драмы,  зарубежные,  детективы,  мелодрамы]  "
            ]
          },
          "execution_count": 56,
          "metadata": {},
          "output_type": "execute_result"
        }
      ],
      "source": [
        "items.head(1)"
      ]
    },
    {
      "cell_type": "code",
      "execution_count": 135,
      "metadata": {},
      "outputs": [],
      "source": [
        "# item features \n",
        "hot_items = items.loc[items.item_id.isin(hot_interaсtions['item_id'])]\n",
        "\n",
        "# year \n",
        "_, bins = pd.qcut(hot_items[\"release_year\"], 10, retbins=True)\n",
        "labels = bins[:-1]\n",
        "year_feature = pd.DataFrame(\n",
        "    {\n",
        "        \"id\": hot_items[\"item_id\"],\n",
        "        \"value\": pd.cut(hot_items[\"release_year\"], bins=bins, labels=bins[:-1]),\n",
        "        \"feature\": \"release_year\",\n",
        "    }\n",
        ")\n",
        "\n",
        "# genre \n",
        "hot_items[\"genre\"] = hot_items[\"genres\"].str.split(\",\")\n",
        "genre_feature = hot_items[[\"item_id\", \"genre\"]].explode(\"genre\")\n",
        "genre_feature.columns = [\"id\", \"value\"]\n",
        "genre_feature[\"feature\"] = \"genre\"\n",
        "\n",
        "# age rating\n",
        "age_feature = pd.DataFrame(\n",
        "    {\n",
        "        \"id\": hot_items[\"item_id\"],\n",
        "        \"value\": hot_items['age_rating'],\n",
        "        \"feature\": \"age_rating\",\n",
        "    }\n",
        ")\n",
        "\n",
        "# country\n",
        "hot_items[\"country\"] = hot_items[\"countries\"].str.split(\",\")\n",
        "country_feature = hot_items[[\"item_id\", \"country\"]].explode(\"country\")\n",
        "country_feature.columns = [\"id\", \"value\"]\n",
        "country_feature[\"feature\"] = \"country\"\n",
        "\n"
      ]
    },
    {
      "cell_type": "code",
      "execution_count": 136,
      "metadata": {},
      "outputs": [],
      "source": [
        "item_feat = pd.concat([genre_feature, year_feature, age_feature, country_feature])"
      ]
    },
    {
      "cell_type": "code",
      "execution_count": 137,
      "metadata": {},
      "outputs": [
        {
          "data": {
            "text/html": [
              "<div>\n",
              "<style scoped>\n",
              "    .dataframe tbody tr th:only-of-type {\n",
              "        vertical-align: middle;\n",
              "    }\n",
              "\n",
              "    .dataframe tbody tr th {\n",
              "        vertical-align: top;\n",
              "    }\n",
              "\n",
              "    .dataframe thead th {\n",
              "        text-align: right;\n",
              "    }\n",
              "</style>\n",
              "<table border=\"1\" class=\"dataframe\">\n",
              "  <thead>\n",
              "    <tr style=\"text-align: right;\">\n",
              "      <th></th>\n",
              "      <th>id</th>\n",
              "      <th>value</th>\n",
              "      <th>feature</th>\n",
              "    </tr>\n",
              "  </thead>\n",
              "  <tbody>\n",
              "    <tr>\n",
              "      <th>0</th>\n",
              "      <td>10711</td>\n",
              "      <td>драмы</td>\n",
              "      <td>genre</td>\n",
              "    </tr>\n",
              "    <tr>\n",
              "      <th>0</th>\n",
              "      <td>10711</td>\n",
              "      <td>зарубежные</td>\n",
              "      <td>genre</td>\n",
              "    </tr>\n",
              "    <tr>\n",
              "      <th>0</th>\n",
              "      <td>10711</td>\n",
              "      <td>детективы</td>\n",
              "      <td>genre</td>\n",
              "    </tr>\n",
              "    <tr>\n",
              "      <th>0</th>\n",
              "      <td>10711</td>\n",
              "      <td>мелодрамы</td>\n",
              "      <td>genre</td>\n",
              "    </tr>\n",
              "    <tr>\n",
              "      <th>1</th>\n",
              "      <td>2508</td>\n",
              "      <td>зарубежные</td>\n",
              "      <td>genre</td>\n",
              "    </tr>\n",
              "  </tbody>\n",
              "</table>\n",
              "</div>"
            ],
            "text/plain": [
              "      id        value feature\n",
              "0  10711        драмы   genre\n",
              "0  10711   зарубежные   genre\n",
              "0  10711    детективы   genre\n",
              "0  10711    мелодрамы   genre\n",
              "1   2508   зарубежные   genre"
            ]
          },
          "execution_count": 137,
          "metadata": {},
          "output_type": "execute_result"
        }
      ],
      "source": [
        "item_feat.head()"
      ]
    },
    {
      "cell_type": "code",
      "execution_count": 138,
      "metadata": {},
      "outputs": [],
      "source": [
        "# construct dataset \n",
        "\n",
        "dataset = Dataset.construct(\n",
        "    interactions_df=hot_interaсtions,\n",
        "    user_features_df=user_features,\n",
        "    item_features_df=item_feat,\n",
        "    cat_item_features=['genre', 'release_year', 'age_rating', 'country'],\n",
        "    cat_user_features=['income', 'age', 'sex']\n",
        ")\n"
      ]
    },
    {
      "cell_type": "code",
      "execution_count": 139,
      "metadata": {},
      "outputs": [],
      "source": [
        "# модель популярного\n",
        "\n",
        "simple_popular = PopularModel(add_cold=True)\n",
        "simple_popular.fit(dataset);"
      ]
    },
    {
      "cell_type": "code",
      "execution_count": 201,
      "metadata": {},
      "outputs": [],
      "source": [
        "metrics = {\n",
        "    \"prec@10\": Precision(k=10),\n",
        "    \"recall@10\": Recall(k=10),\n",
        "    \"map@10\": MAP(k=10),\n",
        "    \"novelty\": MeanInvUserFreq(k=10),\n",
        "    \"serendipity\": Serendipity(k=10),\n",
        "}"
      ]
    },
    {
      "cell_type": "code",
      "execution_count": 208,
      "metadata": {},
      "outputs": [],
      "source": [
        "# TODO() \n",
        "# Отдельные рекомендации для теплых и холодных в зависимости от возраста дохода пола "
      ]
    },
    {
      "cell_type": "code",
      "execution_count": 305,
      "metadata": {},
      "outputs": [],
      "source": [
        "date_range = pd.date_range(\n",
        "    interactions.datetime.min(), \n",
        "    interactions.datetime.max()\n",
        ")\n",
        "calced_metrics = {}\n",
        "for i_fold, date in enumerate(date_range[:-1]):\n",
        "\n",
        "    train_ids = hot_interaсtions.loc[\n",
        "        hot_interaсtions[Columns.Datetime] == date\n",
        "    ].index\n",
        "    test_ids = hot_interaсtions.loc[\n",
        "        hot_interaсtions[Columns.Datetime] == date+pd.Timedelta(days=1)\n",
        "    ].index\n",
        "\n",
        "    X_train = hot_interaсtions.loc[train_ids].copy()\n",
        "    X_test = hot_interaсtions.loc[test_ids][Columns.UserItem].copy()\n",
        "\n",
        "    catalog = hot_interaсtions[Columns.Item].unique()\n",
        "\n",
        "    recos = simple_popular.recommend(\n",
        "        X_test[Columns.User], \n",
        "        dataset=dataset, \n",
        "        k=10, \n",
        "        filter_viewed=False\n",
        "    )\n",
        "    \n",
        "    metric_values = calc_metrics(\n",
        "                metrics,\n",
        "                reco=recos,\n",
        "                interactions=X_test,\n",
        "                prev_interactions=X_train,\n",
        "                catalog=catalog,\n",
        "            )\n",
        "    calced_metrics[f'{(date+pd.Timedelta(days=1)).strftime(\"%y-%m-%d\")}'] = metric_values"
      ]
    },
    {
      "cell_type": "code",
      "execution_count": 289,
      "metadata": {},
      "outputs": [
        {
          "data": {
            "text/html": [
              "<div>\n",
              "<style scoped>\n",
              "    .dataframe tbody tr th:only-of-type {\n",
              "        vertical-align: middle;\n",
              "    }\n",
              "\n",
              "    .dataframe tbody tr th {\n",
              "        vertical-align: top;\n",
              "    }\n",
              "\n",
              "    .dataframe thead th {\n",
              "        text-align: right;\n",
              "    }\n",
              "</style>\n",
              "<table border=\"1\" class=\"dataframe\">\n",
              "  <thead>\n",
              "    <tr style=\"text-align: right;\">\n",
              "      <th></th>\n",
              "      <th>prec@10</th>\n",
              "      <th>recall@10</th>\n",
              "      <th>map@10</th>\n",
              "      <th>novelty</th>\n",
              "      <th>serendipity</th>\n",
              "    </tr>\n",
              "  </thead>\n",
              "  <tbody>\n",
              "    <tr>\n",
              "      <th>2021-03-14</th>\n",
              "      <td>0.0</td>\n",
              "      <td>0.0</td>\n",
              "      <td>0.0</td>\n",
              "      <td>12.176485</td>\n",
              "      <td>0.0</td>\n",
              "    </tr>\n",
              "    <tr>\n",
              "      <th>2021-03-15</th>\n",
              "      <td>0.0</td>\n",
              "      <td>0.0</td>\n",
              "      <td>0.0</td>\n",
              "      <td>12.173989</td>\n",
              "      <td>0.0</td>\n",
              "    </tr>\n",
              "    <tr>\n",
              "      <th>2021-03-16</th>\n",
              "      <td>0.0</td>\n",
              "      <td>0.0</td>\n",
              "      <td>0.0</td>\n",
              "      <td>11.906139</td>\n",
              "      <td>0.0</td>\n",
              "    </tr>\n",
              "    <tr>\n",
              "      <th>2021-03-17</th>\n",
              "      <td>0.0</td>\n",
              "      <td>0.0</td>\n",
              "      <td>0.0</td>\n",
              "      <td>11.962896</td>\n",
              "      <td>0.0</td>\n",
              "    </tr>\n",
              "    <tr>\n",
              "      <th>2021-03-18</th>\n",
              "      <td>0.0</td>\n",
              "      <td>0.0</td>\n",
              "      <td>0.0</td>\n",
              "      <td>11.958190</td>\n",
              "      <td>0.0</td>\n",
              "    </tr>\n",
              "  </tbody>\n",
              "</table>\n",
              "</div>"
            ],
            "text/plain": [
              "            prec@10  recall@10  map@10    novelty  serendipity\n",
              "2021-03-14      0.0        0.0     0.0  12.176485          0.0\n",
              "2021-03-15      0.0        0.0     0.0  12.173989          0.0\n",
              "2021-03-16      0.0        0.0     0.0  11.906139          0.0\n",
              "2021-03-17      0.0        0.0     0.0  11.962896          0.0\n",
              "2021-03-18      0.0        0.0     0.0  11.958190          0.0"
            ]
          },
          "execution_count": 289,
          "metadata": {},
          "output_type": "execute_result"
        }
      ],
      "source": [
        "calced_metrics_df = pd.DataFrame(calced_metrics).T\n",
        "calced_metrics_df.head()"
      ]
    },
    {
      "cell_type": "code",
      "execution_count": 307,
      "metadata": {},
      "outputs": [
        {
          "data": {
            "image/png": "[encoded data removed]",
            "text/plain": [
              "<Figure size 1500x600 with 1 Axes>"
            ]
          },
          "metadata": {},
          "output_type": "display_data"
        }
      ],
      "source": [
        "# make plot \n",
        "\n",
        "x_tick = calced_metrics_df.index.values.copy()\n",
        "x_tick[::2] = ''\n",
        "\n",
        "fig, ax = plt.subplots(figsize=(15,6))\n",
        "\n",
        "ax = plt.plot(calced_metrics_df.drop(['novelty'],axis=1), )\n",
        "plt.vlines(x_tick, ymin=0, ymax=0.5, linestyles=':', colors='grey')\n",
        "plt.xticks(x_tick, )\n",
        "fig.autofmt_xdate(rotation=90)\n",
        "plt.legend(calced_metrics_df.drop(['novelty'],axis=1).columns)\n",
        "plt.title('Metrics for Pop model')\n",
        "\n",
        "plt.show()"
      ]
    },
    {
      "cell_type": "code",
      "execution_count": 313,
      "metadata": {},
      "outputs": [],
      "source": [
        "# save the model\n",
        "pickle.dump(simple_popular, open('../service/models/simple_popular.pickle', 'wb'))"
      ]
    },
    {
      "cell_type": "code",
      "execution_count": 314,
      "metadata": {},
      "outputs": [],
      "source": [
        "loaded_model = pickle.load(open('../service/models/simple_popular.pickle', 'rb'))"
      ]
    },
    {
      "cell_type": "code",
      "execution_count": 316,
      "metadata": {},
      "outputs": [
        {
          "data": {
            "text/html": [
              "<div>\n",
              "<style scoped>\n",
              "    .dataframe tbody tr th:only-of-type {\n",
              "        vertical-align: middle;\n",
              "    }\n",
              "\n",
              "    .dataframe tbody tr th {\n",
              "        vertical-align: top;\n",
              "    }\n",
              "\n",
              "    .dataframe thead th {\n",
              "        text-align: right;\n",
              "    }\n",
              "</style>\n",
              "<table border=\"1\" class=\"dataframe\">\n",
              "  <thead>\n",
              "    <tr style=\"text-align: right;\">\n",
              "      <th></th>\n",
              "      <th>user_id</th>\n",
              "      <th>item_id</th>\n",
              "      <th>score</th>\n",
              "      <th>rank</th>\n",
              "    </tr>\n",
              "  </thead>\n",
              "  <tbody>\n",
              "    <tr>\n",
              "      <th>0</th>\n",
              "      <td>106</td>\n",
              "      <td>10440</td>\n",
              "      <td>55181.0</td>\n",
              "      <td>1</td>\n",
              "    </tr>\n",
              "    <tr>\n",
              "      <th>1</th>\n",
              "      <td>106</td>\n",
              "      <td>9728</td>\n",
              "      <td>50629.0</td>\n",
              "      <td>2</td>\n",
              "    </tr>\n",
              "    <tr>\n",
              "      <th>2</th>\n",
              "      <td>106</td>\n",
              "      <td>15297</td>\n",
              "      <td>50588.0</td>\n",
              "      <td>3</td>\n",
              "    </tr>\n",
              "    <tr>\n",
              "      <th>3</th>\n",
              "      <td>106</td>\n",
              "      <td>13865</td>\n",
              "      <td>47553.0</td>\n",
              "      <td>4</td>\n",
              "    </tr>\n",
              "    <tr>\n",
              "      <th>4</th>\n",
              "      <td>106</td>\n",
              "      <td>4151</td>\n",
              "      <td>35645.0</td>\n",
              "      <td>5</td>\n",
              "    </tr>\n",
              "  </tbody>\n",
              "</table>\n",
              "</div>"
            ],
            "text/plain": [
              "   user_id  item_id    score  rank\n",
              "0      106    10440  55181.0     1\n",
              "1      106     9728  50629.0     2\n",
              "2      106    15297  50588.0     3\n",
              "3      106    13865  47553.0     4\n",
              "4      106     4151  35645.0     5"
            ]
          },
          "execution_count": 316,
          "metadata": {},
          "output_type": "execute_result"
        }
      ],
      "source": [
        "loaded_model.recommend(\n",
        "        X_test[Columns.User], \n",
        "        dataset=dataset, \n",
        "        k=10, \n",
        "        filter_viewed=False\n",
        "    ).head()"
      ]
    },
    {
      "cell_type": "markdown",
      "metadata": {
        "id": "eKkPJrBO9Ly3"
      },
      "source": [
        "## 3. Формирование оффлайн рекомендаций для всех пользователей"
      ]
    },
    {
      "cell_type": "code",
      "execution_count": 206,
      "metadata": {
        "id": "4AnAuvSy9VJi"
      },
      "outputs": [],
      "source": [
        "#TODO()\n",
        "\n",
        "# 1) дополнить недостающие рекомендации горячих до 10 штук. Чем?\n",
        "# 1.1) Можем попробовать докинуть популярные \n",
        "# 2) сформировать рекомендации для тёплых\n",
        "# 3) сформировать рекомендации для холодных\n",
        "# 2,3) Рекомендации для теплых и холодных -- это одна моделька"
      ]
    },
    {
      "cell_type": "code",
      "execution_count": null,
      "metadata": {
        "id": "KoKXdJ9noyqH"
      },
      "outputs": [],
      "source": []
    },
    {
      "cell_type": "code",
      "execution_count": null,
      "metadata": {
        "id": "8OUrruaKoynd"
      },
      "outputs": [],
      "source": []
    },
    {
      "cell_type": "code",
      "execution_count": null,
      "metadata": {
        "id": "sfno2zX6oyk_"
      },
      "outputs": [],
      "source": []
    },
    {
      "cell_type": "code",
      "execution_count": null,
      "metadata": {
        "id": "aUSxooBvoyiV"
      },
      "outputs": [],
      "source": []
    },
    {
      "cell_type": "code",
      "execution_count": null,
      "metadata": {
        "id": "JdcrjvV-oyf9"
      },
      "outputs": [],
      "source": []
    },
    {
      "cell_type": "code",
      "execution_count": null,
      "metadata": {
        "id": "5Azr0P4VI8Y3"
      },
      "outputs": [],
      "source": []
    }
  ],
  "metadata": {
    "colab": {
      "collapsed_sections": [
        "0NZYUElozu6B"
      ],
      "provenance": []
    },
    "kernelspec": {
      "display_name": "Python 3.8.15 ('.notebooks': venv)",
      "language": "python",
      "name": "python3"
    },
    "language_info": {
      "codemirror_mode": {
        "name": "ipython",
        "version": 3
      },
      "file_extension": ".py",
      "mimetype": "text/x-python",
      "name": "python",
      "nbconvert_exporter": "python",
      "pygments_lexer": "ipython3",
      "version": "3.8.15"
    },
    "vscode": {
      "interpreter": {
        "hash": "cd5881303aab9b4958c820d1e6e6db8e6c9fef46b1e00555c10aeb46dc139e5d"
      }
    }
  },
  "nbformat": 4,
  "nbformat_minor": 0
}
