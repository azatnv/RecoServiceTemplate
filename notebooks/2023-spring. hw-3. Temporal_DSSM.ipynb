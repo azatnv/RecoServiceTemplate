{
  "nbformat": 4,
  "nbformat_minor": 0,
  "metadata": {
    "colab": {
      "provenance": [],
      "collapsed_sections": [
        "KrAFZ4W7CGcA",
        "ZxjT0qW_vX0a",
        "phFJLmSTxg8i",
        "C61F0zLc8rO-",
        "Omd5_mkczS96",
        "RYQyNIVquD91",
        "D1kbI9wfFKGr",
        "9k0trkPqEgu5",
        "nqa4SLP-3lqc",
        "UsN7CGna_DCE"
      ],
      "gpuType": "T4"
    },
    "kernelspec": {
      "name": "python3",
      "display_name": "Python 3"
    },
    "language_info": {
      "name": "python"
    },
    "gpuClass": "standard"
  },
  "cells": [
    {
      "cell_type": "code",
      "source": [
        "from google.colab import drive\n",
        "drive.mount('/content/drive')"
      ],
      "metadata": {
        "id": "pgSuis8oD2Dz",
        "colab": {
          "base_uri": "https://localhost:8080/"
        },
        "outputId": "dba610a7-e1cb-4db8-acfd-3b050783037c"
      },
      "execution_count": 1,
      "outputs": [
        {
          "output_type": "stream",
          "name": "stdout",
          "text": [
            "Mounted at /content/drive\n"
          ]
        }
      ]
    },
    {
      "cell_type": "code",
      "source": [
        "import pandas as pd\n",
        "import numpy as np\n",
        "\n",
        "import json\n",
        "import pickle\n",
        "\n",
        "import typing as tp\n",
        "from tqdm import tqdm\n",
        "from collections import Counter\n",
        "\n",
        "import torch\n",
        "from torch import nn, optim\n",
        "from torch.utils.data import Dataset, DataLoader\n",
        "import torch.nn.functional as F"
      ],
      "metadata": {
        "id": "wMSifXbns6We"
      },
      "execution_count": 91,
      "outputs": []
    },
    {
      "cell_type": "code",
      "source": [
        "!pip install hnswlib\n",
        "import hnswlib"
      ],
      "metadata": {
        "id": "RO8HPA_teTVn"
      },
      "execution_count": null,
      "outputs": []
    },
    {
      "cell_type": "code",
      "source": [
        "!pip install transformers\n",
        "from transformers import AutoTokenizer, AutoModel"
      ],
      "metadata": {
        "id": "rfIRMaFN2ji6"
      },
      "execution_count": null,
      "outputs": []
    },
    {
      "cell_type": "markdown",
      "source": [
        "## Предобработанный KION датасет с заполненными пропусками"
      ],
      "metadata": {
        "id": "KrAFZ4W7CGcA"
      }
    },
    {
      "cell_type": "code",
      "execution_count": null,
      "metadata": {
        "id": "5cA8ANDzCFnp"
      },
      "outputs": [],
      "source": [
        "interactions_df = pd.read_csv('/content/drive/MyDrive/RecSys MTC/kion/interactions_processed.csv')\n",
        "users_df = pd.read_csv('/content/drive/MyDrive/RecSys MTC/kion/users_processed.csv')\n",
        "items_df = pd.read_csv('/content/drive/MyDrive/RecSys MTC/kion/items_processed.csv')"
      ]
    },
    {
      "cell_type": "markdown",
      "source": [
        "## Вектора пользователей\n",
        "\n"
      ],
      "metadata": {
        "id": "ZxjT0qW_vX0a"
      }
    },
    {
      "cell_type": "code",
      "source": [
        "users_df.info()"
      ],
      "metadata": {
        "colab": {
          "base_uri": "https://localhost:8080/"
        },
        "id": "wHwNH_8evYSf",
        "outputId": "a043580d-3e20-4af0-f590-4325f827a56e"
      },
      "execution_count": null,
      "outputs": [
        {
          "output_type": "stream",
          "name": "stdout",
          "text": [
            "<class 'pandas.core.frame.DataFrame'>\n",
            "RangeIndex: 840197 entries, 0 to 840196\n",
            "Data columns (total 5 columns):\n",
            " #   Column    Non-Null Count   Dtype \n",
            "---  ------    --------------   ----- \n",
            " 0   user_id   840197 non-null  int64 \n",
            " 1   age       840197 non-null  object\n",
            " 2   income    840197 non-null  object\n",
            " 3   sex       840197 non-null  object\n",
            " 4   kids_flg  840197 non-null  bool  \n",
            "dtypes: bool(1), int64(1), object(3)\n",
            "memory usage: 26.4+ MB\n"
          ]
        }
      ]
    },
    {
      "cell_type": "code",
      "source": [
        "users_cat_feats = [\"age\", \"income\", \"sex\", \"kids_flg\"]\n",
        "\n",
        "users_ohe_df = users_df.user_id\n",
        "for feat in users_cat_feats:\n",
        "    ohe_feat_df = pd.get_dummies(users_df[feat], prefix=feat)\n",
        "    \n",
        "    users_ohe_df = pd.concat([users_ohe_df, ohe_feat_df], axis=1)\n",
        "\n",
        "users_ohe_df.shape"
      ],
      "metadata": {
        "colab": {
          "base_uri": "https://localhost:8080/"
        },
        "id": "AMAkMTnQvY1c",
        "outputId": "dda81b59-1688-49f0-e8f0-5d5fd0cec6ab"
      },
      "execution_count": null,
      "outputs": [
        {
          "output_type": "execute_result",
          "data": {
            "text/plain": [
              "(840197, 20)"
            ]
          },
          "metadata": {},
          "execution_count": 234
        }
      ]
    },
    {
      "cell_type": "markdown",
      "source": [
        "## Вектора айтемов"
      ],
      "metadata": {
        "id": "phFJLmSTxg8i"
      }
    },
    {
      "cell_type": "code",
      "source": [
        "items_df.info()"
      ],
      "metadata": {
        "colab": {
          "base_uri": "https://localhost:8080/"
        },
        "id": "aE5ZRXVzvYzQ",
        "outputId": "dd764f39-1afd-4e58-b811-8902299203cb"
      },
      "execution_count": null,
      "outputs": [
        {
          "output_type": "stream",
          "name": "stdout",
          "text": [
            "<class 'pandas.core.frame.DataFrame'>\n",
            "RangeIndex: 15963 entries, 0 to 15962\n",
            "Data columns (total 14 columns):\n",
            " #   Column            Non-Null Count  Dtype  \n",
            "---  ------            --------------  -----  \n",
            " 0   item_id           15963 non-null  int64  \n",
            " 1   content_type      15963 non-null  object \n",
            " 2   title             15963 non-null  object \n",
            " 3   title_orig        15963 non-null  object \n",
            " 4   genres            15963 non-null  object \n",
            " 5   countries         15963 non-null  object \n",
            " 6   for_kids          15963 non-null  bool   \n",
            " 7   age_rating        15963 non-null  float64\n",
            " 8   studios           15963 non-null  object \n",
            " 9   directors         15963 non-null  object \n",
            " 10  actors            15963 non-null  object \n",
            " 11  description       15963 non-null  object \n",
            " 12  keywords          15963 non-null  object \n",
            " 13  release_year_cat  15963 non-null  object \n",
            "dtypes: bool(1), float64(1), int64(1), object(11)\n",
            "memory usage: 1.6+ MB\n"
          ]
        }
      ]
    },
    {
      "cell_type": "code",
      "source": [
        "items_cat_feats = [\"content_type\", \"for_kids\", \n",
        "                   \"age_rating\", \"studios\", \n",
        "                   \"release_year_cat\"]\n",
        "\n",
        "items_ohe_df = items_df.item_id\n",
        "for feat in items_cat_feats:\n",
        "    ohe_feat_df = pd.get_dummies(items_df[feat], prefix=feat)\n",
        "    \n",
        "    items_ohe_df = pd.concat([items_ohe_df, ohe_feat_df], axis=1)\n",
        "\n",
        "items_ohe_df.shape"
      ],
      "metadata": {
        "colab": {
          "base_uri": "https://localhost:8080/"
        },
        "id": "mNsal1l2vYw1",
        "outputId": "17a5d236-22fc-4514-a8d4-de474ae050e8"
      },
      "execution_count": null,
      "outputs": [
        {
          "output_type": "execute_result",
          "data": {
            "text/plain": [
              "(15963, 62)"
            ]
          },
          "metadata": {},
          "execution_count": 236
        }
      ]
    },
    {
      "cell_type": "code",
      "source": [
        "# Добавим one-hot encoding жанра и страны\n",
        "\n",
        "set_genres = set()\n",
        "for i in range(items_df.shape[0]):\n",
        "    genres = items_df.genres.iloc[i].split(', ')\n",
        "    set_genres |= set(genres)\n",
        "\n",
        "set_countries = set()\n",
        "for i in range(items_df.shape[0]):\n",
        "    countries = items_df.countries.iloc[i].split(', ')\n",
        "    set_countries |= set(countries)\n",
        "\n",
        "len(set_genres), len(set_countries)"
      ],
      "metadata": {
        "colab": {
          "base_uri": "https://localhost:8080/"
        },
        "id": "yvkpxs8CzT8P",
        "outputId": "169b3c45-081b-4aac-8ec0-687ecdd9786f"
      },
      "execution_count": null,
      "outputs": [
        {
          "output_type": "execute_result",
          "data": {
            "text/plain": [
              "(95, 91)"
            ]
          },
          "metadata": {},
          "execution_count": 237
        }
      ]
    },
    {
      "cell_type": "code",
      "source": [
        "for genre in set_genres:\n",
        "    genge_col = items_df[\"genres\"].apply(lambda x: genre in x) \\\n",
        "                        .astype(int) \\\n",
        "                        .rename(f\"genre_{genre}\")\n",
        "    items_ohe_df = pd.concat((items_ohe_df, genge_col), axis=1)\n",
        "print(items_ohe_df.shape)\n",
        "\n",
        "for country in set_countries:\n",
        "    country_col = items_df[\"countries\"].apply(lambda x: country in x) \\\n",
        "                        .astype(int) \\\n",
        "                        .rename(f\"country_{country}\")\n",
        "    items_ohe_df = pd.concat((items_ohe_df, country_col), axis=1)\n",
        "print(items_ohe_df.shape)\n",
        "del genge_col, country_col"
      ],
      "metadata": {
        "colab": {
          "base_uri": "https://localhost:8080/"
        },
        "id": "wRBffjSt0m-3",
        "outputId": "9eab196d-1acb-4de5-f375-e2c300583089"
      },
      "execution_count": null,
      "outputs": [
        {
          "output_type": "stream",
          "name": "stdout",
          "text": [
            "(15963, 157)\n",
            "(15963, 248)\n"
          ]
        }
      ]
    },
    {
      "cell_type": "code",
      "source": [
        "items_ohe_df.head()"
      ],
      "metadata": {
        "colab": {
          "base_uri": "https://localhost:8080/"
        },
        "id": "FCYy4A7D4o44",
        "outputId": "ce5a5bf6-8483-4d46-e677-c1eceb24e3c5"
      },
      "execution_count": null,
      "outputs": [
        {
          "output_type": "execute_result",
          "data": {
            "text/plain": [
              "   item_id  content_type_film  content_type_series  for_kids_False  \\\n",
              "0    10711                  1                    0               1   \n",
              "1     2508                  1                    0               1   \n",
              "2    10716                  1                    0               1   \n",
              "3     7868                  1                    0               1   \n",
              "4    16268                  1                    0               1   \n",
              "\n",
              "   for_kids_True  age_rating_0.0  age_rating_6.0  age_rating_12.0  \\\n",
              "0              0               0               0                0   \n",
              "1              0               0               0                0   \n",
              "2              0               0               0                0   \n",
              "3              0               0               0                0   \n",
              "4              0               0               0                1   \n",
              "\n",
              "   age_rating_16.0  age_rating_18.0  ...  country_тунис  country_узбекистан  \\\n",
              "0                1                0  ...              0                   0   \n",
              "1                1                0  ...              0                   0   \n",
              "2                1                0  ...              0                   0   \n",
              "3                1                0  ...              0                   0   \n",
              "4                0                0  ...              0                   0   \n",
              "\n",
              "   country_сша  country_камбоджа  country_куба  country_республика корея  \\\n",
              "0            0                 0             0                         0   \n",
              "1            1                 0             0                         0   \n",
              "2            0                 0             0                         0   \n",
              "3            0                 0             0                         0   \n",
              "4            0                 0             0                         0   \n",
              "\n",
              "   country_исландия  country_швеция  country_албания  country_эстония  \n",
              "0                 0               0                0                0  \n",
              "1                 0               0                0                0  \n",
              "2                 0               0                0                0  \n",
              "3                 0               0                0                0  \n",
              "4                 0               0                0                0  \n",
              "\n",
              "[5 rows x 248 columns]"
            ],
            "text/html": [
              "\n",
              "  <div id=\"df-4ad7d86a-a053-47c6-80b3-ae479b3048e8\">\n",
              "    <div class=\"colab-df-container\">\n",
              "      <div>\n",
              "<style scoped>\n",
              "    .dataframe tbody tr th:only-of-type {\n",
              "        vertical-align: middle;\n",
              "    }\n",
              "\n",
              "    .dataframe tbody tr th {\n",
              "        vertical-align: top;\n",
              "    }\n",
              "\n",
              "    .dataframe thead th {\n",
              "        text-align: right;\n",
              "    }\n",
              "</style>\n",
              "<table border=\"1\" class=\"dataframe\">\n",
              "  <thead>\n",
              "    <tr style=\"text-align: right;\">\n",
              "      <th></th>\n",
              "      <th>item_id</th>\n",
              "      <th>content_type_film</th>\n",
              "      <th>content_type_series</th>\n",
              "      <th>for_kids_False</th>\n",
              "      <th>for_kids_True</th>\n",
              "      <th>age_rating_0.0</th>\n",
              "      <th>age_rating_6.0</th>\n",
              "      <th>age_rating_12.0</th>\n",
              "      <th>age_rating_16.0</th>\n",
              "      <th>age_rating_18.0</th>\n",
              "      <th>...</th>\n",
              "      <th>country_тунис</th>\n",
              "      <th>country_узбекистан</th>\n",
              "      <th>country_сша</th>\n",
              "      <th>country_камбоджа</th>\n",
              "      <th>country_куба</th>\n",
              "      <th>country_республика корея</th>\n",
              "      <th>country_исландия</th>\n",
              "      <th>country_швеция</th>\n",
              "      <th>country_албания</th>\n",
              "      <th>country_эстония</th>\n",
              "    </tr>\n",
              "  </thead>\n",
              "  <tbody>\n",
              "    <tr>\n",
              "      <th>0</th>\n",
              "      <td>10711</td>\n",
              "      <td>1</td>\n",
              "      <td>0</td>\n",
              "      <td>1</td>\n",
              "      <td>0</td>\n",
              "      <td>0</td>\n",
              "      <td>0</td>\n",
              "      <td>0</td>\n",
              "      <td>1</td>\n",
              "      <td>0</td>\n",
              "      <td>...</td>\n",
              "      <td>0</td>\n",
              "      <td>0</td>\n",
              "      <td>0</td>\n",
              "      <td>0</td>\n",
              "      <td>0</td>\n",
              "      <td>0</td>\n",
              "      <td>0</td>\n",
              "      <td>0</td>\n",
              "      <td>0</td>\n",
              "      <td>0</td>\n",
              "    </tr>\n",
              "    <tr>\n",
              "      <th>1</th>\n",
              "      <td>2508</td>\n",
              "      <td>1</td>\n",
              "      <td>0</td>\n",
              "      <td>1</td>\n",
              "      <td>0</td>\n",
              "      <td>0</td>\n",
              "      <td>0</td>\n",
              "      <td>0</td>\n",
              "      <td>1</td>\n",
              "      <td>0</td>\n",
              "      <td>...</td>\n",
              "      <td>0</td>\n",
              "      <td>0</td>\n",
              "      <td>1</td>\n",
              "      <td>0</td>\n",
              "      <td>0</td>\n",
              "      <td>0</td>\n",
              "      <td>0</td>\n",
              "      <td>0</td>\n",
              "      <td>0</td>\n",
              "      <td>0</td>\n",
              "    </tr>\n",
              "    <tr>\n",
              "      <th>2</th>\n",
              "      <td>10716</td>\n",
              "      <td>1</td>\n",
              "      <td>0</td>\n",
              "      <td>1</td>\n",
              "      <td>0</td>\n",
              "      <td>0</td>\n",
              "      <td>0</td>\n",
              "      <td>0</td>\n",
              "      <td>1</td>\n",
              "      <td>0</td>\n",
              "      <td>...</td>\n",
              "      <td>0</td>\n",
              "      <td>0</td>\n",
              "      <td>0</td>\n",
              "      <td>0</td>\n",
              "      <td>0</td>\n",
              "      <td>0</td>\n",
              "      <td>0</td>\n",
              "      <td>0</td>\n",
              "      <td>0</td>\n",
              "      <td>0</td>\n",
              "    </tr>\n",
              "    <tr>\n",
              "      <th>3</th>\n",
              "      <td>7868</td>\n",
              "      <td>1</td>\n",
              "      <td>0</td>\n",
              "      <td>1</td>\n",
              "      <td>0</td>\n",
              "      <td>0</td>\n",
              "      <td>0</td>\n",
              "      <td>0</td>\n",
              "      <td>1</td>\n",
              "      <td>0</td>\n",
              "      <td>...</td>\n",
              "      <td>0</td>\n",
              "      <td>0</td>\n",
              "      <td>0</td>\n",
              "      <td>0</td>\n",
              "      <td>0</td>\n",
              "      <td>0</td>\n",
              "      <td>0</td>\n",
              "      <td>0</td>\n",
              "      <td>0</td>\n",
              "      <td>0</td>\n",
              "    </tr>\n",
              "    <tr>\n",
              "      <th>4</th>\n",
              "      <td>16268</td>\n",
              "      <td>1</td>\n",
              "      <td>0</td>\n",
              "      <td>1</td>\n",
              "      <td>0</td>\n",
              "      <td>0</td>\n",
              "      <td>0</td>\n",
              "      <td>1</td>\n",
              "      <td>0</td>\n",
              "      <td>0</td>\n",
              "      <td>...</td>\n",
              "      <td>0</td>\n",
              "      <td>0</td>\n",
              "      <td>0</td>\n",
              "      <td>0</td>\n",
              "      <td>0</td>\n",
              "      <td>0</td>\n",
              "      <td>0</td>\n",
              "      <td>0</td>\n",
              "      <td>0</td>\n",
              "      <td>0</td>\n",
              "    </tr>\n",
              "  </tbody>\n",
              "</table>\n",
              "<p>5 rows × 248 columns</p>\n",
              "</div>\n",
              "      <button class=\"colab-df-convert\" onclick=\"convertToInteractive('df-4ad7d86a-a053-47c6-80b3-ae479b3048e8')\"\n",
              "              title=\"Convert this dataframe to an interactive table.\"\n",
              "              style=\"display:none;\">\n",
              "        \n",
              "  <svg xmlns=\"http://www.w3.org/2000/svg\" height=\"24px\"viewBox=\"0 0 24 24\"\n",
              "       width=\"24px\">\n",
              "    <path d=\"M0 0h24v24H0V0z\" fill=\"none\"/>\n",
              "    <path d=\"M18.56 5.44l.94 2.06.94-2.06 2.06-.94-2.06-.94-.94-2.06-.94 2.06-2.06.94zm-11 1L8.5 8.5l.94-2.06 2.06-.94-2.06-.94L8.5 2.5l-.94 2.06-2.06.94zm10 10l.94 2.06.94-2.06 2.06-.94-2.06-.94-.94-2.06-.94 2.06-2.06.94z\"/><path d=\"M17.41 7.96l-1.37-1.37c-.4-.4-.92-.59-1.43-.59-.52 0-1.04.2-1.43.59L10.3 9.45l-7.72 7.72c-.78.78-.78 2.05 0 2.83L4 21.41c.39.39.9.59 1.41.59.51 0 1.02-.2 1.41-.59l7.78-7.78 2.81-2.81c.8-.78.8-2.07 0-2.86zM5.41 20L4 18.59l7.72-7.72 1.47 1.35L5.41 20z\"/>\n",
              "  </svg>\n",
              "      </button>\n",
              "      \n",
              "  <style>\n",
              "    .colab-df-container {\n",
              "      display:flex;\n",
              "      flex-wrap:wrap;\n",
              "      gap: 12px;\n",
              "    }\n",
              "\n",
              "    .colab-df-convert {\n",
              "      background-color: #E8F0FE;\n",
              "      border: none;\n",
              "      border-radius: 50%;\n",
              "      cursor: pointer;\n",
              "      display: none;\n",
              "      fill: #1967D2;\n",
              "      height: 32px;\n",
              "      padding: 0 0 0 0;\n",
              "      width: 32px;\n",
              "    }\n",
              "\n",
              "    .colab-df-convert:hover {\n",
              "      background-color: #E2EBFA;\n",
              "      box-shadow: 0px 1px 2px rgba(60, 64, 67, 0.3), 0px 1px 3px 1px rgba(60, 64, 67, 0.15);\n",
              "      fill: #174EA6;\n",
              "    }\n",
              "\n",
              "    [theme=dark] .colab-df-convert {\n",
              "      background-color: #3B4455;\n",
              "      fill: #D2E3FC;\n",
              "    }\n",
              "\n",
              "    [theme=dark] .colab-df-convert:hover {\n",
              "      background-color: #434B5C;\n",
              "      box-shadow: 0px 1px 3px 1px rgba(0, 0, 0, 0.15);\n",
              "      filter: drop-shadow(0px 1px 2px rgba(0, 0, 0, 0.3));\n",
              "      fill: #FFFFFF;\n",
              "    }\n",
              "  </style>\n",
              "\n",
              "      <script>\n",
              "        const buttonEl =\n",
              "          document.querySelector('#df-4ad7d86a-a053-47c6-80b3-ae479b3048e8 button.colab-df-convert');\n",
              "        buttonEl.style.display =\n",
              "          google.colab.kernel.accessAllowed ? 'block' : 'none';\n",
              "\n",
              "        async function convertToInteractive(key) {\n",
              "          const element = document.querySelector('#df-4ad7d86a-a053-47c6-80b3-ae479b3048e8');\n",
              "          const dataTable =\n",
              "            await google.colab.kernel.invokeFunction('convertToInteractive',\n",
              "                                                     [key], {});\n",
              "          if (!dataTable) return;\n",
              "\n",
              "          const docLinkHtml = 'Like what you see? Visit the ' +\n",
              "            '<a target=\"_blank\" href=https://colab.research.google.com/notebooks/data_table.ipynb>data table notebook</a>'\n",
              "            + ' to learn more about interactive tables.';\n",
              "          element.innerHTML = '';\n",
              "          dataTable['output_type'] = 'display_data';\n",
              "          await google.colab.output.renderOutput(dataTable, element);\n",
              "          const docLink = document.createElement('div');\n",
              "          docLink.innerHTML = docLinkHtml;\n",
              "          element.appendChild(docLink);\n",
              "        }\n",
              "      </script>\n",
              "    </div>\n",
              "  </div>\n",
              "  "
            ]
          },
          "metadata": {},
          "execution_count": 239
        }
      ]
    },
    {
      "cell_type": "markdown",
      "source": [
        "## Векторное представление описания фильма"
      ],
      "metadata": {
        "id": "C61F0zLc8rO-"
      }
    },
    {
      "cell_type": "code",
      "source": [
        "#Mean Pooling - Take attention mask into account for correct averaging\n",
        "def mean_pooling(model_output, attention_mask):\n",
        "    token_embeddings = model_output[0]\n",
        "    input_mask_expanded = attention_mask.unsqueeze(-1).expand(token_embeddings.size()).float()\n",
        "    return torch.sum(token_embeddings * input_mask_expanded, 1) / torch.clamp(input_mask_expanded.sum(1), min=1e-9)\n",
        "\n",
        "\n",
        "device = torch.device(\"cuda:0\" if torch.cuda.is_available() else \"cpu\")\n",
        "device"
      ],
      "metadata": {
        "id": "R0vGn_WOyixF",
        "colab": {
          "base_uri": "https://localhost:8080/"
        },
        "outputId": "aa64a71b-4064-4a74-921b-0f64a827054e"
      },
      "execution_count": null,
      "outputs": [
        {
          "output_type": "execute_result",
          "data": {
            "text/plain": [
              "device(type='cuda', index=0)"
            ]
          },
          "metadata": {},
          "execution_count": 10
        }
      ]
    },
    {
      "cell_type": "code",
      "source": [
        "item_description_embeddings = dict()"
      ],
      "metadata": {
        "id": "T4kM0C9Hd4T1"
      },
      "execution_count": null,
      "outputs": []
    },
    {
      "cell_type": "code",
      "source": [
        "desc_df = items_df[[\"item_id\", \"description\"]]\n",
        "n_splits = 50\n",
        "splits = np.full(n_splits, desc_df.shape[0] // n_splits, dtype=int)\n",
        "splits[: desc_df.shape[0] % n_splits] += 1\n",
        "current = 0\n",
        "for step, split_size in tqdm(enumerate(splits)):\n",
        "    # заново инициализирую модель и токенайзер, из-за проблем с памятью\n",
        "    tokenizer = AutoTokenizer.from_pretrained('DeepPavlov/rubert-base-cased-sentence')\n",
        "    model = AutoModel.from_pretrained('DeepPavlov/rubert-base-cased-sentence')\n",
        "\n",
        "    model = model.to(device)\n",
        "\n",
        "    df = desc_df.iloc[current:current + split_size]\n",
        "    current += split_size\n",
        "\n",
        "    cur_descriptions = df.description.tolist()\n",
        "\n",
        "    encoded_input = tokenizer(cur_descriptions, padding=True, truncation=True, max_length=512, return_tensors='pt')\n",
        "    encoded_input = encoded_input.to(device)\n",
        "\n",
        "    model.eval()\n",
        "    with torch.no_grad():\n",
        "        model_output = model(**encoded_input)\n",
        "\n",
        "    cur_description_embeddings = mean_pooling(model_output, encoded_input['attention_mask'])\n",
        "    cur_description_embeddings = cur_description_embeddings.cpu().tolist()\n",
        "    \n",
        "    for item_id, emb in zip(df.item_id, cur_description_embeddings):\n",
        "        item_description_embeddings[item_id] = emb\n",
        "\n",
        "    del encoded_input, model_output, cur_description_embeddings, model, tokenizer\n",
        "    gc.collect(), torch.cuda.empty_cache()"
      ],
      "metadata": {
        "id": "_sryWf5Y7qHe"
      },
      "execution_count": null,
      "outputs": []
    },
    {
      "cell_type": "code",
      "source": [
        "with open('/content/drive/MyDrive/RecSys MTC/kion/item_description_embeddings.json', 'w') as f:\n",
        "    json.dump(item_description_embeddings, f, ensure_ascii=False, indent=4)"
      ],
      "metadata": {
        "id": "x7jtp6AlawIP"
      },
      "execution_count": null,
      "outputs": []
    },
    {
      "cell_type": "markdown",
      "source": [
        "## Матрица взаимодействий\n",
        "\n",
        "Отфильтруем \n",
        "- непопулярные фильмы\n",
        "- малоактивных пользователей\n"
      ],
      "metadata": {
        "id": "Omd5_mkczS96"
      }
    },
    {
      "cell_type": "code",
      "source": [
        "interactions_df.user_id.value_counts()"
      ],
      "metadata": {
        "colab": {
          "base_uri": "https://localhost:8080/"
        },
        "id": "A3G3iHwMt7hO",
        "outputId": "1da2704f-63f7-4d2e-a431-073aee55e373"
      },
      "execution_count": null,
      "outputs": [
        {
          "output_type": "execute_result",
          "data": {
            "text/plain": [
              "416206     1341\n",
              "1010539     764\n",
              "555233      685\n",
              "11526       676\n",
              "409259      625\n",
              "           ... \n",
              "45493         1\n",
              "615194        1\n",
              "96848         1\n",
              "425823        1\n",
              "697262        1\n",
              "Name: user_id, Length: 962179, dtype: int64"
            ]
          },
          "metadata": {},
          "execution_count": 240
        }
      ]
    },
    {
      "cell_type": "code",
      "source": [
        "print(f\"N users before: {interactions_df.user_id.nunique()}\")\n",
        "print(f\"N items before: {interactions_df.item_id.nunique()}\\n\")\n",
        "\n",
        "# отфильтруем все события, в которых пользователь посмотрел\n",
        "# фильм менее чем на 10 процентов\n",
        "interactions_df = interactions_df[interactions_df.watched_pct >= 10]\n",
        "\n",
        "# соберем фильмы, которые просмотрели не меньше 5 пользователей\n",
        "valid_items = []\n",
        "c = Counter(interactions_df.item_id)\n",
        "for item_id, entries in c.items():\n",
        "    if entries >= 5:\n",
        "        valid_items.append(item_id)\n",
        "\n",
        "# отбросим непопулярные фильмы\n",
        "interactions_df = interactions_df[interactions_df.item_id.isin(valid_items)]\n",
        "\n",
        "# соберем пользователей, просмотревших не меньше 8 фильмов\n",
        "valid_users = []\n",
        "c = Counter(interactions_df.user_id)\n",
        "for user_id, entries in c.items():\n",
        "    if entries >= 8:\n",
        "        valid_users.append(user_id)\n",
        "\n",
        "# отбросим неактивных пользователей\n",
        "interactions_df = interactions_df[interactions_df.user_id.isin(valid_users)]\n",
        "\n",
        "print(f\"N users after: {interactions_df.user_id.nunique()}\")\n",
        "print(f\"N items after: {interactions_df.item_id.nunique()}\")"
      ],
      "metadata": {
        "colab": {
          "base_uri": "https://localhost:8080/"
        },
        "id": "55kdEk331GFr",
        "outputId": "5b0995e1-105d-4cb5-dbbc-f545ab5ccd9d"
      },
      "execution_count": null,
      "outputs": [
        {
          "output_type": "stream",
          "name": "stdout",
          "text": [
            "N users before: 962179\n",
            "N items before: 15706\n",
            "\n",
            "N users after: 125483\n",
            "N items after: 8875\n"
          ]
        }
      ]
    },
    {
      "cell_type": "markdown",
      "source": [
        "Найдем id айтемов и id юзеров, которые есть во всех датасетах и оставим только их."
      ],
      "metadata": {
        "id": "XUtnkkAM9jtE"
      }
    },
    {
      "cell_type": "code",
      "source": [
        "common_users = set(interactions_df.user_id.unique()).intersection(set(users_ohe_df.user_id.unique()))\n",
        "interactions_df = interactions_df[interactions_df.user_id.isin(common_users)]\n",
        "\n",
        "common_items = set(interactions_df.item_id.unique()).intersection(set(items_ohe_df.item_id.unique()))\n",
        "interactions_df = interactions_df[interactions_df.item_id.isin(common_items)]\n",
        "\n",
        "users_ohe_df = users_ohe_df[users_ohe_df.user_id.isin(common_users)]\n",
        "items_ohe_df = items_ohe_df[items_ohe_df.item_id.isin(common_items)]\n",
        "\n",
        "print(f\"N users after: {interactions_df.user_id.nunique()} {users_ohe_df.user_id.nunique()}\")\n",
        "print(f\"N items after: {interactions_df.item_id.nunique()} {items_ohe_df.item_id.nunique()}\")"
      ],
      "metadata": {
        "id": "2TXAbCkE1cMk",
        "colab": {
          "base_uri": "https://localhost:8080/"
        },
        "outputId": "3412df82-381e-40a8-88fc-d3ca2d3b6371"
      },
      "execution_count": null,
      "outputs": [
        {
          "output_type": "stream",
          "name": "stdout",
          "text": [
            "N users after: 103074 103074\n",
            "N items after: 8836 8836\n"
          ]
        }
      ]
    },
    {
      "cell_type": "markdown",
      "source": [
        "Соберем взаимодействия в матрицу user*item так, чтобы в строках этой матрицы были user_id, в столбцах - item_id, а на пересечениях строк и столбцов - единица, если пользователь взаимодействовал с айтемом и ноль, если нет.\n",
        "\n",
        "Такую матрицу удобно собирать в numpy array, однако нужно помнить, что numpy array индексируется порядковыми индексами, а нам же удобнее использовать item_id и user_id.\n",
        "\n",
        "Создадим некие внутренние индексы для user_id и item_id - uid и iid. Для этого просто соберем все user_id и item_id и пронумеруем их по порядку"
      ],
      "metadata": {
        "id": "il0LZDql_mXC"
      }
    },
    {
      "cell_type": "code",
      "source": [
        "interactions_df[\"uid\"] = interactions_df[\"user_id\"].astype(\"category\")\n",
        "interactions_df[\"uid\"] = interactions_df[\"uid\"].cat.codes\n",
        "\n",
        "interactions_df[\"iid\"] = interactions_df[\"item_id\"].astype(\"category\")\n",
        "interactions_df[\"iid\"] = interactions_df[\"iid\"].cat.codes\n",
        "\n",
        "print(sorted(interactions_df.iid.unique())[:5])\n",
        "print(sorted(interactions_df.uid.unique())[:5])\n",
        "interactions_df.head()"
      ],
      "metadata": {
        "colab": {
          "base_uri": "https://localhost:8080/"
        },
        "id": "nkcmos0m8Iym",
        "outputId": "50ffa653-623d-4d09-bf53-29cd49c110b5"
      },
      "execution_count": null,
      "outputs": [
        {
          "output_type": "stream",
          "name": "stdout",
          "text": [
            "[0, 1, 2, 3, 4]\n",
            "[0, 1, 2, 3, 4]\n"
          ]
        },
        {
          "output_type": "execute_result",
          "data": {
            "text/plain": [
              "    user_id  item_id last_watch_dt  total_dur  watched_pct    uid   iid\n",
              "0    176549     9506    2021-05-11       4250           72  16536  5068\n",
              "1    699317     1659    2021-05-29       8317          100  65818   878\n",
              "6   1016458      354    2021-08-14       1672           25  95353   182\n",
              "7    884009      693    2021-08-04        703           14  83139   364\n",
              "11   988709     7571    2021-07-07       6558          100  92833  4038"
            ],
            "text/html": [
              "\n",
              "  <div id=\"df-9f304212-74d2-4365-ab79-43c8328efc9b\">\n",
              "    <div class=\"colab-df-container\">\n",
              "      <div>\n",
              "<style scoped>\n",
              "    .dataframe tbody tr th:only-of-type {\n",
              "        vertical-align: middle;\n",
              "    }\n",
              "\n",
              "    .dataframe tbody tr th {\n",
              "        vertical-align: top;\n",
              "    }\n",
              "\n",
              "    .dataframe thead th {\n",
              "        text-align: right;\n",
              "    }\n",
              "</style>\n",
              "<table border=\"1\" class=\"dataframe\">\n",
              "  <thead>\n",
              "    <tr style=\"text-align: right;\">\n",
              "      <th></th>\n",
              "      <th>user_id</th>\n",
              "      <th>item_id</th>\n",
              "      <th>last_watch_dt</th>\n",
              "      <th>total_dur</th>\n",
              "      <th>watched_pct</th>\n",
              "      <th>uid</th>\n",
              "      <th>iid</th>\n",
              "    </tr>\n",
              "  </thead>\n",
              "  <tbody>\n",
              "    <tr>\n",
              "      <th>0</th>\n",
              "      <td>176549</td>\n",
              "      <td>9506</td>\n",
              "      <td>2021-05-11</td>\n",
              "      <td>4250</td>\n",
              "      <td>72</td>\n",
              "      <td>16536</td>\n",
              "      <td>5068</td>\n",
              "    </tr>\n",
              "    <tr>\n",
              "      <th>1</th>\n",
              "      <td>699317</td>\n",
              "      <td>1659</td>\n",
              "      <td>2021-05-29</td>\n",
              "      <td>8317</td>\n",
              "      <td>100</td>\n",
              "      <td>65818</td>\n",
              "      <td>878</td>\n",
              "    </tr>\n",
              "    <tr>\n",
              "      <th>6</th>\n",
              "      <td>1016458</td>\n",
              "      <td>354</td>\n",
              "      <td>2021-08-14</td>\n",
              "      <td>1672</td>\n",
              "      <td>25</td>\n",
              "      <td>95353</td>\n",
              "      <td>182</td>\n",
              "    </tr>\n",
              "    <tr>\n",
              "      <th>7</th>\n",
              "      <td>884009</td>\n",
              "      <td>693</td>\n",
              "      <td>2021-08-04</td>\n",
              "      <td>703</td>\n",
              "      <td>14</td>\n",
              "      <td>83139</td>\n",
              "      <td>364</td>\n",
              "    </tr>\n",
              "    <tr>\n",
              "      <th>11</th>\n",
              "      <td>988709</td>\n",
              "      <td>7571</td>\n",
              "      <td>2021-07-07</td>\n",
              "      <td>6558</td>\n",
              "      <td>100</td>\n",
              "      <td>92833</td>\n",
              "      <td>4038</td>\n",
              "    </tr>\n",
              "  </tbody>\n",
              "</table>\n",
              "</div>\n",
              "      <button class=\"colab-df-convert\" onclick=\"convertToInteractive('df-9f304212-74d2-4365-ab79-43c8328efc9b')\"\n",
              "              title=\"Convert this dataframe to an interactive table.\"\n",
              "              style=\"display:none;\">\n",
              "        \n",
              "  <svg xmlns=\"http://www.w3.org/2000/svg\" height=\"24px\"viewBox=\"0 0 24 24\"\n",
              "       width=\"24px\">\n",
              "    <path d=\"M0 0h24v24H0V0z\" fill=\"none\"/>\n",
              "    <path d=\"M18.56 5.44l.94 2.06.94-2.06 2.06-.94-2.06-.94-.94-2.06-.94 2.06-2.06.94zm-11 1L8.5 8.5l.94-2.06 2.06-.94-2.06-.94L8.5 2.5l-.94 2.06-2.06.94zm10 10l.94 2.06.94-2.06 2.06-.94-2.06-.94-.94-2.06-.94 2.06-2.06.94z\"/><path d=\"M17.41 7.96l-1.37-1.37c-.4-.4-.92-.59-1.43-.59-.52 0-1.04.2-1.43.59L10.3 9.45l-7.72 7.72c-.78.78-.78 2.05 0 2.83L4 21.41c.39.39.9.59 1.41.59.51 0 1.02-.2 1.41-.59l7.78-7.78 2.81-2.81c.8-.78.8-2.07 0-2.86zM5.41 20L4 18.59l7.72-7.72 1.47 1.35L5.41 20z\"/>\n",
              "  </svg>\n",
              "      </button>\n",
              "      \n",
              "  <style>\n",
              "    .colab-df-container {\n",
              "      display:flex;\n",
              "      flex-wrap:wrap;\n",
              "      gap: 12px;\n",
              "    }\n",
              "\n",
              "    .colab-df-convert {\n",
              "      background-color: #E8F0FE;\n",
              "      border: none;\n",
              "      border-radius: 50%;\n",
              "      cursor: pointer;\n",
              "      display: none;\n",
              "      fill: #1967D2;\n",
              "      height: 32px;\n",
              "      padding: 0 0 0 0;\n",
              "      width: 32px;\n",
              "    }\n",
              "\n",
              "    .colab-df-convert:hover {\n",
              "      background-color: #E2EBFA;\n",
              "      box-shadow: 0px 1px 2px rgba(60, 64, 67, 0.3), 0px 1px 3px 1px rgba(60, 64, 67, 0.15);\n",
              "      fill: #174EA6;\n",
              "    }\n",
              "\n",
              "    [theme=dark] .colab-df-convert {\n",
              "      background-color: #3B4455;\n",
              "      fill: #D2E3FC;\n",
              "    }\n",
              "\n",
              "    [theme=dark] .colab-df-convert:hover {\n",
              "      background-color: #434B5C;\n",
              "      box-shadow: 0px 1px 3px 1px rgba(0, 0, 0, 0.15);\n",
              "      filter: drop-shadow(0px 1px 2px rgba(0, 0, 0, 0.3));\n",
              "      fill: #FFFFFF;\n",
              "    }\n",
              "  </style>\n",
              "\n",
              "      <script>\n",
              "        const buttonEl =\n",
              "          document.querySelector('#df-9f304212-74d2-4365-ab79-43c8328efc9b button.colab-df-convert');\n",
              "        buttonEl.style.display =\n",
              "          google.colab.kernel.accessAllowed ? 'block' : 'none';\n",
              "\n",
              "        async function convertToInteractive(key) {\n",
              "          const element = document.querySelector('#df-9f304212-74d2-4365-ab79-43c8328efc9b');\n",
              "          const dataTable =\n",
              "            await google.colab.kernel.invokeFunction('convertToInteractive',\n",
              "                                                     [key], {});\n",
              "          if (!dataTable) return;\n",
              "\n",
              "          const docLinkHtml = 'Like what you see? Visit the ' +\n",
              "            '<a target=\"_blank\" href=https://colab.research.google.com/notebooks/data_table.ipynb>data table notebook</a>'\n",
              "            + ' to learn more about interactive tables.';\n",
              "          element.innerHTML = '';\n",
              "          dataTable['output_type'] = 'display_data';\n",
              "          await google.colab.output.renderOutput(dataTable, element);\n",
              "          const docLink = document.createElement('div');\n",
              "          docLink.innerHTML = docLinkHtml;\n",
              "          element.appendChild(docLink);\n",
              "        }\n",
              "      </script>\n",
              "    </div>\n",
              "  </div>\n",
              "  "
            ]
          },
          "metadata": {},
          "execution_count": 243
        }
      ]
    },
    {
      "cell_type": "markdown",
      "source": [
        "Сделаем маппинги (соответствие между user_id иitem_id и их порядковым номером uid и iid):"
      ],
      "metadata": {
        "id": "4S50NO-XqzZb"
      }
    },
    {
      "cell_type": "code",
      "source": [
        "iid_to_item_id = interactions_df[[\"iid\", \"item_id\"]].drop_duplicates().set_index(\"iid\").to_dict()[\"item_id\"]\n",
        "item_id_to_iid = interactions_df[[\"iid\", \"item_id\"]].drop_duplicates().set_index(\"item_id\").to_dict()[\"iid\"]\n",
        "\n",
        "uid_to_user_id = interactions_df[[\"uid\", \"user_id\"]].drop_duplicates().set_index(\"uid\").to_dict()[\"user_id\"]\n",
        "user_id_to_uid = interactions_df[[\"uid\", \"user_id\"]].drop_duplicates().set_index(\"user_id\").to_dict()[\"uid\"]"
      ],
      "metadata": {
        "id": "ciRLMKd0q0HI"
      },
      "execution_count": null,
      "outputs": []
    },
    {
      "cell_type": "markdown",
      "source": [
        "Проиндексируем датасеты users_ohe_df и items_ohe_df по внутренним id:"
      ],
      "metadata": {
        "id": "Twdo7m-t1L5r"
      }
    },
    {
      "cell_type": "code",
      "source": [
        "items_ohe_df[\"iid\"] = items_ohe_df[\"item_id\"].apply(lambda x: item_id_to_iid[x])\n",
        "items_ohe_df = items_ohe_df.set_index(\"iid\")\n",
        "\n",
        "users_ohe_df[\"uid\"] = users_ohe_df[\"user_id\"].apply(lambda x: user_id_to_uid[x])\n",
        "users_ohe_df = users_ohe_df.set_index(\"uid\")"
      ],
      "metadata": {
        "id": "H6Bkw4oR0kus"
      },
      "execution_count": null,
      "outputs": []
    },
    {
      "cell_type": "code",
      "source": [
        "users_ohe_df.head(1)"
      ],
      "metadata": {
        "colab": {
          "base_uri": "https://localhost:8080/"
        },
        "id": "Wk67-xtJ_7HK",
        "outputId": "9df0ca24-0f7a-41d1-ae66-14e44f120494"
      },
      "execution_count": null,
      "outputs": [
        {
          "output_type": "execute_result",
          "data": {
            "text/plain": [
              "       user_id  age_age_18_24  age_age_25_34  age_age_35_44  age_age_45_54  \\\n",
              "uid                                                                          \n",
              "90367   962099              1              0              0              0   \n",
              "\n",
              "       age_age_55_64  age_age_65_inf  age_age_unknown  income_income_0_20  \\\n",
              "uid                                                                         \n",
              "90367              0               0                0                   0   \n",
              "\n",
              "       income_income_150_inf  income_income_20_40  income_income_40_60  \\\n",
              "uid                                                                      \n",
              "90367                      0                    1                    0   \n",
              "\n",
              "       income_income_60_90  income_income_90_150  income_income_unknown  \\\n",
              "uid                                                                       \n",
              "90367                    0                     0                      0   \n",
              "\n",
              "       sex_F  sex_M  sex_sex_unknown  kids_flg_False  kids_flg_True  \n",
              "uid                                                                  \n",
              "90367      0      1                0               1              0  "
            ],
            "text/html": [
              "\n",
              "  <div id=\"df-e5be770d-d1e0-443d-a134-7f8b16490fe1\">\n",
              "    <div class=\"colab-df-container\">\n",
              "      <div>\n",
              "<style scoped>\n",
              "    .dataframe tbody tr th:only-of-type {\n",
              "        vertical-align: middle;\n",
              "    }\n",
              "\n",
              "    .dataframe tbody tr th {\n",
              "        vertical-align: top;\n",
              "    }\n",
              "\n",
              "    .dataframe thead th {\n",
              "        text-align: right;\n",
              "    }\n",
              "</style>\n",
              "<table border=\"1\" class=\"dataframe\">\n",
              "  <thead>\n",
              "    <tr style=\"text-align: right;\">\n",
              "      <th></th>\n",
              "      <th>user_id</th>\n",
              "      <th>age_age_18_24</th>\n",
              "      <th>age_age_25_34</th>\n",
              "      <th>age_age_35_44</th>\n",
              "      <th>age_age_45_54</th>\n",
              "      <th>age_age_55_64</th>\n",
              "      <th>age_age_65_inf</th>\n",
              "      <th>age_age_unknown</th>\n",
              "      <th>income_income_0_20</th>\n",
              "      <th>income_income_150_inf</th>\n",
              "      <th>income_income_20_40</th>\n",
              "      <th>income_income_40_60</th>\n",
              "      <th>income_income_60_90</th>\n",
              "      <th>income_income_90_150</th>\n",
              "      <th>income_income_unknown</th>\n",
              "      <th>sex_F</th>\n",
              "      <th>sex_M</th>\n",
              "      <th>sex_sex_unknown</th>\n",
              "      <th>kids_flg_False</th>\n",
              "      <th>kids_flg_True</th>\n",
              "    </tr>\n",
              "    <tr>\n",
              "      <th>uid</th>\n",
              "      <th></th>\n",
              "      <th></th>\n",
              "      <th></th>\n",
              "      <th></th>\n",
              "      <th></th>\n",
              "      <th></th>\n",
              "      <th></th>\n",
              "      <th></th>\n",
              "      <th></th>\n",
              "      <th></th>\n",
              "      <th></th>\n",
              "      <th></th>\n",
              "      <th></th>\n",
              "      <th></th>\n",
              "      <th></th>\n",
              "      <th></th>\n",
              "      <th></th>\n",
              "      <th></th>\n",
              "      <th></th>\n",
              "      <th></th>\n",
              "    </tr>\n",
              "  </thead>\n",
              "  <tbody>\n",
              "    <tr>\n",
              "      <th>90367</th>\n",
              "      <td>962099</td>\n",
              "      <td>1</td>\n",
              "      <td>0</td>\n",
              "      <td>0</td>\n",
              "      <td>0</td>\n",
              "      <td>0</td>\n",
              "      <td>0</td>\n",
              "      <td>0</td>\n",
              "      <td>0</td>\n",
              "      <td>0</td>\n",
              "      <td>1</td>\n",
              "      <td>0</td>\n",
              "      <td>0</td>\n",
              "      <td>0</td>\n",
              "      <td>0</td>\n",
              "      <td>0</td>\n",
              "      <td>1</td>\n",
              "      <td>0</td>\n",
              "      <td>1</td>\n",
              "      <td>0</td>\n",
              "    </tr>\n",
              "  </tbody>\n",
              "</table>\n",
              "</div>\n",
              "      <button class=\"colab-df-convert\" onclick=\"convertToInteractive('df-e5be770d-d1e0-443d-a134-7f8b16490fe1')\"\n",
              "              title=\"Convert this dataframe to an interactive table.\"\n",
              "              style=\"display:none;\">\n",
              "        \n",
              "  <svg xmlns=\"http://www.w3.org/2000/svg\" height=\"24px\"viewBox=\"0 0 24 24\"\n",
              "       width=\"24px\">\n",
              "    <path d=\"M0 0h24v24H0V0z\" fill=\"none\"/>\n",
              "    <path d=\"M18.56 5.44l.94 2.06.94-2.06 2.06-.94-2.06-.94-.94-2.06-.94 2.06-2.06.94zm-11 1L8.5 8.5l.94-2.06 2.06-.94-2.06-.94L8.5 2.5l-.94 2.06-2.06.94zm10 10l.94 2.06.94-2.06 2.06-.94-2.06-.94-.94-2.06-.94 2.06-2.06.94z\"/><path d=\"M17.41 7.96l-1.37-1.37c-.4-.4-.92-.59-1.43-.59-.52 0-1.04.2-1.43.59L10.3 9.45l-7.72 7.72c-.78.78-.78 2.05 0 2.83L4 21.41c.39.39.9.59 1.41.59.51 0 1.02-.2 1.41-.59l7.78-7.78 2.81-2.81c.8-.78.8-2.07 0-2.86zM5.41 20L4 18.59l7.72-7.72 1.47 1.35L5.41 20z\"/>\n",
              "  </svg>\n",
              "      </button>\n",
              "      \n",
              "  <style>\n",
              "    .colab-df-container {\n",
              "      display:flex;\n",
              "      flex-wrap:wrap;\n",
              "      gap: 12px;\n",
              "    }\n",
              "\n",
              "    .colab-df-convert {\n",
              "      background-color: #E8F0FE;\n",
              "      border: none;\n",
              "      border-radius: 50%;\n",
              "      cursor: pointer;\n",
              "      display: none;\n",
              "      fill: #1967D2;\n",
              "      height: 32px;\n",
              "      padding: 0 0 0 0;\n",
              "      width: 32px;\n",
              "    }\n",
              "\n",
              "    .colab-df-convert:hover {\n",
              "      background-color: #E2EBFA;\n",
              "      box-shadow: 0px 1px 2px rgba(60, 64, 67, 0.3), 0px 1px 3px 1px rgba(60, 64, 67, 0.15);\n",
              "      fill: #174EA6;\n",
              "    }\n",
              "\n",
              "    [theme=dark] .colab-df-convert {\n",
              "      background-color: #3B4455;\n",
              "      fill: #D2E3FC;\n",
              "    }\n",
              "\n",
              "    [theme=dark] .colab-df-convert:hover {\n",
              "      background-color: #434B5C;\n",
              "      box-shadow: 0px 1px 3px 1px rgba(0, 0, 0, 0.15);\n",
              "      filter: drop-shadow(0px 1px 2px rgba(0, 0, 0, 0.3));\n",
              "      fill: #FFFFFF;\n",
              "    }\n",
              "  </style>\n",
              "\n",
              "      <script>\n",
              "        const buttonEl =\n",
              "          document.querySelector('#df-e5be770d-d1e0-443d-a134-7f8b16490fe1 button.colab-df-convert');\n",
              "        buttonEl.style.display =\n",
              "          google.colab.kernel.accessAllowed ? 'block' : 'none';\n",
              "\n",
              "        async function convertToInteractive(key) {\n",
              "          const element = document.querySelector('#df-e5be770d-d1e0-443d-a134-7f8b16490fe1');\n",
              "          const dataTable =\n",
              "            await google.colab.kernel.invokeFunction('convertToInteractive',\n",
              "                                                     [key], {});\n",
              "          if (!dataTable) return;\n",
              "\n",
              "          const docLinkHtml = 'Like what you see? Visit the ' +\n",
              "            '<a target=\"_blank\" href=https://colab.research.google.com/notebooks/data_table.ipynb>data table notebook</a>'\n",
              "            + ' to learn more about interactive tables.';\n",
              "          element.innerHTML = '';\n",
              "          dataTable['output_type'] = 'display_data';\n",
              "          await google.colab.output.renderOutput(dataTable, element);\n",
              "          const docLink = document.createElement('div');\n",
              "          docLink.innerHTML = docLinkHtml;\n",
              "          element.appendChild(docLink);\n",
              "        }\n",
              "      </script>\n",
              "    </div>\n",
              "  </div>\n",
              "  "
            ]
          },
          "metadata": {},
          "execution_count": 246
        }
      ]
    },
    {
      "cell_type": "markdown",
      "source": [
        "Создадим матрицу взаимодействий interactions_vec"
      ],
      "metadata": {
        "id": "aMT2t1R-qu20"
      }
    },
    {
      "cell_type": "code",
      "source": [
        "interactions_vec = np.zeros((interactions_df.uid.nunique(), \n",
        "                             interactions_df.iid.nunique()), dtype=np.float32)\n",
        "\n",
        "for u_id, i_id in zip(interactions_df.uid, interactions_df.iid):\n",
        "    interactions_vec[u_id, i_id] += 1\n",
        "\n",
        "# res = interactions_vec.sum(axis=1)\n",
        "# for i in range(len(interactions_vec)):\n",
        "#     interactions_vec[i] /= res[i]\n",
        "\n",
        "interactions_vec.shape"
      ],
      "metadata": {
        "id": "Qnxil2eXqQGE",
        "colab": {
          "base_uri": "https://localhost:8080/"
        },
        "outputId": "342e3d37-4f4a-4bf2-f115-437816612120"
      },
      "execution_count": null,
      "outputs": [
        {
          "output_type": "execute_result",
          "data": {
            "text/plain": [
              "(103074, 8836)"
            ]
          },
          "metadata": {},
          "execution_count": 247
        }
      ]
    },
    {
      "cell_type": "code",
      "source": [
        "with open(\"/content/drive/MyDrive/RecSys MTC/NNs/DSSM/user_id_to_uid.json\", \"w\") as f:\n",
        "    json.dump(user_id_to_uid, f)\n",
        "with open(\"/content/drive/MyDrive/RecSys MTC/NNs/DSSM/iid_to_item_id.json\", \"w\") as f:\n",
        "    json.dump(iid_to_item_id, f)"
      ],
      "metadata": {
        "id": "-tdcLSs8VMlL"
      },
      "execution_count": null,
      "outputs": []
    },
    {
      "cell_type": "markdown",
      "source": [
        "## Словарь с просмотренными фильмами, отсортировнные по времени просмотра, для каждого пользователя"
      ],
      "metadata": {
        "id": "RYQyNIVquD91"
      }
    },
    {
      "cell_type": "code",
      "source": [
        "tmp = interactions_df[[\"uid\", \"iid\", \"last_watch_dt\"]]\n",
        "tmp = tmp.sort_values([\"uid\", \"last_watch_dt\"]).groupby(by=\"uid\", sort=False)[\"iid\"].agg(list)\n",
        "\n",
        "uid_to_watched_iids = tmp.to_dict()\n",
        "del tmp\n",
        "uid_to_watched_iids[1]"
      ],
      "metadata": {
        "colab": {
          "base_uri": "https://localhost:8080/"
        },
        "id": "tXPKWjnuv4zO",
        "outputId": "5c7c78d6-26eb-463a-ffb5-dd36e3bd5c77"
      },
      "execution_count": null,
      "outputs": [
        {
          "output_type": "execute_result",
          "data": {
            "text/plain": [
              "[1478, 2546, 3621, 5397, 7840, 6502, 8198, 8586]"
            ]
          },
          "metadata": {},
          "execution_count": 248
        }
      ]
    },
    {
      "cell_type": "code",
      "source": [
        "with open(\"/content/drive/MyDrive/RecSys MTC/NNs/DSSM/uid_to_watched_iids.json\", \"w\") as f:\n",
        "    json.dump(uid_to_watched_iids, f)"
      ],
      "metadata": {
        "id": "MWP9kqqdVRY6"
      },
      "execution_count": null,
      "outputs": []
    },
    {
      "cell_type": "markdown",
      "source": [
        "## Матрица признаков пользователей"
      ],
      "metadata": {
        "id": "D1kbI9wfFKGr"
      }
    },
    {
      "cell_type": "code",
      "source": [
        "users_ohe_df_tmp = users_ohe_df.drop(\"user_id\", axis=1)\n",
        "\n",
        "users_category_vec = np.zeros((interactions_df.uid.nunique(),\n",
        "                              users_ohe_df_tmp.shape[1]), dtype=np.float32)\n",
        "\n",
        "for u_id in users_ohe_df.index:\n",
        "    users_category_vec[u_id] = users_ohe_df_tmp.loc[u_id].to_numpy()\n",
        "del users_ohe_df_tmp\n",
        "\n",
        "users_category_vec.shape"
      ],
      "metadata": {
        "colab": {
          "base_uri": "https://localhost:8080/"
        },
        "id": "ivHokKVY_B_R",
        "outputId": "44a83410-6f0c-440d-8702-1f5b71a637ba"
      },
      "execution_count": null,
      "outputs": [
        {
          "output_type": "execute_result",
          "data": {
            "text/plain": [
              "(103074, 19)"
            ]
          },
          "metadata": {},
          "execution_count": 249
        }
      ]
    },
    {
      "cell_type": "markdown",
      "source": [
        "## Матрица признаков айтемов"
      ],
      "metadata": {
        "id": "9k0trkPqEgu5"
      }
    },
    {
      "cell_type": "code",
      "source": [
        "with open('/content/drive/MyDrive/RecSys MTC/kion/item_description_embeddings.json', 'r') as f:\n",
        "    item_description_embeddings = json.load(f)"
      ],
      "metadata": {
        "id": "2aSBqBEeEprp"
      },
      "execution_count": null,
      "outputs": []
    },
    {
      "cell_type": "code",
      "source": [
        "list(item_description_embeddings.keys())[:5]"
      ],
      "metadata": {
        "colab": {
          "base_uri": "https://localhost:8080/"
        },
        "id": "pPNhjBi9GnA5",
        "outputId": "1e27b8d4-7d9f-4a36-ddc8-3f9ec475d3c5"
      },
      "execution_count": null,
      "outputs": [
        {
          "output_type": "execute_result",
          "data": {
            "text/plain": [
              "['10711', '2508', '10716', '7868', '16268']"
            ]
          },
          "metadata": {},
          "execution_count": 251
        }
      ]
    },
    {
      "cell_type": "code",
      "source": [
        "len(item_description_embeddings['10711'])"
      ],
      "metadata": {
        "colab": {
          "base_uri": "https://localhost:8080/"
        },
        "id": "MRnPkR1fGvNj",
        "outputId": "985e7c93-1a53-44bd-ad30-cdc2de904fc5"
      },
      "execution_count": null,
      "outputs": [
        {
          "output_type": "execute_result",
          "data": {
            "text/plain": [
              "768"
            ]
          },
          "metadata": {},
          "execution_count": 252
        }
      ]
    },
    {
      "cell_type": "code",
      "source": [
        "items_ohe_df.head(1)"
      ],
      "metadata": {
        "colab": {
          "base_uri": "https://localhost:8080/"
        },
        "id": "vo7O0N3y_5nu",
        "outputId": "ba1dce67-6caf-42ed-8a55-aa713b885e64"
      },
      "execution_count": null,
      "outputs": [
        {
          "output_type": "execute_result",
          "data": {
            "text/plain": [
              "      item_id  content_type_film  content_type_series  for_kids_False  \\\n",
              "iid                                                                     \n",
              "1317     2508                  1                    0               1   \n",
              "\n",
              "      for_kids_True  age_rating_0.0  age_rating_6.0  age_rating_12.0  \\\n",
              "iid                                                                    \n",
              "1317              0               0               0                0   \n",
              "\n",
              "      age_rating_16.0  age_rating_18.0  ...  country_тунис  \\\n",
              "iid                                     ...                  \n",
              "1317                1                0  ...              0   \n",
              "\n",
              "      country_узбекистан  country_сша  country_камбоджа  country_куба  \\\n",
              "iid                                                                     \n",
              "1317                   0            1                 0             0   \n",
              "\n",
              "      country_республика корея  country_исландия  country_швеция  \\\n",
              "iid                                                                \n",
              "1317                         0                 0               0   \n",
              "\n",
              "      country_албания  country_эстония  \n",
              "iid                                     \n",
              "1317                0                0  \n",
              "\n",
              "[1 rows x 248 columns]"
            ],
            "text/html": [
              "\n",
              "  <div id=\"df-fae07b18-4cc4-4783-be8f-81608bdccdda\">\n",
              "    <div class=\"colab-df-container\">\n",
              "      <div>\n",
              "<style scoped>\n",
              "    .dataframe tbody tr th:only-of-type {\n",
              "        vertical-align: middle;\n",
              "    }\n",
              "\n",
              "    .dataframe tbody tr th {\n",
              "        vertical-align: top;\n",
              "    }\n",
              "\n",
              "    .dataframe thead th {\n",
              "        text-align: right;\n",
              "    }\n",
              "</style>\n",
              "<table border=\"1\" class=\"dataframe\">\n",
              "  <thead>\n",
              "    <tr style=\"text-align: right;\">\n",
              "      <th></th>\n",
              "      <th>item_id</th>\n",
              "      <th>content_type_film</th>\n",
              "      <th>content_type_series</th>\n",
              "      <th>for_kids_False</th>\n",
              "      <th>for_kids_True</th>\n",
              "      <th>age_rating_0.0</th>\n",
              "      <th>age_rating_6.0</th>\n",
              "      <th>age_rating_12.0</th>\n",
              "      <th>age_rating_16.0</th>\n",
              "      <th>age_rating_18.0</th>\n",
              "      <th>...</th>\n",
              "      <th>country_тунис</th>\n",
              "      <th>country_узбекистан</th>\n",
              "      <th>country_сша</th>\n",
              "      <th>country_камбоджа</th>\n",
              "      <th>country_куба</th>\n",
              "      <th>country_республика корея</th>\n",
              "      <th>country_исландия</th>\n",
              "      <th>country_швеция</th>\n",
              "      <th>country_албания</th>\n",
              "      <th>country_эстония</th>\n",
              "    </tr>\n",
              "    <tr>\n",
              "      <th>iid</th>\n",
              "      <th></th>\n",
              "      <th></th>\n",
              "      <th></th>\n",
              "      <th></th>\n",
              "      <th></th>\n",
              "      <th></th>\n",
              "      <th></th>\n",
              "      <th></th>\n",
              "      <th></th>\n",
              "      <th></th>\n",
              "      <th></th>\n",
              "      <th></th>\n",
              "      <th></th>\n",
              "      <th></th>\n",
              "      <th></th>\n",
              "      <th></th>\n",
              "      <th></th>\n",
              "      <th></th>\n",
              "      <th></th>\n",
              "      <th></th>\n",
              "      <th></th>\n",
              "    </tr>\n",
              "  </thead>\n",
              "  <tbody>\n",
              "    <tr>\n",
              "      <th>1317</th>\n",
              "      <td>2508</td>\n",
              "      <td>1</td>\n",
              "      <td>0</td>\n",
              "      <td>1</td>\n",
              "      <td>0</td>\n",
              "      <td>0</td>\n",
              "      <td>0</td>\n",
              "      <td>0</td>\n",
              "      <td>1</td>\n",
              "      <td>0</td>\n",
              "      <td>...</td>\n",
              "      <td>0</td>\n",
              "      <td>0</td>\n",
              "      <td>1</td>\n",
              "      <td>0</td>\n",
              "      <td>0</td>\n",
              "      <td>0</td>\n",
              "      <td>0</td>\n",
              "      <td>0</td>\n",
              "      <td>0</td>\n",
              "      <td>0</td>\n",
              "    </tr>\n",
              "  </tbody>\n",
              "</table>\n",
              "<p>1 rows × 248 columns</p>\n",
              "</div>\n",
              "      <button class=\"colab-df-convert\" onclick=\"convertToInteractive('df-fae07b18-4cc4-4783-be8f-81608bdccdda')\"\n",
              "              title=\"Convert this dataframe to an interactive table.\"\n",
              "              style=\"display:none;\">\n",
              "        \n",
              "  <svg xmlns=\"http://www.w3.org/2000/svg\" height=\"24px\"viewBox=\"0 0 24 24\"\n",
              "       width=\"24px\">\n",
              "    <path d=\"M0 0h24v24H0V0z\" fill=\"none\"/>\n",
              "    <path d=\"M18.56 5.44l.94 2.06.94-2.06 2.06-.94-2.06-.94-.94-2.06-.94 2.06-2.06.94zm-11 1L8.5 8.5l.94-2.06 2.06-.94-2.06-.94L8.5 2.5l-.94 2.06-2.06.94zm10 10l.94 2.06.94-2.06 2.06-.94-2.06-.94-.94-2.06-.94 2.06-2.06.94z\"/><path d=\"M17.41 7.96l-1.37-1.37c-.4-.4-.92-.59-1.43-.59-.52 0-1.04.2-1.43.59L10.3 9.45l-7.72 7.72c-.78.78-.78 2.05 0 2.83L4 21.41c.39.39.9.59 1.41.59.51 0 1.02-.2 1.41-.59l7.78-7.78 2.81-2.81c.8-.78.8-2.07 0-2.86zM5.41 20L4 18.59l7.72-7.72 1.47 1.35L5.41 20z\"/>\n",
              "  </svg>\n",
              "      </button>\n",
              "      \n",
              "  <style>\n",
              "    .colab-df-container {\n",
              "      display:flex;\n",
              "      flex-wrap:wrap;\n",
              "      gap: 12px;\n",
              "    }\n",
              "\n",
              "    .colab-df-convert {\n",
              "      background-color: #E8F0FE;\n",
              "      border: none;\n",
              "      border-radius: 50%;\n",
              "      cursor: pointer;\n",
              "      display: none;\n",
              "      fill: #1967D2;\n",
              "      height: 32px;\n",
              "      padding: 0 0 0 0;\n",
              "      width: 32px;\n",
              "    }\n",
              "\n",
              "    .colab-df-convert:hover {\n",
              "      background-color: #E2EBFA;\n",
              "      box-shadow: 0px 1px 2px rgba(60, 64, 67, 0.3), 0px 1px 3px 1px rgba(60, 64, 67, 0.15);\n",
              "      fill: #174EA6;\n",
              "    }\n",
              "\n",
              "    [theme=dark] .colab-df-convert {\n",
              "      background-color: #3B4455;\n",
              "      fill: #D2E3FC;\n",
              "    }\n",
              "\n",
              "    [theme=dark] .colab-df-convert:hover {\n",
              "      background-color: #434B5C;\n",
              "      box-shadow: 0px 1px 3px 1px rgba(0, 0, 0, 0.15);\n",
              "      filter: drop-shadow(0px 1px 2px rgba(0, 0, 0, 0.3));\n",
              "      fill: #FFFFFF;\n",
              "    }\n",
              "  </style>\n",
              "\n",
              "      <script>\n",
              "        const buttonEl =\n",
              "          document.querySelector('#df-fae07b18-4cc4-4783-be8f-81608bdccdda button.colab-df-convert');\n",
              "        buttonEl.style.display =\n",
              "          google.colab.kernel.accessAllowed ? 'block' : 'none';\n",
              "\n",
              "        async function convertToInteractive(key) {\n",
              "          const element = document.querySelector('#df-fae07b18-4cc4-4783-be8f-81608bdccdda');\n",
              "          const dataTable =\n",
              "            await google.colab.kernel.invokeFunction('convertToInteractive',\n",
              "                                                     [key], {});\n",
              "          if (!dataTable) return;\n",
              "\n",
              "          const docLinkHtml = 'Like what you see? Visit the ' +\n",
              "            '<a target=\"_blank\" href=https://colab.research.google.com/notebooks/data_table.ipynb>data table notebook</a>'\n",
              "            + ' to learn more about interactive tables.';\n",
              "          element.innerHTML = '';\n",
              "          dataTable['output_type'] = 'display_data';\n",
              "          await google.colab.output.renderOutput(dataTable, element);\n",
              "          const docLink = document.createElement('div');\n",
              "          docLink.innerHTML = docLinkHtml;\n",
              "          element.appendChild(docLink);\n",
              "        }\n",
              "      </script>\n",
              "    </div>\n",
              "  </div>\n",
              "  "
            ]
          },
          "metadata": {},
          "execution_count": 253
        }
      ]
    },
    {
      "cell_type": "code",
      "source": [
        "items_ohe_df_tmp = items_ohe_df.drop(\"item_id\", axis=1)\n",
        "\n",
        "items_vec = np.zeros((interactions_df.iid.nunique(),\n",
        "                      items_ohe_df_tmp.shape[1] + 768), dtype=np.float32)\n",
        "\n",
        "for i_id in items_ohe_df.index:\n",
        "    items_vec[i_id, : items_ohe_df_tmp.shape[1]] = items_ohe_df_tmp.loc[i_id].to_numpy()\n",
        "    items_vec[i_id, items_ohe_df_tmp.shape[1] : ] = item_description_embeddings[str(iid_to_item_id[i_id])]\n",
        "del items_ohe_df_tmp\n",
        "del item_description_embeddings\n",
        "\n",
        "items_vec.shape"
      ],
      "metadata": {
        "colab": {
          "base_uri": "https://localhost:8080/"
        },
        "id": "ay2GS9ChF30p",
        "outputId": "57fabfb3-c6c7-467a-ce5b-641d4a7d0a97"
      },
      "execution_count": null,
      "outputs": [
        {
          "output_type": "execute_result",
          "data": {
            "text/plain": [
              "(8836, 1015)"
            ]
          },
          "metadata": {},
          "execution_count": 254
        }
      ]
    },
    {
      "cell_type": "code",
      "source": [
        "print(interactions_df.item_id.nunique(), \" unique items (interactions)\")\n",
        "print(items_ohe_df.item_id.nunique(), \" unique items (ohe-features)\")\n",
        "print(interactions_df.user_id.nunique(), \" unique users (interactions)\")\n",
        "print(users_ohe_df.user_id.nunique(), \" unique users (ohe-features)\")\n",
        "\n",
        "print(set(items_ohe_df.item_id.unique()) - set(interactions_df.item_id.unique()))\n",
        "print(set(users_ohe_df.user_id.unique()) - set(interactions_df.user_id.unique()))"
      ],
      "metadata": {
        "colab": {
          "base_uri": "https://localhost:8080/"
        },
        "id": "p1gUdT6ssSP4",
        "outputId": "6bef894f-eca0-464e-c1aa-310c0b3cb43b"
      },
      "execution_count": null,
      "outputs": [
        {
          "output_type": "stream",
          "name": "stdout",
          "text": [
            "8836  unique items (interactions)\n",
            "8836  unique items (ohe-features)\n",
            "103074  unique users (interactions)\n",
            "103074  unique users (ohe-features)\n",
            "set()\n",
            "set()\n"
          ]
        }
      ]
    },
    {
      "cell_type": "code",
      "source": [
        "import gc\n",
        "\n",
        "del users_df, items_df\n",
        "del users_ohe_df, items_ohe_df\n",
        "gc.collect()"
      ],
      "metadata": {
        "colab": {
          "base_uri": "https://localhost:8080/"
        },
        "id": "cZZxpMMHPmbY",
        "outputId": "b046c640-1161-4afd-d2e4-556afa401f82"
      },
      "execution_count": null,
      "outputs": [
        {
          "output_type": "execute_result",
          "data": {
            "text/plain": [
              "0"
            ]
          },
          "metadata": {},
          "execution_count": 256
        }
      ]
    },
    {
      "cell_type": "markdown",
      "source": [
        "## Temporal DSSM"
      ],
      "metadata": {
        "id": "nqa4SLP-3lqc"
      }
    },
    {
      "cell_type": "markdown",
      "source": [
        "Пусть у модели будет 3 входа:\n",
        " - вектор пользователя (8855 = 19 + 8836) (векторная категория + вектор просмотров) -> MLP\n",
        " - вектор айтема (1015 = 247 + 768) (векторная категория + 768-размерный вектор описания фильма из модели Bert) -> MLP\n",
        " - вектора семи прошлых просмотренных айтемов для пользователя -> GRU\n",
        "\n",
        "Выход модели:\n",
        "\n",
        " - вектор пользователя (128)\n",
        " - вектор положительного айтема (128)\n",
        " - вектор негативного айтема (128)\n",
        "\n",
        "Функция ошибки BPR Triplet loss:\n",
        "\n",
        "![image.png](data:image/png;base64,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)\n",
        "\n",
        "\n",
        "\n"
      ],
      "metadata": {
        "id": "ocnVya-cLl7o"
      }
    },
    {
      "cell_type": "code",
      "source": [
        "def bpr_loss(a, pos, neg) -> torch.Tensor:\n",
        "    sim_a_pos = F.cosine_similarity(a, pos)\n",
        "    sim_a_neg = F.cosine_similarity(a, neg)\n",
        "    losses = 1 - F.sigmoid(sim_a_pos - sim_a_neg)\n",
        "    return torch.sum(losses)"
      ],
      "metadata": {
        "id": "Oa-NloDKCBi4"
      },
      "execution_count": null,
      "outputs": []
    },
    {
      "cell_type": "markdown",
      "source": [
        "Датасет\n"
      ],
      "metadata": {
        "id": "kw1QqaveW8Jn"
      }
    },
    {
      "cell_type": "code",
      "source": [
        "class RecDataset(Dataset):\n",
        "    def __init__(\n",
        "        self,\n",
        "        interactions_df: pd.DataFrame,\n",
        "        users_int_vec: np.ndarray,\n",
        "        users_cat_vec: np.ndarray,\n",
        "        items_vec: np.ndarray,\n",
        "        uid_to_watched_iids: dict[int, list[int]],\n",
        "        last_n_items: int = 7,\n",
        "        unq_u_ids: np.ndarray = None,\n",
        "    ):\n",
        "        self.users_cat_vec = users_cat_vec\n",
        "        self.users_int_vec = users_int_vec\n",
        "        self.items_vec = items_vec\n",
        "        self.uid_to_watched_iids = uid_to_watched_iids\n",
        "        self.last_n_items = last_n_items\n",
        "\n",
        "        if unq_u_ids is None:\n",
        "            unq_u_ids = interactions_df[\"uid\"].unique()\n",
        "        \n",
        "        np.random.shuffle(unq_u_ids)\n",
        "        self.unq_u_ids = unq_u_ids\n",
        "\n",
        "    def __getitem__(self, index: int):\n",
        "        uid = self.unq_u_ids[index]\n",
        "\n",
        "        user_cat_features = self.users_cat_vec[uid]\n",
        "        user_int_features = self.users_int_vec[uid]\n",
        "\n",
        "        watched_iids = uid_to_watched_iids[uid]\n",
        "        pos_item_index = np.random.randint(\n",
        "            low=self.last_n_items,\n",
        "            high=len(watched_iids)\n",
        "        )\n",
        "        watched_items_features = np.array([\n",
        "            self.items_vec[iid]\n",
        "                for iid in watched_iids[pos_item_index - self.last_n_items : pos_item_index]\n",
        "        ])\n",
        "\n",
        "        pos_iid = watched_iids[pos_item_index]\n",
        "        pos_item_features = self.items_vec[pos_iid]\n",
        "\n",
        "        neg_iid = np.random.randint(len(self.items_vec))\n",
        "        neg_item_features = self.items_vec[neg_iid]\n",
        "\n",
        "        return (\n",
        "            user_cat_features,\n",
        "            user_int_features,\n",
        "            watched_items_features,\n",
        "            pos_item_features,\n",
        "            neg_item_features,\n",
        "        )\n",
        "        \n",
        "    def __len__(self):\n",
        "        return len(self.unq_u_ids)\n"
      ],
      "metadata": {
        "id": "94476pM8WrE9"
      },
      "execution_count": null,
      "outputs": []
    },
    {
      "cell_type": "markdown",
      "source": [
        "Модель DSSM"
      ],
      "metadata": {
        "id": "VsaEr_YcWx1A"
      }
    },
    {
      "cell_type": "code",
      "source": [
        "class TemporalDSSM(nn.Module):\n",
        "    def __init__(\n",
        "        self,\n",
        "        u_cat_dim: int,\n",
        "        u_cat1_dim: int,\n",
        "        u_cat2_dim: int,\n",
        "        u_int_dim: int,\n",
        "        u_int1_dim: int,\n",
        "        u_int2_dim: int,\n",
        "        u_temp_dim: int,\n",
        "        if_dim: int,\n",
        "        if1_dim: int,\n",
        "        if2_dim: int,\n",
        "        final_dim: int,\n",
        "        dropout: float,\n",
        "    ):\n",
        "        super().__init__()\n",
        "        # Полносвязные слои с остаточным соединением для айтема\n",
        "        self.item_layer1 = nn.Sequential(\n",
        "            nn.Linear(if_dim, if1_dim),\n",
        "            nn.BatchNorm1d(if1_dim),\n",
        "            nn.Tanh(),\n",
        "            nn.Dropout(dropout),\n",
        "        )\n",
        "        self.item_layer2 = nn.Sequential(\n",
        "            nn.Linear(if1_dim, if2_dim),\n",
        "            nn.BatchNorm1d(if2_dim, ),\n",
        "            nn.Tanh(),\n",
        "            nn.Dropout(dropout),\n",
        "        )\n",
        "        # item embedding\n",
        "        self.item_emb = nn.Sequential(\n",
        "            nn.Linear(if2_dim, final_dim),\n",
        "            nn.BatchNorm1d(final_dim),\n",
        "            nn.Tanh(),\n",
        "        )\n",
        "        # Полносвязные слои с остаточным соединением для пользователя\n",
        "        self.user_cat1 = nn.Sequential(\n",
        "            nn.Linear(u_cat_dim, u_cat1_dim),\n",
        "            nn.BatchNorm1d(u_cat1_dim),\n",
        "            nn.Tanh(),\n",
        "            nn.Dropout(dropout),\n",
        "        )\n",
        "        self.user_cat2 = nn.Sequential(\n",
        "            nn.Linear(u_cat1_dim, u_cat2_dim),\n",
        "            nn.BatchNorm1d(u_cat2_dim),\n",
        "            nn.Tanh(),\n",
        "            nn.Dropout(dropout)\n",
        "        )\n",
        "        self.user_int1 = nn.Sequential(\n",
        "            nn.Linear(u_int_dim, u_int1_dim),\n",
        "            nn.BatchNorm1d(u_int1_dim),\n",
        "            nn.Tanh(),\n",
        "            nn.Dropout(dropout),\n",
        "        )\n",
        "        self.user_int2 = nn.Sequential(\n",
        "            nn.Linear(u_int1_dim, u_int2_dim),\n",
        "            nn.BatchNorm1d(u_int2_dim),\n",
        "            nn.Tanh(),\n",
        "            nn.Dropout(dropout),\n",
        "        )\n",
        "        # Рекуррентный слой для просмотренных айтемов пользователя\n",
        "        # E = {размерность векторов айтемов} = if_dim\n",
        "        # H = {размерность скрытого состояния} = u_temp_dim\n",
        "        # L = {длина последовательности}. B = {размер пакета}.\n",
        "        # Вход (B, L, E). Выход (B, L, H), (num_layers, B, H).\n",
        "        self.user_temp = (\n",
        "            nn.LSTM(\n",
        "                if_dim, u_temp_dim, \n",
        "                num_layers=2,\n",
        "                dropout=dropout,\n",
        "                batch_first=True\n",
        "            )\n",
        "        )\n",
        "        # user embedding\n",
        "        self.user_emb = nn.Sequential(\n",
        "            nn.Linear(u_cat2_dim + u_int2_dim + u_temp_dim, final_dim),\n",
        "            nn.BatchNorm1d(final_dim),\n",
        "            nn.Tanh()\n",
        "        )\n",
        "\n",
        "        # self.cosine = nn.CosineSimilarity()\n",
        "        # self.sigmoid = nn.Sigmoid()\n",
        "    \n",
        "    def forward(\n",
        "        self, \n",
        "        user_category_features,\n",
        "        user_interaction_features,\n",
        "        watched_items_features, # (B, L=7, E)\n",
        "        pos_item_features,      # (B, E)\n",
        "        neg_item_features,      # (B, E)\n",
        "    ):\n",
        "        # User embeding\n",
        "        user_cat1 = self.user_cat1(user_category_features)\n",
        "        user_cat2 = self.user_cat2(user_cat1)\n",
        "        user_cat2 += user_cat1\n",
        "\n",
        "        user_int1 = self.user_int1(user_interaction_features)\n",
        "        user_int2 = self.user_int2(user_int1)\n",
        "        user_int2 += user_int1\n",
        "        \n",
        "        _, user_temp = self.user_temp(watched_items_features)\n",
        "\n",
        "        user_emb = torch.cat((user_cat2, user_int2, user_temp[-1]), 1)\n",
        "        user_emb = self.user_emb(user_emb)\n",
        "        \n",
        "        # Positive item embedding\n",
        "        pos_item_layer1 = self.item_layer1(pos_item_features)\n",
        "        pos_item_layer2 = self.item_layer2(pos_item_layer1)\n",
        "        pos_item_layer2 += pos_item_layer1\n",
        "\n",
        "        pos_item_emb = self.item_emb(pos_item_layer2)\n",
        "\n",
        "        # Negative item embedding\n",
        "        neg_item_layer1 = self.item_layer1(neg_item_features)\n",
        "        neg_item_layer2 = self.item_layer2(neg_item_layer1)\n",
        "        neg_item_layer2 += neg_item_layer1\n",
        "\n",
        "        neg_item_emb = self.item_emb(neg_item_layer2)\n",
        "\n",
        "        return user_emb, pos_item_emb, neg_item_emb\n"
      ],
      "metadata": {
        "id": "bHaf8Rl_Ww6Y"
      },
      "execution_count": null,
      "outputs": []
    },
    {
      "cell_type": "code",
      "source": [
        "device = torch.device(\"cuda:0\" if torch.cuda.is_available() else \"cpu\")\n",
        "device"
      ],
      "metadata": {
        "colab": {
          "base_uri": "https://localhost:8080/"
        },
        "id": "B58sbBZ7TjpO",
        "outputId": "3a0bb4f1-f328-4bde-d933-6087e87ac60c"
      },
      "execution_count": null,
      "outputs": [
        {
          "output_type": "execute_result",
          "data": {
            "text/plain": [
              "device(type='cuda', index=0)"
            ]
          },
          "metadata": {},
          "execution_count": 260
        }
      ]
    },
    {
      "cell_type": "code",
      "source": [
        "unq_u_ids = interactions_df[\"uid\"].unique()\n",
        "np.random.shuffle(unq_u_ids)\n",
        "\n",
        "test_size = 0.1\n",
        "\n",
        "train_u_ids = unq_u_ids[:]\n",
        "test_u_ids = unq_u_ids[ : int(len(unq_u_ids) * test_size) ] \n",
        "\n",
        "train_data = RecDataset(\n",
        "    interactions_df = interactions_df,\n",
        "    users_int_vec = interactions_vec,\n",
        "    users_cat_vec = users_category_vec,\n",
        "    items_vec = items_vec,\n",
        "    uid_to_watched_iids = uid_to_watched_iids,\n",
        "    last_n_items = 7,\n",
        "    unq_u_ids = train_u_ids,\n",
        ")\n",
        "test_data = RecDataset(\n",
        "    interactions_df = interactions_df,\n",
        "    users_int_vec = interactions_vec,\n",
        "    users_cat_vec = users_category_vec,\n",
        "    items_vec = items_vec,\n",
        "    uid_to_watched_iids = uid_to_watched_iids,\n",
        "    last_n_items = 7,\n",
        "    unq_u_ids = test_u_ids,\n",
        ")\n",
        "\n",
        "train_loader = DataLoader(\n",
        "    train_data,\n",
        "    batch_size=256,\n",
        "    num_workers=2,\n",
        "    pin_memory=True,\n",
        "    shuffle=True,\n",
        ")\n",
        "test_loader = DataLoader(\n",
        "    test_data,\n",
        "    batch_size=256,\n",
        "    num_workers=2,\n",
        "    pin_memory=True,\n",
        "    shuffle=True,\n",
        ")"
      ],
      "metadata": {
        "id": "npRv57sH0ss6"
      },
      "execution_count": null,
      "outputs": []
    },
    {
      "cell_type": "code",
      "source": [
        "print(f\"{interactions_vec.shape} - user interactions vectors\")\n",
        "print(f\"{users_category_vec.shape} - user category features\")\n",
        "print(f\"{items_vec.shape} - item vectors\")\n",
        "print(f\"{len(uid_to_watched_iids)} - user watched items lists\")"
      ],
      "metadata": {
        "colab": {
          "base_uri": "https://localhost:8080/"
        },
        "id": "FiP_EmhKTigK",
        "outputId": "48104467-2370-42d4-f2a8-c49befc9de51"
      },
      "execution_count": null,
      "outputs": [
        {
          "output_type": "stream",
          "name": "stdout",
          "text": [
            "(103074, 8836) - user interactions vectors\n",
            "(103074, 19) - user category features\n",
            "(8836, 1015) - item vectors\n",
            "103074 - user watched items lists\n"
          ]
        }
      ]
    },
    {
      "cell_type": "code",
      "source": [
        "net = TemporalDSSM(\n",
        "    u_cat_dim = 19,\n",
        "    u_cat1_dim = 64,\n",
        "    u_cat2_dim = 64,\n",
        "    u_int_dim = 8836,\n",
        "    u_int1_dim = 256,\n",
        "    u_int2_dim = 256,\n",
        "    u_temp_dim = 256,\n",
        "    if_dim = 1015,\n",
        "    if1_dim = 128,\n",
        "    if2_dim = 128,\n",
        "    final_dim = 128,\n",
        "    dropout=0.5,\n",
        ")\n",
        "net.to(device)\n",
        "\n",
        "optimizer = optim.Adam(net.parameters())\n",
        "criterion = bpr_loss"
      ],
      "metadata": {
        "id": "nvxxuP7Mblyw"
      },
      "execution_count": null,
      "outputs": []
    },
    {
      "cell_type": "code",
      "source": [
        "def process_epoch(\n",
        "    net: nn.Module,\n",
        "    loader: DataLoader,\n",
        "    optimizer: optim.Optimizer,\n",
        "    criterion: tp.Callable,\n",
        "    device: torch.device,\n",
        "    process: str, # \"train\", \"eval\"\n",
        "):\n",
        "    epoch_loss = 0.\n",
        "    n_batches = len(loader)\n",
        "    \n",
        "    if process == \"train\":\n",
        "        net.train()\n",
        "    elif process == \"eval\":\n",
        "        net.eval()\n",
        "    \n",
        "    with torch.set_grad_enabled(process == \"train\"):\n",
        "        for batch in tqdm(loader, total=n_batches):\n",
        "            user_cat_features = batch[0].to(device)\n",
        "            user_int_features = batch[1].to(device)\n",
        "            watched_items_features = batch[2].to(device)\n",
        "            pos_item_features = batch[3].to(device)\n",
        "            neg_item_features = batch[4].to(device)\n",
        "\n",
        "            u_emb, pos_u_emb, neg_i_emb = net(\n",
        "                user_category_features = user_cat_features,\n",
        "                user_interaction_features = user_int_features,\n",
        "                watched_items_features = watched_items_features, # (L, B, E)\n",
        "                pos_item_features = pos_item_features,\n",
        "                neg_item_features = neg_item_features,\n",
        "            )\n",
        "            loss = criterion(u_emb, pos_u_emb, neg_i_emb)\n",
        "\n",
        "            if process == \"train\":\n",
        "                optimizer.zero_grad()\n",
        "                loss.backward()\n",
        "                optimizer.step()\n",
        "\n",
        "            epoch_loss += loss.item()\n",
        "            \n",
        "    return epoch_loss / n_batches"
      ],
      "metadata": {
        "id": "ZRRPe0JMuw0d"
      },
      "execution_count": null,
      "outputs": []
    },
    {
      "cell_type": "code",
      "source": [
        "train_losses = []\n",
        "valid_losses = []\n",
        "best_valid_loss = float(\"inf\")\n",
        "best_model_state: tp.Dict[str, torch.Tensor] = {}\n",
        "for epoch in range(100):\n",
        "    print(f\"Epoch {epoch + 1} started\")\n",
        "\n",
        "    train_loss = process_epoch(net, train_loader, optimizer, criterion, device, \"train\")\n",
        "    valid_loss = process_epoch(net, test_loader, optimizer, criterion, device, \"eval\")\n",
        "\n",
        "    train_losses.append(train_loss)\n",
        "    valid_losses.append(valid_loss)\n",
        "\n",
        "    if valid_loss < best_valid_loss:\n",
        "        best_valid_loss = valid_loss\n",
        "        best_model_state = net.state_dict()\n",
        "\n",
        "    print(f\"Epoch: {epoch + 1:02}\")\n",
        "    print(\n",
        "        f\"\\t Train loss: {train_loss:.3f}\"\n",
        "        f\"\\n\\t Valid loss: {valid_loss:.3f}\"\n",
        "    )\n",
        "\n",
        "net.load_state_dict(best_model_state)\n",
        "torch.save(best_model_state, \"/content/drive/MyDrive/RecSys MTC/NNs/DSSM/best_model_dssm_100.pt\")"
      ],
      "metadata": {
        "colab": {
          "base_uri": "https://localhost:8080/"
        },
        "id": "cPd9nCeRVvoT",
        "outputId": "3939c8ac-66c3-458f-d89a-39931cd057b2"
      },
      "execution_count": null,
      "outputs": [
        {
          "output_type": "stream",
          "name": "stdout",
          "text": [
            "Epoch 1 started\n"
          ]
        },
        {
          "output_type": "stream",
          "name": "stderr",
          "text": [
            "100%|██████████| 403/403 [00:18<00:00, 22.32it/s]\n",
            "100%|██████████| 41/41 [00:01<00:00, 21.78it/s]\n"
          ]
        },
        {
          "output_type": "stream",
          "name": "stdout",
          "text": [
            "Epoch: 01\n",
            "\t Train loss: 105.996\n",
            "\t Valid loss: 99.870\n",
            "Epoch 2 started\n"
          ]
        },
        {
          "output_type": "stream",
          "name": "stderr",
          "text": [
            "100%|██████████| 403/403 [00:18<00:00, 22.27it/s]\n",
            "100%|██████████| 41/41 [00:02<00:00, 17.10it/s]\n"
          ]
        },
        {
          "output_type": "stream",
          "name": "stdout",
          "text": [
            "Epoch: 02\n",
            "\t Train loss: 101.964\n",
            "\t Valid loss: 98.382\n",
            "Epoch 3 started\n"
          ]
        },
        {
          "output_type": "stream",
          "name": "stderr",
          "text": [
            "100%|██████████| 403/403 [00:17<00:00, 22.80it/s]\n",
            "100%|██████████| 41/41 [00:01<00:00, 21.66it/s]\n"
          ]
        },
        {
          "output_type": "stream",
          "name": "stdout",
          "text": [
            "Epoch: 03\n",
            "\t Train loss: 100.434\n",
            "\t Valid loss: 96.649\n",
            "Epoch 4 started\n"
          ]
        },
        {
          "output_type": "stream",
          "name": "stderr",
          "text": [
            "100%|██████████| 403/403 [00:16<00:00, 24.02it/s]\n",
            "100%|██████████| 41/41 [00:01<00:00, 21.68it/s]\n"
          ]
        },
        {
          "output_type": "stream",
          "name": "stdout",
          "text": [
            "Epoch: 04\n",
            "\t Train loss: 99.817\n",
            "\t Valid loss: 96.498\n",
            "Epoch 5 started\n"
          ]
        },
        {
          "output_type": "stream",
          "name": "stderr",
          "text": [
            "100%|██████████| 403/403 [00:25<00:00, 15.55it/s]\n",
            "100%|██████████| 41/41 [00:02<00:00, 14.38it/s]\n"
          ]
        },
        {
          "output_type": "stream",
          "name": "stdout",
          "text": [
            "Epoch: 05\n",
            "\t Train loss: 98.623\n",
            "\t Valid loss: 96.215\n",
            "Epoch 6 started\n"
          ]
        },
        {
          "output_type": "stream",
          "name": "stderr",
          "text": [
            "100%|██████████| 403/403 [00:22<00:00, 17.64it/s]\n",
            "100%|██████████| 41/41 [00:03<00:00, 12.36it/s]\n"
          ]
        },
        {
          "output_type": "stream",
          "name": "stdout",
          "text": [
            "Epoch: 06\n",
            "\t Train loss: 97.262\n",
            "\t Valid loss: 99.122\n",
            "Epoch 7 started\n"
          ]
        },
        {
          "output_type": "stream",
          "name": "stderr",
          "text": [
            "100%|██████████| 403/403 [00:21<00:00, 18.75it/s]\n",
            "100%|██████████| 41/41 [00:02<00:00, 14.04it/s]\n"
          ]
        },
        {
          "output_type": "stream",
          "name": "stdout",
          "text": [
            "Epoch: 07\n",
            "\t Train loss: 95.277\n",
            "\t Valid loss: 103.288\n",
            "Epoch 8 started\n"
          ]
        },
        {
          "output_type": "stream",
          "name": "stderr",
          "text": [
            "100%|██████████| 403/403 [00:20<00:00, 19.74it/s]\n",
            "100%|██████████| 41/41 [00:02<00:00, 19.18it/s]\n"
          ]
        },
        {
          "output_type": "stream",
          "name": "stdout",
          "text": [
            "Epoch: 08\n",
            "\t Train loss: 88.575\n",
            "\t Valid loss: 121.413\n",
            "Epoch 9 started\n"
          ]
        },
        {
          "output_type": "stream",
          "name": "stderr",
          "text": [
            "100%|██████████| 403/403 [00:20<00:00, 20.00it/s]\n",
            "100%|██████████| 41/41 [00:02<00:00, 17.88it/s]\n"
          ]
        },
        {
          "output_type": "stream",
          "name": "stdout",
          "text": [
            "Epoch: 09\n",
            "\t Train loss: 80.089\n",
            "\t Valid loss: 135.634\n",
            "Epoch 10 started\n"
          ]
        },
        {
          "output_type": "stream",
          "name": "stderr",
          "text": [
            "100%|██████████| 403/403 [00:20<00:00, 19.48it/s]\n",
            "100%|██████████| 41/41 [00:03<00:00, 12.96it/s]\n"
          ]
        },
        {
          "output_type": "stream",
          "name": "stdout",
          "text": [
            "Epoch: 10\n",
            "\t Train loss: 70.462\n",
            "\t Valid loss: 135.440\n",
            "Epoch 11 started\n"
          ]
        },
        {
          "output_type": "stream",
          "name": "stderr",
          "text": [
            "100%|██████████| 403/403 [00:19<00:00, 20.42it/s]\n",
            "100%|██████████| 41/41 [00:02<00:00, 14.71it/s]\n"
          ]
        },
        {
          "output_type": "stream",
          "name": "stdout",
          "text": [
            "Epoch: 11\n",
            "\t Train loss: 65.176\n",
            "\t Valid loss: 140.029\n",
            "Epoch 12 started\n"
          ]
        },
        {
          "output_type": "stream",
          "name": "stderr",
          "text": [
            "100%|██████████| 403/403 [00:21<00:00, 18.79it/s]\n",
            "100%|██████████| 41/41 [00:01<00:00, 21.83it/s]\n"
          ]
        },
        {
          "output_type": "stream",
          "name": "stdout",
          "text": [
            "Epoch: 12\n",
            "\t Train loss: 62.720\n",
            "\t Valid loss: 144.332\n",
            "Epoch 13 started\n"
          ]
        },
        {
          "output_type": "stream",
          "name": "stderr",
          "text": [
            "100%|██████████| 403/403 [00:20<00:00, 19.74it/s]\n",
            "100%|██████████| 41/41 [00:02<00:00, 16.94it/s]\n"
          ]
        },
        {
          "output_type": "stream",
          "name": "stdout",
          "text": [
            "Epoch: 13\n",
            "\t Train loss: 61.841\n",
            "\t Valid loss: 135.598\n",
            "Epoch 14 started\n"
          ]
        },
        {
          "output_type": "stream",
          "name": "stderr",
          "text": [
            "100%|██████████| 403/403 [00:24<00:00, 16.59it/s]\n",
            "100%|██████████| 41/41 [00:03<00:00, 12.66it/s]\n"
          ]
        },
        {
          "output_type": "stream",
          "name": "stdout",
          "text": [
            "Epoch: 14\n",
            "\t Train loss: 61.087\n",
            "\t Valid loss: 122.766\n",
            "Epoch 15 started\n"
          ]
        },
        {
          "output_type": "stream",
          "name": "stderr",
          "text": [
            "100%|██████████| 403/403 [00:22<00:00, 17.73it/s]\n",
            "100%|██████████| 41/41 [00:01<00:00, 21.57it/s]\n"
          ]
        },
        {
          "output_type": "stream",
          "name": "stdout",
          "text": [
            "Epoch: 15\n",
            "\t Train loss: 60.638\n",
            "\t Valid loss: 137.368\n",
            "Epoch 16 started\n"
          ]
        },
        {
          "output_type": "stream",
          "name": "stderr",
          "text": [
            "100%|██████████| 403/403 [00:20<00:00, 19.35it/s]\n",
            "100%|██████████| 41/41 [00:02<00:00, 14.26it/s]\n"
          ]
        },
        {
          "output_type": "stream",
          "name": "stdout",
          "text": [
            "Epoch: 16\n",
            "\t Train loss: 60.374\n",
            "\t Valid loss: 135.997\n",
            "Epoch 17 started\n"
          ]
        },
        {
          "output_type": "stream",
          "name": "stderr",
          "text": [
            "100%|██████████| 403/403 [00:16<00:00, 24.27it/s]\n",
            "100%|██████████| 41/41 [00:01<00:00, 21.39it/s]\n"
          ]
        },
        {
          "output_type": "stream",
          "name": "stdout",
          "text": [
            "Epoch: 17\n",
            "\t Train loss: 59.962\n",
            "\t Valid loss: 132.085\n",
            "Epoch 18 started\n"
          ]
        },
        {
          "output_type": "stream",
          "name": "stderr",
          "text": [
            "100%|██████████| 403/403 [00:16<00:00, 23.99it/s]\n",
            "100%|██████████| 41/41 [00:01<00:00, 21.76it/s]\n"
          ]
        },
        {
          "output_type": "stream",
          "name": "stdout",
          "text": [
            "Epoch: 18\n",
            "\t Train loss: 60.124\n",
            "\t Valid loss: 146.618\n",
            "Epoch 19 started\n"
          ]
        },
        {
          "output_type": "stream",
          "name": "stderr",
          "text": [
            "100%|██████████| 403/403 [00:18<00:00, 21.54it/s]\n",
            "100%|██████████| 41/41 [00:01<00:00, 20.89it/s]\n"
          ]
        },
        {
          "output_type": "stream",
          "name": "stdout",
          "text": [
            "Epoch: 19\n",
            "\t Train loss: 59.961\n",
            "\t Valid loss: 132.017\n",
            "Epoch 20 started\n"
          ]
        },
        {
          "output_type": "stream",
          "name": "stderr",
          "text": [
            "100%|██████████| 403/403 [00:16<00:00, 23.83it/s]\n",
            "100%|██████████| 41/41 [00:01<00:00, 21.45it/s]\n"
          ]
        },
        {
          "output_type": "stream",
          "name": "stdout",
          "text": [
            "Epoch: 20\n",
            "\t Train loss: 59.853\n",
            "\t Valid loss: 136.034\n",
            "Epoch 21 started\n"
          ]
        },
        {
          "output_type": "stream",
          "name": "stderr",
          "text": [
            "100%|██████████| 403/403 [00:16<00:00, 23.85it/s]\n",
            "100%|██████████| 41/41 [00:02<00:00, 16.19it/s]\n"
          ]
        },
        {
          "output_type": "stream",
          "name": "stdout",
          "text": [
            "Epoch: 21\n",
            "\t Train loss: 59.522\n",
            "\t Valid loss: 131.968\n",
            "Epoch 22 started\n"
          ]
        },
        {
          "output_type": "stream",
          "name": "stderr",
          "text": [
            "100%|██████████| 403/403 [00:18<00:00, 21.46it/s]\n",
            "100%|██████████| 41/41 [00:02<00:00, 19.51it/s]\n"
          ]
        },
        {
          "output_type": "stream",
          "name": "stdout",
          "text": [
            "Epoch: 22\n",
            "\t Train loss: 59.241\n",
            "\t Valid loss: 132.285\n",
            "Epoch 23 started\n"
          ]
        },
        {
          "output_type": "stream",
          "name": "stderr",
          "text": [
            "100%|██████████| 403/403 [00:16<00:00, 23.91it/s]\n",
            "100%|██████████| 41/41 [00:01<00:00, 22.19it/s]\n"
          ]
        },
        {
          "output_type": "stream",
          "name": "stdout",
          "text": [
            "Epoch: 23\n",
            "\t Train loss: 59.127\n",
            "\t Valid loss: 128.465\n",
            "Epoch 24 started\n"
          ]
        },
        {
          "output_type": "stream",
          "name": "stderr",
          "text": [
            "100%|██████████| 403/403 [00:17<00:00, 22.44it/s]\n",
            "100%|██████████| 41/41 [00:02<00:00, 16.56it/s]\n"
          ]
        },
        {
          "output_type": "stream",
          "name": "stdout",
          "text": [
            "Epoch: 24\n",
            "\t Train loss: 59.066\n",
            "\t Valid loss: 126.700\n",
            "Epoch 25 started\n"
          ]
        },
        {
          "output_type": "stream",
          "name": "stderr",
          "text": [
            "100%|██████████| 403/403 [00:17<00:00, 23.69it/s]\n",
            "100%|██████████| 41/41 [00:01<00:00, 21.88it/s]\n"
          ]
        },
        {
          "output_type": "stream",
          "name": "stdout",
          "text": [
            "Epoch: 25\n",
            "\t Train loss: 58.943\n",
            "\t Valid loss: 133.883\n",
            "Epoch 26 started\n"
          ]
        },
        {
          "output_type": "stream",
          "name": "stderr",
          "text": [
            "100%|██████████| 403/403 [00:16<00:00, 23.86it/s]\n",
            "100%|██████████| 41/41 [00:02<00:00, 18.32it/s]\n"
          ]
        },
        {
          "output_type": "stream",
          "name": "stdout",
          "text": [
            "Epoch: 26\n",
            "\t Train loss: 58.771\n",
            "\t Valid loss: 137.323\n",
            "Epoch 27 started\n"
          ]
        },
        {
          "output_type": "stream",
          "name": "stderr",
          "text": [
            "100%|██████████| 403/403 [00:19<00:00, 20.69it/s]\n",
            "100%|██████████| 41/41 [00:03<00:00, 13.65it/s]\n"
          ]
        },
        {
          "output_type": "stream",
          "name": "stdout",
          "text": [
            "Epoch: 27\n",
            "\t Train loss: 58.908\n",
            "\t Valid loss: 136.616\n",
            "Epoch 28 started\n"
          ]
        },
        {
          "output_type": "stream",
          "name": "stderr",
          "text": [
            "100%|██████████| 403/403 [00:17<00:00, 23.20it/s]\n",
            "100%|██████████| 41/41 [00:02<00:00, 16.60it/s]\n"
          ]
        },
        {
          "output_type": "stream",
          "name": "stdout",
          "text": [
            "Epoch: 28\n",
            "\t Train loss: 58.889\n",
            "\t Valid loss: 139.797\n",
            "Epoch 29 started\n"
          ]
        },
        {
          "output_type": "stream",
          "name": "stderr",
          "text": [
            "100%|██████████| 403/403 [00:19<00:00, 20.16it/s]\n",
            "100%|██████████| 41/41 [00:02<00:00, 16.65it/s]\n"
          ]
        },
        {
          "output_type": "stream",
          "name": "stdout",
          "text": [
            "Epoch: 29\n",
            "\t Train loss: 58.530\n",
            "\t Valid loss: 144.157\n",
            "Epoch 30 started\n"
          ]
        },
        {
          "output_type": "stream",
          "name": "stderr",
          "text": [
            "100%|██████████| 403/403 [00:17<00:00, 22.83it/s]\n",
            "100%|██████████| 41/41 [00:01<00:00, 21.68it/s]\n"
          ]
        },
        {
          "output_type": "stream",
          "name": "stdout",
          "text": [
            "Epoch: 30\n",
            "\t Train loss: 58.857\n",
            "\t Valid loss: 142.904\n",
            "Epoch 31 started\n"
          ]
        },
        {
          "output_type": "stream",
          "name": "stderr",
          "text": [
            "100%|██████████| 403/403 [00:18<00:00, 21.71it/s]\n",
            "100%|██████████| 41/41 [00:01<00:00, 21.48it/s]\n"
          ]
        },
        {
          "output_type": "stream",
          "name": "stdout",
          "text": [
            "Epoch: 31\n",
            "\t Train loss: 58.848\n",
            "\t Valid loss: 140.366\n",
            "Epoch 32 started\n"
          ]
        },
        {
          "output_type": "stream",
          "name": "stderr",
          "text": [
            "100%|██████████| 403/403 [00:17<00:00, 22.49it/s]\n",
            "100%|██████████| 41/41 [00:01<00:00, 21.72it/s]\n"
          ]
        },
        {
          "output_type": "stream",
          "name": "stdout",
          "text": [
            "Epoch: 32\n",
            "\t Train loss: 58.587\n",
            "\t Valid loss: 134.654\n",
            "Epoch 33 started\n"
          ]
        },
        {
          "output_type": "stream",
          "name": "stderr",
          "text": [
            "100%|██████████| 403/403 [00:22<00:00, 18.08it/s]\n",
            "100%|██████████| 41/41 [00:01<00:00, 21.93it/s]\n"
          ]
        },
        {
          "output_type": "stream",
          "name": "stdout",
          "text": [
            "Epoch: 33\n",
            "\t Train loss: 58.773\n",
            "\t Valid loss: 141.456\n",
            "Epoch 34 started\n"
          ]
        },
        {
          "output_type": "stream",
          "name": "stderr",
          "text": [
            "100%|██████████| 403/403 [00:17<00:00, 23.20it/s]\n",
            "100%|██████████| 41/41 [00:02<00:00, 18.33it/s]\n"
          ]
        },
        {
          "output_type": "stream",
          "name": "stdout",
          "text": [
            "Epoch: 34\n",
            "\t Train loss: 58.617\n",
            "\t Valid loss: 132.105\n",
            "Epoch 35 started\n"
          ]
        },
        {
          "output_type": "stream",
          "name": "stderr",
          "text": [
            "100%|██████████| 403/403 [00:21<00:00, 19.18it/s]\n",
            "100%|██████████| 41/41 [00:01<00:00, 20.83it/s]\n"
          ]
        },
        {
          "output_type": "stream",
          "name": "stdout",
          "text": [
            "Epoch: 35\n",
            "\t Train loss: 58.658\n",
            "\t Valid loss: 143.206\n",
            "Epoch 36 started\n"
          ]
        },
        {
          "output_type": "stream",
          "name": "stderr",
          "text": [
            "100%|██████████| 403/403 [00:16<00:00, 23.97it/s]\n",
            "100%|██████████| 41/41 [00:01<00:00, 21.90it/s]\n"
          ]
        },
        {
          "output_type": "stream",
          "name": "stdout",
          "text": [
            "Epoch: 36\n",
            "\t Train loss: 58.356\n",
            "\t Valid loss: 132.568\n",
            "Epoch 37 started\n"
          ]
        },
        {
          "output_type": "stream",
          "name": "stderr",
          "text": [
            "100%|██████████| 403/403 [00:17<00:00, 23.56it/s]\n",
            "100%|██████████| 41/41 [00:02<00:00, 13.86it/s]\n"
          ]
        },
        {
          "output_type": "stream",
          "name": "stdout",
          "text": [
            "Epoch: 37\n",
            "\t Train loss: 58.513\n",
            "\t Valid loss: 138.070\n",
            "Epoch 38 started\n"
          ]
        },
        {
          "output_type": "stream",
          "name": "stderr",
          "text": [
            "100%|██████████| 403/403 [00:16<00:00, 24.25it/s]\n",
            "100%|██████████| 41/41 [00:01<00:00, 21.77it/s]\n"
          ]
        },
        {
          "output_type": "stream",
          "name": "stdout",
          "text": [
            "Epoch: 38\n",
            "\t Train loss: 58.617\n",
            "\t Valid loss: 136.917\n",
            "Epoch 39 started\n"
          ]
        },
        {
          "output_type": "stream",
          "name": "stderr",
          "text": [
            "100%|██████████| 403/403 [00:16<00:00, 23.90it/s]\n",
            "100%|██████████| 41/41 [00:01<00:00, 21.68it/s]\n"
          ]
        },
        {
          "output_type": "stream",
          "name": "stdout",
          "text": [
            "Epoch: 39\n",
            "\t Train loss: 58.580\n",
            "\t Valid loss: 136.473\n",
            "Epoch 40 started\n"
          ]
        },
        {
          "output_type": "stream",
          "name": "stderr",
          "text": [
            "100%|██████████| 403/403 [00:17<00:00, 22.63it/s]\n",
            "100%|██████████| 41/41 [00:02<00:00, 18.38it/s]\n"
          ]
        },
        {
          "output_type": "stream",
          "name": "stdout",
          "text": [
            "Epoch: 40\n",
            "\t Train loss: 58.253\n",
            "\t Valid loss: 141.083\n",
            "Epoch 41 started\n"
          ]
        },
        {
          "output_type": "stream",
          "name": "stderr",
          "text": [
            "100%|██████████| 403/403 [00:16<00:00, 23.90it/s]\n",
            "100%|██████████| 41/41 [00:01<00:00, 21.89it/s]\n"
          ]
        },
        {
          "output_type": "stream",
          "name": "stdout",
          "text": [
            "Epoch: 41\n",
            "\t Train loss: 58.549\n",
            "\t Valid loss: 144.885\n",
            "Epoch 42 started\n"
          ]
        },
        {
          "output_type": "stream",
          "name": "stderr",
          "text": [
            "100%|██████████| 403/403 [00:16<00:00, 24.00it/s]\n",
            "100%|██████████| 41/41 [00:02<00:00, 19.84it/s]\n"
          ]
        },
        {
          "output_type": "stream",
          "name": "stdout",
          "text": [
            "Epoch: 42\n",
            "\t Train loss: 58.361\n",
            "\t Valid loss: 119.222\n",
            "Epoch 43 started\n"
          ]
        },
        {
          "output_type": "stream",
          "name": "stderr",
          "text": [
            "100%|██████████| 403/403 [00:18<00:00, 22.37it/s]\n",
            "100%|██████████| 41/41 [00:01<00:00, 22.10it/s]\n"
          ]
        },
        {
          "output_type": "stream",
          "name": "stdout",
          "text": [
            "Epoch: 43\n",
            "\t Train loss: 58.207\n",
            "\t Valid loss: 141.718\n",
            "Epoch 44 started\n"
          ]
        },
        {
          "output_type": "stream",
          "name": "stderr",
          "text": [
            "100%|██████████| 403/403 [00:16<00:00, 24.02it/s]\n",
            "100%|██████████| 41/41 [00:01<00:00, 21.55it/s]\n"
          ]
        },
        {
          "output_type": "stream",
          "name": "stdout",
          "text": [
            "Epoch: 44\n",
            "\t Train loss: 58.333\n",
            "\t Valid loss: 135.105\n",
            "Epoch 45 started\n"
          ]
        },
        {
          "output_type": "stream",
          "name": "stderr",
          "text": [
            "100%|██████████| 403/403 [00:16<00:00, 23.93it/s]\n",
            "100%|██████████| 41/41 [00:02<00:00, 13.80it/s]\n"
          ]
        },
        {
          "output_type": "stream",
          "name": "stdout",
          "text": [
            "Epoch: 45\n",
            "\t Train loss: 58.501\n",
            "\t Valid loss: 132.345\n",
            "Epoch 46 started\n"
          ]
        },
        {
          "output_type": "stream",
          "name": "stderr",
          "text": [
            "100%|██████████| 403/403 [00:17<00:00, 23.66it/s]\n",
            "100%|██████████| 41/41 [00:01<00:00, 21.93it/s]\n"
          ]
        },
        {
          "output_type": "stream",
          "name": "stdout",
          "text": [
            "Epoch: 46\n",
            "\t Train loss: 58.186\n",
            "\t Valid loss: 128.141\n",
            "Epoch 47 started\n"
          ]
        },
        {
          "output_type": "stream",
          "name": "stderr",
          "text": [
            "100%|██████████| 403/403 [00:16<00:00, 24.03it/s]\n",
            "100%|██████████| 41/41 [00:01<00:00, 21.78it/s]\n"
          ]
        },
        {
          "output_type": "stream",
          "name": "stdout",
          "text": [
            "Epoch: 47\n",
            "\t Train loss: 58.286\n",
            "\t Valid loss: 142.378\n",
            "Epoch 48 started\n"
          ]
        },
        {
          "output_type": "stream",
          "name": "stderr",
          "text": [
            "100%|██████████| 403/403 [00:17<00:00, 23.49it/s]\n",
            "100%|██████████| 41/41 [00:02<00:00, 14.18it/s]\n"
          ]
        },
        {
          "output_type": "stream",
          "name": "stdout",
          "text": [
            "Epoch: 48\n",
            "\t Train loss: 58.422\n",
            "\t Valid loss: 123.602\n",
            "Epoch 49 started\n"
          ]
        },
        {
          "output_type": "stream",
          "name": "stderr",
          "text": [
            "100%|██████████| 403/403 [00:16<00:00, 24.01it/s]\n",
            "100%|██████████| 41/41 [00:01<00:00, 21.90it/s]\n"
          ]
        },
        {
          "output_type": "stream",
          "name": "stdout",
          "text": [
            "Epoch: 49\n",
            "\t Train loss: 58.205\n",
            "\t Valid loss: 133.506\n",
            "Epoch 50 started\n"
          ]
        },
        {
          "output_type": "stream",
          "name": "stderr",
          "text": [
            "100%|██████████| 403/403 [00:16<00:00, 24.01it/s]\n",
            "100%|██████████| 41/41 [00:01<00:00, 21.73it/s]\n"
          ]
        },
        {
          "output_type": "stream",
          "name": "stdout",
          "text": [
            "Epoch: 50\n",
            "\t Train loss: 58.303\n",
            "\t Valid loss: 122.899\n",
            "Epoch 51 started\n"
          ]
        },
        {
          "output_type": "stream",
          "name": "stderr",
          "text": [
            "100%|██████████| 403/403 [00:17<00:00, 23.03it/s]\n",
            "100%|██████████| 41/41 [00:02<00:00, 16.25it/s]\n"
          ]
        },
        {
          "output_type": "stream",
          "name": "stdout",
          "text": [
            "Epoch: 51\n",
            "\t Train loss: 58.067\n",
            "\t Valid loss: 137.739\n",
            "Epoch 52 started\n"
          ]
        },
        {
          "output_type": "stream",
          "name": "stderr",
          "text": [
            "100%|██████████| 403/403 [00:16<00:00, 24.11it/s]\n",
            "100%|██████████| 41/41 [00:01<00:00, 22.30it/s]\n"
          ]
        },
        {
          "output_type": "stream",
          "name": "stdout",
          "text": [
            "Epoch: 52\n",
            "\t Train loss: 58.059\n",
            "\t Valid loss: 134.519\n",
            "Epoch 53 started\n"
          ]
        },
        {
          "output_type": "stream",
          "name": "stderr",
          "text": [
            "100%|██████████| 403/403 [00:16<00:00, 24.16it/s]\n",
            "100%|██████████| 41/41 [00:01<00:00, 21.71it/s]\n"
          ]
        },
        {
          "output_type": "stream",
          "name": "stdout",
          "text": [
            "Epoch: 53\n",
            "\t Train loss: 58.500\n",
            "\t Valid loss: 137.177\n",
            "Epoch 54 started\n"
          ]
        },
        {
          "output_type": "stream",
          "name": "stderr",
          "text": [
            "100%|██████████| 403/403 [00:18<00:00, 22.11it/s]\n",
            "100%|██████████| 41/41 [00:01<00:00, 20.78it/s]\n"
          ]
        },
        {
          "output_type": "stream",
          "name": "stdout",
          "text": [
            "Epoch: 54\n",
            "\t Train loss: 58.214\n",
            "\t Valid loss: 135.664\n",
            "Epoch 55 started\n"
          ]
        },
        {
          "output_type": "stream",
          "name": "stderr",
          "text": [
            "100%|██████████| 403/403 [00:16<00:00, 24.01it/s]\n",
            "100%|██████████| 41/41 [00:01<00:00, 21.68it/s]\n"
          ]
        },
        {
          "output_type": "stream",
          "name": "stdout",
          "text": [
            "Epoch: 55\n",
            "\t Train loss: 58.242\n",
            "\t Valid loss: 139.102\n",
            "Epoch 56 started\n"
          ]
        },
        {
          "output_type": "stream",
          "name": "stderr",
          "text": [
            "100%|██████████| 403/403 [00:16<00:00, 23.95it/s]\n",
            "100%|██████████| 41/41 [00:02<00:00, 17.92it/s]\n"
          ]
        },
        {
          "output_type": "stream",
          "name": "stdout",
          "text": [
            "Epoch: 56\n",
            "\t Train loss: 58.093\n",
            "\t Valid loss: 131.962\n",
            "Epoch 57 started\n"
          ]
        },
        {
          "output_type": "stream",
          "name": "stderr",
          "text": [
            "100%|██████████| 403/403 [00:17<00:00, 22.66it/s]\n",
            "100%|██████████| 41/41 [00:01<00:00, 21.70it/s]\n"
          ]
        },
        {
          "output_type": "stream",
          "name": "stdout",
          "text": [
            "Epoch: 57\n",
            "\t Train loss: 58.094\n",
            "\t Valid loss: 141.623\n",
            "Epoch 58 started\n"
          ]
        },
        {
          "output_type": "stream",
          "name": "stderr",
          "text": [
            "100%|██████████| 403/403 [00:16<00:00, 24.07it/s]\n",
            "100%|██████████| 41/41 [00:01<00:00, 21.83it/s]\n"
          ]
        },
        {
          "output_type": "stream",
          "name": "stdout",
          "text": [
            "Epoch: 58\n",
            "\t Train loss: 58.072\n",
            "\t Valid loss: 139.777\n",
            "Epoch 59 started\n"
          ]
        },
        {
          "output_type": "stream",
          "name": "stderr",
          "text": [
            "100%|██████████| 403/403 [00:16<00:00, 24.02it/s]\n",
            "100%|██████████| 41/41 [00:02<00:00, 13.91it/s]\n"
          ]
        },
        {
          "output_type": "stream",
          "name": "stdout",
          "text": [
            "Epoch: 59\n",
            "\t Train loss: 57.962\n",
            "\t Valid loss: 118.025\n",
            "Epoch 60 started\n"
          ]
        },
        {
          "output_type": "stream",
          "name": "stderr",
          "text": [
            "100%|██████████| 403/403 [00:17<00:00, 23.66it/s]\n",
            "100%|██████████| 41/41 [00:01<00:00, 21.94it/s]\n"
          ]
        },
        {
          "output_type": "stream",
          "name": "stdout",
          "text": [
            "Epoch: 60\n",
            "\t Train loss: 58.009\n",
            "\t Valid loss: 142.920\n",
            "Epoch 61 started\n"
          ]
        },
        {
          "output_type": "stream",
          "name": "stderr",
          "text": [
            "100%|██████████| 403/403 [00:16<00:00, 23.98it/s]\n",
            "100%|██████████| 41/41 [00:01<00:00, 21.74it/s]\n"
          ]
        },
        {
          "output_type": "stream",
          "name": "stdout",
          "text": [
            "Epoch: 61\n",
            "\t Train loss: 57.867\n",
            "\t Valid loss: 142.385\n",
            "Epoch 62 started\n"
          ]
        },
        {
          "output_type": "stream",
          "name": "stderr",
          "text": [
            "100%|██████████| 403/403 [00:17<00:00, 23.56it/s]\n",
            "100%|██████████| 41/41 [00:03<00:00, 13.65it/s]\n"
          ]
        },
        {
          "output_type": "stream",
          "name": "stdout",
          "text": [
            "Epoch: 62\n",
            "\t Train loss: 58.205\n",
            "\t Valid loss: 136.093\n",
            "Epoch 63 started\n"
          ]
        },
        {
          "output_type": "stream",
          "name": "stderr",
          "text": [
            "100%|██████████| 403/403 [00:16<00:00, 24.09it/s]\n",
            "100%|██████████| 41/41 [00:01<00:00, 21.77it/s]\n"
          ]
        },
        {
          "output_type": "stream",
          "name": "stdout",
          "text": [
            "Epoch: 63\n",
            "\t Train loss: 58.017\n",
            "\t Valid loss: 134.468\n",
            "Epoch 64 started\n"
          ]
        },
        {
          "output_type": "stream",
          "name": "stderr",
          "text": [
            "100%|██████████| 403/403 [00:16<00:00, 24.05it/s]\n",
            "100%|██████████| 41/41 [00:01<00:00, 21.77it/s]\n"
          ]
        },
        {
          "output_type": "stream",
          "name": "stdout",
          "text": [
            "Epoch: 64\n",
            "\t Train loss: 58.301\n",
            "\t Valid loss: 141.623\n",
            "Epoch 65 started\n"
          ]
        },
        {
          "output_type": "stream",
          "name": "stderr",
          "text": [
            "100%|██████████| 403/403 [00:17<00:00, 22.93it/s]\n",
            "100%|██████████| 41/41 [00:02<00:00, 15.99it/s]\n"
          ]
        },
        {
          "output_type": "stream",
          "name": "stdout",
          "text": [
            "Epoch: 65\n",
            "\t Train loss: 57.900\n",
            "\t Valid loss: 141.697\n",
            "Epoch 66 started\n"
          ]
        },
        {
          "output_type": "stream",
          "name": "stderr",
          "text": [
            "100%|██████████| 403/403 [00:16<00:00, 23.82it/s]\n",
            "100%|██████████| 41/41 [00:01<00:00, 21.46it/s]\n"
          ]
        },
        {
          "output_type": "stream",
          "name": "stdout",
          "text": [
            "Epoch: 66\n",
            "\t Train loss: 57.782\n",
            "\t Valid loss: 146.255\n",
            "Epoch 67 started\n"
          ]
        },
        {
          "output_type": "stream",
          "name": "stderr",
          "text": [
            "100%|██████████| 403/403 [00:16<00:00, 24.07it/s]\n",
            "100%|██████████| 41/41 [00:01<00:00, 21.86it/s]\n"
          ]
        },
        {
          "output_type": "stream",
          "name": "stdout",
          "text": [
            "Epoch: 67\n",
            "\t Train loss: 58.052\n",
            "\t Valid loss: 142.245\n",
            "Epoch 68 started\n"
          ]
        },
        {
          "output_type": "stream",
          "name": "stderr",
          "text": [
            "100%|██████████| 403/403 [00:18<00:00, 21.58it/s]\n",
            "100%|██████████| 41/41 [00:02<00:00, 14.97it/s]\n"
          ]
        },
        {
          "output_type": "stream",
          "name": "stdout",
          "text": [
            "Epoch: 68\n",
            "\t Train loss: 58.032\n",
            "\t Valid loss: 141.854\n",
            "Epoch 69 started\n"
          ]
        },
        {
          "output_type": "stream",
          "name": "stderr",
          "text": [
            "100%|██████████| 403/403 [00:18<00:00, 22.09it/s]\n",
            "100%|██████████| 41/41 [00:01<00:00, 21.42it/s]\n"
          ]
        },
        {
          "output_type": "stream",
          "name": "stdout",
          "text": [
            "Epoch: 69\n",
            "\t Train loss: 57.739\n",
            "\t Valid loss: 138.801\n",
            "Epoch 70 started\n"
          ]
        },
        {
          "output_type": "stream",
          "name": "stderr",
          "text": [
            "100%|██████████| 403/403 [00:17<00:00, 22.41it/s]\n",
            "100%|██████████| 41/41 [00:02<00:00, 17.50it/s]\n"
          ]
        },
        {
          "output_type": "stream",
          "name": "stdout",
          "text": [
            "Epoch: 70\n",
            "\t Train loss: 57.820\n",
            "\t Valid loss: 130.344\n",
            "Epoch 71 started\n"
          ]
        },
        {
          "output_type": "stream",
          "name": "stderr",
          "text": [
            "100%|██████████| 403/403 [00:16<00:00, 23.98it/s]\n",
            "100%|██████████| 41/41 [00:01<00:00, 21.95it/s]\n"
          ]
        },
        {
          "output_type": "stream",
          "name": "stdout",
          "text": [
            "Epoch: 71\n",
            "\t Train loss: 58.146\n",
            "\t Valid loss: 133.738\n",
            "Epoch 72 started\n"
          ]
        },
        {
          "output_type": "stream",
          "name": "stderr",
          "text": [
            "100%|██████████| 403/403 [00:16<00:00, 23.94it/s]\n",
            "100%|██████████| 41/41 [00:01<00:00, 21.42it/s]\n"
          ]
        },
        {
          "output_type": "stream",
          "name": "stdout",
          "text": [
            "Epoch: 72\n",
            "\t Train loss: 57.618\n",
            "\t Valid loss: 138.567\n",
            "Epoch 73 started\n"
          ]
        },
        {
          "output_type": "stream",
          "name": "stderr",
          "text": [
            "100%|██████████| 403/403 [00:18<00:00, 22.16it/s]\n",
            "100%|██████████| 41/41 [00:01<00:00, 20.51it/s]\n"
          ]
        },
        {
          "output_type": "stream",
          "name": "stdout",
          "text": [
            "Epoch: 73\n",
            "\t Train loss: 57.968\n",
            "\t Valid loss: 141.091\n",
            "Epoch 74 started\n"
          ]
        },
        {
          "output_type": "stream",
          "name": "stderr",
          "text": [
            "100%|██████████| 403/403 [00:16<00:00, 23.95it/s]\n",
            "100%|██████████| 41/41 [00:01<00:00, 21.77it/s]\n"
          ]
        },
        {
          "output_type": "stream",
          "name": "stdout",
          "text": [
            "Epoch: 74\n",
            "\t Train loss: 58.034\n",
            "\t Valid loss: 143.868\n",
            "Epoch 75 started\n"
          ]
        },
        {
          "output_type": "stream",
          "name": "stderr",
          "text": [
            "100%|██████████| 403/403 [00:16<00:00, 24.00it/s]\n",
            "100%|██████████| 41/41 [00:02<00:00, 19.64it/s]\n"
          ]
        },
        {
          "output_type": "stream",
          "name": "stdout",
          "text": [
            "Epoch: 75\n",
            "\t Train loss: 57.875\n",
            "\t Valid loss: 129.586\n",
            "Epoch 76 started\n"
          ]
        },
        {
          "output_type": "stream",
          "name": "stderr",
          "text": [
            "100%|██████████| 403/403 [00:18<00:00, 22.32it/s]\n",
            "100%|██████████| 41/41 [00:01<00:00, 21.15it/s]\n"
          ]
        },
        {
          "output_type": "stream",
          "name": "stdout",
          "text": [
            "Epoch: 76\n",
            "\t Train loss: 57.904\n",
            "\t Valid loss: 142.197\n",
            "Epoch 77 started\n"
          ]
        },
        {
          "output_type": "stream",
          "name": "stderr",
          "text": [
            "100%|██████████| 403/403 [00:16<00:00, 24.08it/s]\n",
            "100%|██████████| 41/41 [00:01<00:00, 21.71it/s]\n"
          ]
        },
        {
          "output_type": "stream",
          "name": "stdout",
          "text": [
            "Epoch: 77\n",
            "\t Train loss: 57.858\n",
            "\t Valid loss: 141.828\n",
            "Epoch 78 started\n"
          ]
        },
        {
          "output_type": "stream",
          "name": "stderr",
          "text": [
            "100%|██████████| 403/403 [00:16<00:00, 23.89it/s]\n",
            "100%|██████████| 41/41 [00:02<00:00, 14.33it/s]\n"
          ]
        },
        {
          "output_type": "stream",
          "name": "stdout",
          "text": [
            "Epoch: 78\n",
            "\t Train loss: 58.003\n",
            "\t Valid loss: 136.389\n",
            "Epoch 79 started\n"
          ]
        },
        {
          "output_type": "stream",
          "name": "stderr",
          "text": [
            "100%|██████████| 403/403 [00:17<00:00, 23.44it/s]\n",
            "100%|██████████| 41/41 [00:01<00:00, 21.89it/s]\n"
          ]
        },
        {
          "output_type": "stream",
          "name": "stdout",
          "text": [
            "Epoch: 79\n",
            "\t Train loss: 57.886\n",
            "\t Valid loss: 141.626\n",
            "Epoch 80 started\n"
          ]
        },
        {
          "output_type": "stream",
          "name": "stderr",
          "text": [
            "100%|██████████| 403/403 [00:16<00:00, 23.93it/s]\n",
            "100%|██████████| 41/41 [00:01<00:00, 21.89it/s]\n"
          ]
        },
        {
          "output_type": "stream",
          "name": "stdout",
          "text": [
            "Epoch: 80\n",
            "\t Train loss: 57.667\n",
            "\t Valid loss: 130.414\n",
            "Epoch 81 started\n"
          ]
        },
        {
          "output_type": "stream",
          "name": "stderr",
          "text": [
            "100%|██████████| 403/403 [00:17<00:00, 23.46it/s]\n",
            "100%|██████████| 41/41 [00:02<00:00, 14.55it/s]\n"
          ]
        },
        {
          "output_type": "stream",
          "name": "stdout",
          "text": [
            "Epoch: 81\n",
            "\t Train loss: 57.801\n",
            "\t Valid loss: 142.854\n",
            "Epoch 82 started\n"
          ]
        },
        {
          "output_type": "stream",
          "name": "stderr",
          "text": [
            "100%|██████████| 403/403 [00:16<00:00, 23.75it/s]\n",
            "100%|██████████| 41/41 [00:01<00:00, 21.58it/s]\n"
          ]
        },
        {
          "output_type": "stream",
          "name": "stdout",
          "text": [
            "Epoch: 82\n",
            "\t Train loss: 57.795\n",
            "\t Valid loss: 141.821\n",
            "Epoch 83 started\n"
          ]
        },
        {
          "output_type": "stream",
          "name": "stderr",
          "text": [
            "100%|██████████| 403/403 [00:16<00:00, 24.07it/s]\n",
            "100%|██████████| 41/41 [00:01<00:00, 21.69it/s]\n"
          ]
        },
        {
          "output_type": "stream",
          "name": "stdout",
          "text": [
            "Epoch: 83\n",
            "\t Train loss: 57.716\n",
            "\t Valid loss: 134.605\n",
            "Epoch 84 started\n"
          ]
        },
        {
          "output_type": "stream",
          "name": "stderr",
          "text": [
            "100%|██████████| 403/403 [00:18<00:00, 22.15it/s]\n",
            "100%|██████████| 41/41 [00:02<00:00, 20.08it/s]\n"
          ]
        },
        {
          "output_type": "stream",
          "name": "stdout",
          "text": [
            "Epoch: 84\n",
            "\t Train loss: 57.785\n",
            "\t Valid loss: 129.170\n",
            "Epoch 85 started\n"
          ]
        },
        {
          "output_type": "stream",
          "name": "stderr",
          "text": [
            "100%|██████████| 403/403 [00:16<00:00, 23.88it/s]\n",
            "100%|██████████| 41/41 [00:01<00:00, 21.73it/s]\n"
          ]
        },
        {
          "output_type": "stream",
          "name": "stdout",
          "text": [
            "Epoch: 85\n",
            "\t Train loss: 57.746\n",
            "\t Valid loss: 138.049\n",
            "Epoch 86 started\n"
          ]
        },
        {
          "output_type": "stream",
          "name": "stderr",
          "text": [
            "100%|██████████| 403/403 [00:16<00:00, 24.04it/s]\n",
            "100%|██████████| 41/41 [00:02<00:00, 18.44it/s]\n"
          ]
        },
        {
          "output_type": "stream",
          "name": "stdout",
          "text": [
            "Epoch: 86\n",
            "\t Train loss: 58.061\n",
            "\t Valid loss: 141.194\n",
            "Epoch 87 started\n"
          ]
        },
        {
          "output_type": "stream",
          "name": "stderr",
          "text": [
            "100%|██████████| 403/403 [00:17<00:00, 22.51it/s]\n",
            "100%|██████████| 41/41 [00:01<00:00, 21.06it/s]\n"
          ]
        },
        {
          "output_type": "stream",
          "name": "stdout",
          "text": [
            "Epoch: 87\n",
            "\t Train loss: 57.510\n",
            "\t Valid loss: 143.514\n",
            "Epoch 88 started\n"
          ]
        },
        {
          "output_type": "stream",
          "name": "stderr",
          "text": [
            "100%|██████████| 403/403 [00:16<00:00, 24.04it/s]\n",
            "100%|██████████| 41/41 [00:01<00:00, 21.56it/s]\n"
          ]
        },
        {
          "output_type": "stream",
          "name": "stdout",
          "text": [
            "Epoch: 88\n",
            "\t Train loss: 58.059\n",
            "\t Valid loss: 139.437\n",
            "Epoch 89 started\n"
          ]
        },
        {
          "output_type": "stream",
          "name": "stderr",
          "text": [
            "100%|██████████| 403/403 [00:16<00:00, 23.94it/s]\n",
            "100%|██████████| 41/41 [00:03<00:00, 13.18it/s]\n"
          ]
        },
        {
          "output_type": "stream",
          "name": "stdout",
          "text": [
            "Epoch: 89\n",
            "\t Train loss: 57.655\n",
            "\t Valid loss: 137.570\n",
            "Epoch 90 started\n"
          ]
        },
        {
          "output_type": "stream",
          "name": "stderr",
          "text": [
            "100%|██████████| 403/403 [00:17<00:00, 23.60it/s]\n",
            "100%|██████████| 41/41 [00:01<00:00, 21.85it/s]\n"
          ]
        },
        {
          "output_type": "stream",
          "name": "stdout",
          "text": [
            "Epoch: 90\n",
            "\t Train loss: 57.974\n",
            "\t Valid loss: 133.721\n",
            "Epoch 91 started\n"
          ]
        },
        {
          "output_type": "stream",
          "name": "stderr",
          "text": [
            "100%|██████████| 403/403 [00:16<00:00, 23.96it/s]\n",
            "100%|██████████| 41/41 [00:01<00:00, 21.57it/s]\n"
          ]
        },
        {
          "output_type": "stream",
          "name": "stdout",
          "text": [
            "Epoch: 91\n",
            "\t Train loss: 57.490\n",
            "\t Valid loss: 143.673\n",
            "Epoch 92 started\n"
          ]
        },
        {
          "output_type": "stream",
          "name": "stderr",
          "text": [
            "100%|██████████| 403/403 [00:17<00:00, 23.17it/s]\n",
            "100%|██████████| 41/41 [00:02<00:00, 15.50it/s]\n"
          ]
        },
        {
          "output_type": "stream",
          "name": "stdout",
          "text": [
            "Epoch: 92\n",
            "\t Train loss: 57.785\n",
            "\t Valid loss: 136.119\n",
            "Epoch 93 started\n"
          ]
        },
        {
          "output_type": "stream",
          "name": "stderr",
          "text": [
            "100%|██████████| 403/403 [00:16<00:00, 24.04it/s]\n",
            "100%|██████████| 41/41 [00:01<00:00, 21.74it/s]\n"
          ]
        },
        {
          "output_type": "stream",
          "name": "stdout",
          "text": [
            "Epoch: 93\n",
            "\t Train loss: 57.791\n",
            "\t Valid loss: 139.734\n",
            "Epoch 94 started\n"
          ]
        },
        {
          "output_type": "stream",
          "name": "stderr",
          "text": [
            "100%|██████████| 403/403 [00:16<00:00, 23.92it/s]\n",
            "100%|██████████| 41/41 [00:01<00:00, 21.74it/s]\n"
          ]
        },
        {
          "output_type": "stream",
          "name": "stdout",
          "text": [
            "Epoch: 94\n",
            "\t Train loss: 57.747\n",
            "\t Valid loss: 143.927\n",
            "Epoch 95 started\n"
          ]
        },
        {
          "output_type": "stream",
          "name": "stderr",
          "text": [
            "100%|██████████| 403/403 [00:18<00:00, 22.33it/s]\n",
            "100%|██████████| 41/41 [00:02<00:00, 18.91it/s]\n"
          ]
        },
        {
          "output_type": "stream",
          "name": "stdout",
          "text": [
            "Epoch: 95\n",
            "\t Train loss: 57.641\n",
            "\t Valid loss: 135.899\n",
            "Epoch 96 started\n"
          ]
        },
        {
          "output_type": "stream",
          "name": "stderr",
          "text": [
            "100%|██████████| 403/403 [00:16<00:00, 24.00it/s]\n",
            "100%|██████████| 41/41 [00:01<00:00, 21.48it/s]\n"
          ]
        },
        {
          "output_type": "stream",
          "name": "stdout",
          "text": [
            "Epoch: 96\n",
            "\t Train loss: 57.725\n",
            "\t Valid loss: 133.867\n",
            "Epoch 97 started\n"
          ]
        },
        {
          "output_type": "stream",
          "name": "stderr",
          "text": [
            "100%|██████████| 403/403 [00:16<00:00, 23.94it/s]\n",
            "100%|██████████| 41/41 [00:02<00:00, 19.45it/s]\n"
          ]
        },
        {
          "output_type": "stream",
          "name": "stdout",
          "text": [
            "Epoch: 97\n",
            "\t Train loss: 57.621\n",
            "\t Valid loss: 144.670\n",
            "Epoch 98 started\n"
          ]
        },
        {
          "output_type": "stream",
          "name": "stderr",
          "text": [
            "100%|██████████| 403/403 [00:18<00:00, 22.33it/s]\n",
            "100%|██████████| 41/41 [00:01<00:00, 21.80it/s]\n"
          ]
        },
        {
          "output_type": "stream",
          "name": "stdout",
          "text": [
            "Epoch: 98\n",
            "\t Train loss: 57.487\n",
            "\t Valid loss: 138.404\n",
            "Epoch 99 started\n"
          ]
        },
        {
          "output_type": "stream",
          "name": "stderr",
          "text": [
            "100%|██████████| 403/403 [00:16<00:00, 24.03it/s]\n",
            "100%|██████████| 41/41 [00:01<00:00, 21.45it/s]\n"
          ]
        },
        {
          "output_type": "stream",
          "name": "stdout",
          "text": [
            "Epoch: 99\n",
            "\t Train loss: 57.781\n",
            "\t Valid loss: 138.170\n",
            "Epoch 100 started\n"
          ]
        },
        {
          "output_type": "stream",
          "name": "stderr",
          "text": [
            "100%|██████████| 403/403 [00:16<00:00, 23.99it/s]\n",
            "100%|██████████| 41/41 [00:02<00:00, 15.37it/s]"
          ]
        },
        {
          "output_type": "stream",
          "name": "stdout",
          "text": [
            "Epoch: 100\n",
            "\t Train loss: 57.710\n",
            "\t Valid loss: 128.688\n"
          ]
        },
        {
          "output_type": "stream",
          "name": "stderr",
          "text": [
            "\n"
          ]
        }
      ]
    },
    {
      "cell_type": "markdown",
      "source": [
        "## Вектора пользователей и айтемов из модели dssm"
      ],
      "metadata": {
        "id": "UsN7CGna_DCE"
      }
    },
    {
      "cell_type": "code",
      "source": [
        "net = TemporalDSSM(\n",
        "    u_cat_dim = 19,\n",
        "    u_cat1_dim = 64,\n",
        "    u_cat2_dim = 64,\n",
        "    u_int_dim = 8836,\n",
        "    u_int1_dim = 256,\n",
        "    u_int2_dim = 256,\n",
        "    u_temp_dim = 256,\n",
        "    if_dim = 1015,\n",
        "    if1_dim = 128,\n",
        "    if2_dim = 128,\n",
        "    final_dim = 128,\n",
        "    dropout=0.5,\n",
        ")\n",
        "net.load_state_dict(torch.load(\"/content/drive/MyDrive/RecSys MTC/NNs/DSSM/best_model_dssm.pt\"))\n",
        "device = torch.device(\"cpu\")\n",
        "net.to(device)\n",
        "net.eval();"
      ],
      "metadata": {
        "id": "rI-nAzbjpYy-"
      },
      "execution_count": null,
      "outputs": []
    },
    {
      "cell_type": "code",
      "source": [
        "# Заглушки\n",
        "mock_u_cat = torch.zeros((1, users_category_vec.shape[1]))\n",
        "mock_u_int = torch.zeros((1, interactions_vec.shape[1]))\n",
        "mock_last_w_items = torch.zeros((1, 7, items_vec.shape[1]))\n",
        "mock_item = torch.zeros((1, items_vec.shape[1]))"
      ],
      "metadata": {
        "id": "7dKxFZEfZqIv"
      },
      "execution_count": null,
      "outputs": []
    },
    {
      "cell_type": "code",
      "source": [
        "del ohe_feat_df  #, interactions_vec, users_category_vec, items_vec"
      ],
      "metadata": {
        "id": "B_uLti3qBPFB"
      },
      "execution_count": null,
      "outputs": []
    },
    {
      "cell_type": "markdown",
      "source": [
        "Вектора пользователей"
      ],
      "metadata": {
        "id": "Y-qg4A96Li58"
      }
    },
    {
      "cell_type": "code",
      "source": [
        "dssm_user_vectors = np.zeros((interactions_vec.shape[0], 128))\n",
        "\n",
        "for uid in tqdm(range(interactions_vec.shape[0])):\n",
        "    last_7_iids = uid_to_watched_iids[uid][-7:]\n",
        "    last_7_items_vec = np.array([items_vec[iid] for iid in last_7_iids])\n",
        "\n",
        "    with torch.no_grad():\n",
        "        dssm_user_vectors[uid] = net(\n",
        "            user_category_features = torch.as_tensor(users_category_vec[uid]).reshape(1,-1),\n",
        "            user_interaction_features = torch.as_tensor(interactions_vec[uid]).reshape(1,-1),\n",
        "            watched_items_features = torch.as_tensor(last_7_items_vec).reshape(1, 7, -1),\n",
        "            pos_item_features = mock_item,\n",
        "            neg_item_features = mock_item,\n",
        "        )[0].numpy()"
      ],
      "metadata": {
        "colab": {
          "base_uri": "https://localhost:8080/"
        },
        "id": "TGRg8esrHrjV",
        "outputId": "07185a35-d43d-42cf-f829-652adc1499cf"
      },
      "execution_count": null,
      "outputs": [
        {
          "output_type": "stream",
          "name": "stderr",
          "text": [
            "100%|██████████| 103074/103074 [05:19<00:00, 322.97it/s]\n"
          ]
        }
      ]
    },
    {
      "cell_type": "markdown",
      "source": [
        "Вектора айтемов"
      ],
      "metadata": {
        "id": "SFMS1Pe8Lm9J"
      }
    },
    {
      "cell_type": "code",
      "source": [
        "dssm_item_vectors = np.zeros((items_vec.shape[0], 128))\n",
        "\n",
        "for iid in tqdm(range(items_vec.shape[0])):\n",
        "    with torch.no_grad():\n",
        "        dssm_item_vectors[iid] = net(\n",
        "            user_category_features = mock_u_cat,\n",
        "            user_interaction_features = mock_u_int,\n",
        "            watched_items_features = mock_last_w_items,\n",
        "            pos_item_features = torch.as_tensor(items_vec[iid]).reshape(1,-1),\n",
        "            neg_item_features = mock_item,\n",
        "        )[1].numpy()"
      ],
      "metadata": {
        "colab": {
          "base_uri": "https://localhost:8080/"
        },
        "id": "cR4JATLwUHYZ",
        "outputId": "d9b82ab1-ffd8-4390-de54-e8c2a3e3fc53"
      },
      "execution_count": null,
      "outputs": [
        {
          "output_type": "stream",
          "name": "stderr",
          "text": [
            "100%|██████████| 8836/8836 [00:26<00:00, 332.52it/s]\n"
          ]
        }
      ]
    },
    {
      "cell_type": "code",
      "source": [
        "ith open(\"/content/drive/MyDrive/RecSys MTC/NNs/DSSM/dssm_user_vectors.pickle\", \"wb\") as f:\n",
        "    pickle.dump(dssm_user_vectors, f, pickle.HIGHEST_PROTOCOL)\n",
        "with open(\"/content/drive/MyDrive/RecSys MTC/NNs/DSSM/dssm_item_vectors.pickle\", \"wb\") as f:\n",
        "    pickle.dump(dssm_item_vectors, f, pickle.HIGHEST_PROTOCOL)"
      ],
      "metadata": {
        "id": "2k52FRTOa1dJ"
      },
      "execution_count": null,
      "outputs": []
    },
    {
      "cell_type": "markdown",
      "source": [
        "## HNSW индекс для быстрого поиска"
      ],
      "metadata": {
        "id": "v75vKHj-acPp"
      }
    },
    {
      "cell_type": "code",
      "source": [
        "with open(\"/content/drive/MyDrive/RecSys MTC/NNs/DSSM/dssm_user_vectors.pickle\", \"rb\") as f:\n",
        "    dssm_user_vectors = pickle.load(f)\n",
        "with open(\"/content/drive/MyDrive/RecSys MTC/NNs/DSSM/dssm_item_vectors.pickle\", \"rb\") as f:\n",
        "    dssm_item_vectors = pickle.load(f)"
      ],
      "metadata": {
        "id": "v8gWQxz8cLdI"
      },
      "execution_count": 89,
      "outputs": []
    },
    {
      "cell_type": "code",
      "source": [
        "dssm_user_vectors.shape, dssm_item_vectors.shape"
      ],
      "metadata": {
        "colab": {
          "base_uri": "https://localhost:8080/"
        },
        "id": "BmzqSPtpBp8-",
        "outputId": "f1550120-a058-4df9-ad5f-a75f72b9f991"
      },
      "execution_count": 90,
      "outputs": [
        {
          "output_type": "execute_result",
          "data": {
            "text/plain": [
              "((103074, 128), (8836, 128))"
            ]
          },
          "metadata": {},
          "execution_count": 90
        }
      ]
    },
    {
      "cell_type": "code",
      "source": [
        "max_elements, dim = dssm_item_vectors.shape\n",
        "\n",
        "index = hnswlib.Index('cosine', dim)"
      ],
      "metadata": {
        "id": "71AsZa4rMEKz"
      },
      "execution_count": 75,
      "outputs": []
    },
    {
      "cell_type": "code",
      "source": [
        "# Параметры Индекса\n",
        "M = 30 # adjustable\n",
        "efC = 25 # adjustable\n",
        "# Параметры Поиска по индексу\n",
        "efS = 30 # adjustable\n",
        "\n",
        "index.init_index(max_elements, M, efC)\n",
        "\n",
        "index.add_items(dssm_item_vectors)"
      ],
      "metadata": {
        "id": "pCaffQhzHbSm"
      },
      "execution_count": 76,
      "outputs": []
    },
    {
      "cell_type": "code",
      "source": [
        "index.save_index(\"/content/drive/MyDrive/RecSys MTC/NNs/DSSM/index.hnsw\")"
      ],
      "metadata": {
        "id": "VGxcfqf10DZD"
      },
      "execution_count": null,
      "outputs": []
    },
    {
      "cell_type": "markdown",
      "source": [
        "Минимальная проверка рекомендаций"
      ],
      "metadata": {
        "id": "LnbgCRHy8Mwd"
      }
    },
    {
      "cell_type": "code",
      "source": [
        "index.set_ef(efS)\n",
        "\n",
        "test_uid = 30000\n",
        "pred_iids = index.knn_query(dssm_user_vectors[test_uid], k = 10, num_threads=2)[0][0]\n",
        "pred_iids"
      ],
      "metadata": {
        "colab": {
          "base_uri": "https://localhost:8080/"
        },
        "id": "l4WGgwBjEh3y",
        "outputId": "d078b578-aa1b-4ac0-8b40-cecd3bf49cc4"
      },
      "execution_count": null,
      "outputs": [
        {
          "output_type": "execute_result",
          "data": {
            "text/plain": [
              "array([ 982, 3790, 2234,  746, 7051, 2558, 6271, 1831, 7494,  697],\n",
              "      dtype=uint64)"
            ]
          },
          "metadata": {},
          "execution_count": 362
        }
      ]
    },
    {
      "cell_type": "code",
      "source": [
        "items_df[\n",
        "    (items_df.item_id == iid_to_item_id[pred_iids[0]]) | \\\n",
        "    (items_df.item_id == iid_to_item_id[pred_iids[1]]) | \\\n",
        "    (items_df.item_id == iid_to_item_id[pred_iids[2]]) | \\\n",
        "    (items_df.item_id == iid_to_item_id[pred_iids[3]]) | \\\n",
        "    (items_df.item_id == iid_to_item_id[pred_iids[4]]) | \\\n",
        "    (items_df.item_id == iid_to_item_id[pred_iids[5]]) | \\\n",
        "    (items_df.item_id == iid_to_item_id[pred_iids[6]]) | \\\n",
        "    (items_df.item_id == iid_to_item_id[pred_iids[7]]) | \\\n",
        "    (items_df.item_id == iid_to_item_id[pred_iids[8]]) | \\\n",
        "    (items_df.item_id == iid_to_item_id[pred_iids[9]])\n",
        " ][[\"item_id\", \"title\", \"genres\"]]"
      ],
      "metadata": {
        "colab": {
          "base_uri": "https://localhost:8080/",
          "height": 363
        },
        "id": "yU94jtI0r0ny",
        "outputId": "36a8097f-c712-4582-8031-8f3effd9b3c0"
      },
      "execution_count": null,
      "outputs": [
        {
          "output_type": "execute_result",
          "data": {
            "text/plain": [
              "       item_id                       title  \\\n",
              "2123      3441              скрытая угроза   \n",
              "2129      7117               игры без мяча   \n",
              "2543     14000          афера по-английски   \n",
              "2982      1852                        ноль   \n",
              "9311     11754  kingsman: секретная служба   \n",
              "9941      1336             бугалу и грэхэм   \n",
              "10427    13199                 возвращение   \n",
              "11263     1423                    виктория   \n",
              "12856     4162                закрой глаза   \n",
              "14450     4766           ералаш выпуск №21   \n",
              "\n",
              "                                        genres  \n",
              "2123             триллеры, криминал, детективы  \n",
              "2129                 ужасы, фэнтези, детективы  \n",
              "2543                           драмы, криминал  \n",
              "2982              фантастика, фэнтези, комедии  \n",
              "9311   боевики, криминал, приключения, комедии  \n",
              "9941                            драмы, комедии  \n",
              "10427                                    драмы  \n",
              "11263                        семейное, комедии  \n",
              "12856                      фантастика, фэнтези  \n",
              "14450                                 семейное  "
            ],
            "text/html": [
              "\n",
              "  <div id=\"df-5c2edd8c-b351-42a7-b919-f3889cfbddeb\">\n",
              "    <div class=\"colab-df-container\">\n",
              "      <div>\n",
              "<style scoped>\n",
              "    .dataframe tbody tr th:only-of-type {\n",
              "        vertical-align: middle;\n",
              "    }\n",
              "\n",
              "    .dataframe tbody tr th {\n",
              "        vertical-align: top;\n",
              "    }\n",
              "\n",
              "    .dataframe thead th {\n",
              "        text-align: right;\n",
              "    }\n",
              "</style>\n",
              "<table border=\"1\" class=\"dataframe\">\n",
              "  <thead>\n",
              "    <tr style=\"text-align: right;\">\n",
              "      <th></th>\n",
              "      <th>item_id</th>\n",
              "      <th>title</th>\n",
              "      <th>genres</th>\n",
              "    </tr>\n",
              "  </thead>\n",
              "  <tbody>\n",
              "    <tr>\n",
              "      <th>2123</th>\n",
              "      <td>3441</td>\n",
              "      <td>скрытая угроза</td>\n",
              "      <td>триллеры, криминал, детективы</td>\n",
              "    </tr>\n",
              "    <tr>\n",
              "      <th>2129</th>\n",
              "      <td>7117</td>\n",
              "      <td>игры без мяча</td>\n",
              "      <td>ужасы, фэнтези, детективы</td>\n",
              "    </tr>\n",
              "    <tr>\n",
              "      <th>2543</th>\n",
              "      <td>14000</td>\n",
              "      <td>афера по-английски</td>\n",
              "      <td>драмы, криминал</td>\n",
              "    </tr>\n",
              "    <tr>\n",
              "      <th>2982</th>\n",
              "      <td>1852</td>\n",
              "      <td>ноль</td>\n",
              "      <td>фантастика, фэнтези, комедии</td>\n",
              "    </tr>\n",
              "    <tr>\n",
              "      <th>9311</th>\n",
              "      <td>11754</td>\n",
              "      <td>kingsman: секретная служба</td>\n",
              "      <td>боевики, криминал, приключения, комедии</td>\n",
              "    </tr>\n",
              "    <tr>\n",
              "      <th>9941</th>\n",
              "      <td>1336</td>\n",
              "      <td>бугалу и грэхэм</td>\n",
              "      <td>драмы, комедии</td>\n",
              "    </tr>\n",
              "    <tr>\n",
              "      <th>10427</th>\n",
              "      <td>13199</td>\n",
              "      <td>возвращение</td>\n",
              "      <td>драмы</td>\n",
              "    </tr>\n",
              "    <tr>\n",
              "      <th>11263</th>\n",
              "      <td>1423</td>\n",
              "      <td>виктория</td>\n",
              "      <td>семейное, комедии</td>\n",
              "    </tr>\n",
              "    <tr>\n",
              "      <th>12856</th>\n",
              "      <td>4162</td>\n",
              "      <td>закрой глаза</td>\n",
              "      <td>фантастика, фэнтези</td>\n",
              "    </tr>\n",
              "    <tr>\n",
              "      <th>14450</th>\n",
              "      <td>4766</td>\n",
              "      <td>ералаш выпуск №21</td>\n",
              "      <td>семейное</td>\n",
              "    </tr>\n",
              "  </tbody>\n",
              "</table>\n",
              "</div>\n",
              "      <button class=\"colab-df-convert\" onclick=\"convertToInteractive('df-5c2edd8c-b351-42a7-b919-f3889cfbddeb')\"\n",
              "              title=\"Convert this dataframe to an interactive table.\"\n",
              "              style=\"display:none;\">\n",
              "        \n",
              "  <svg xmlns=\"http://www.w3.org/2000/svg\" height=\"24px\"viewBox=\"0 0 24 24\"\n",
              "       width=\"24px\">\n",
              "    <path d=\"M0 0h24v24H0V0z\" fill=\"none\"/>\n",
              "    <path d=\"M18.56 5.44l.94 2.06.94-2.06 2.06-.94-2.06-.94-.94-2.06-.94 2.06-2.06.94zm-11 1L8.5 8.5l.94-2.06 2.06-.94-2.06-.94L8.5 2.5l-.94 2.06-2.06.94zm10 10l.94 2.06.94-2.06 2.06-.94-2.06-.94-.94-2.06-.94 2.06-2.06.94z\"/><path d=\"M17.41 7.96l-1.37-1.37c-.4-.4-.92-.59-1.43-.59-.52 0-1.04.2-1.43.59L10.3 9.45l-7.72 7.72c-.78.78-.78 2.05 0 2.83L4 21.41c.39.39.9.59 1.41.59.51 0 1.02-.2 1.41-.59l7.78-7.78 2.81-2.81c.8-.78.8-2.07 0-2.86zM5.41 20L4 18.59l7.72-7.72 1.47 1.35L5.41 20z\"/>\n",
              "  </svg>\n",
              "      </button>\n",
              "      \n",
              "  <style>\n",
              "    .colab-df-container {\n",
              "      display:flex;\n",
              "      flex-wrap:wrap;\n",
              "      gap: 12px;\n",
              "    }\n",
              "\n",
              "    .colab-df-convert {\n",
              "      background-color: #E8F0FE;\n",
              "      border: none;\n",
              "      border-radius: 50%;\n",
              "      cursor: pointer;\n",
              "      display: none;\n",
              "      fill: #1967D2;\n",
              "      height: 32px;\n",
              "      padding: 0 0 0 0;\n",
              "      width: 32px;\n",
              "    }\n",
              "\n",
              "    .colab-df-convert:hover {\n",
              "      background-color: #E2EBFA;\n",
              "      box-shadow: 0px 1px 2px rgba(60, 64, 67, 0.3), 0px 1px 3px 1px rgba(60, 64, 67, 0.15);\n",
              "      fill: #174EA6;\n",
              "    }\n",
              "\n",
              "    [theme=dark] .colab-df-convert {\n",
              "      background-color: #3B4455;\n",
              "      fill: #D2E3FC;\n",
              "    }\n",
              "\n",
              "    [theme=dark] .colab-df-convert:hover {\n",
              "      background-color: #434B5C;\n",
              "      box-shadow: 0px 1px 3px 1px rgba(0, 0, 0, 0.15);\n",
              "      filter: drop-shadow(0px 1px 2px rgba(0, 0, 0, 0.3));\n",
              "      fill: #FFFFFF;\n",
              "    }\n",
              "  </style>\n",
              "\n",
              "      <script>\n",
              "        const buttonEl =\n",
              "          document.querySelector('#df-5c2edd8c-b351-42a7-b919-f3889cfbddeb button.colab-df-convert');\n",
              "        buttonEl.style.display =\n",
              "          google.colab.kernel.accessAllowed ? 'block' : 'none';\n",
              "\n",
              "        async function convertToInteractive(key) {\n",
              "          const element = document.querySelector('#df-5c2edd8c-b351-42a7-b919-f3889cfbddeb');\n",
              "          const dataTable =\n",
              "            await google.colab.kernel.invokeFunction('convertToInteractive',\n",
              "                                                     [key], {});\n",
              "          if (!dataTable) return;\n",
              "\n",
              "          const docLinkHtml = 'Like what you see? Visit the ' +\n",
              "            '<a target=\"_blank\" href=https://colab.research.google.com/notebooks/data_table.ipynb>data table notebook</a>'\n",
              "            + ' to learn more about interactive tables.';\n",
              "          element.innerHTML = '';\n",
              "          dataTable['output_type'] = 'display_data';\n",
              "          await google.colab.output.renderOutput(dataTable, element);\n",
              "          const docLink = document.createElement('div');\n",
              "          docLink.innerHTML = docLinkHtml;\n",
              "          element.appendChild(docLink);\n",
              "        }\n",
              "      </script>\n",
              "    </div>\n",
              "  </div>\n",
              "  "
            ]
          },
          "metadata": {},
          "execution_count": 363
        }
      ]
    },
    {
      "cell_type": "code",
      "source": [
        "interactions_df[interactions_df.user_id == uid_to_user_id[test_uid]] \\\n",
        "    .merge(items_df[[\"item_id\", \"title\", \"genres\"]], on=\"item_id\")[[\"uid\", \"item_id\", \"title\", \"genres\", \"watched_pct\", \"last_watch_dt\"]].sort_values(\"last_watch_dt\")"
      ],
      "metadata": {
        "colab": {
          "base_uri": "https://localhost:8080/",
          "height": 1000
        },
        "id": "a33F0yrce6wo",
        "outputId": "6a419ca4-a4a0-42b0-a619-5a27a8a2a1d1"
      },
      "execution_count": null,
      "outputs": [
        {
          "output_type": "execute_result",
          "data": {
            "text/plain": [
              "      uid  item_id                                              title  \\\n",
              "4   30000     4417                                           хищник 2   \n",
              "18  30000     1168                                              сплит   \n",
              "21  30000      849                                            дебошир   \n",
              "2   30000    15997                                   сделано в италии   \n",
              "8   30000    15531                              секса много не бывает   \n",
              "5   30000      429                                               анон   \n",
              "35  30000    16291                                      лес самоубийц   \n",
              "20  30000    15656                        далласский клуб покупателей   \n",
              "9   30000     9937                                     12 лет рабства   \n",
              "15  30000     9169                                           взаперти   \n",
              "0   30000     7221                        добро пожаловать в лейквью!   \n",
              "1   30000     8069           три билборда на границе эббинга, миссури   \n",
              "36  30000    11312                                 сумасшедшая любовь   \n",
              "12  30000     8051                                       дело коллини   \n",
              "23  30000     5716                                     лицо со шрамом   \n",
              "13  30000     4030                                 человеческий голос   \n",
              "24  30000     7713                                     грецкий орешек   \n",
              "10  30000     8636                                         белый снег   \n",
              "28  30000    15310                                      пляжный домик   \n",
              "30  30000    12521                                         я свободен   \n",
              "33  30000     1844                                          аферистка   \n",
              "26  30000    10947                                   асоциальная сеть   \n",
              "31  30000    13845                                              лодка   \n",
              "37  30000     7557                                в ожидании варваров   \n",
              "22  30000      142                                               маша   \n",
              "7   30000     9863                                            одиссея   \n",
              "14  30000    14025                                мы умираем молодыми   \n",
              "29  30000     9996                                              немцы   \n",
              "19  30000       24                                         перебежчик   \n",
              "27  30000    14703                                      денежная игла   \n",
              "25  30000    11268                                             монгол   \n",
              "17  30000     4151                             секреты семейной жизни   \n",
              "11  30000     6647                               афера под прикрытием   \n",
              "3   30000    11519                                           язычники   \n",
              "38  30000      991                             избави нас от лукавого   \n",
              "34  30000    10440                                        хрустальный   \n",
              "6   30000    14688                                         убивая еву   \n",
              "32  30000     7956  [4к] сокровища планеты. индонезия. по следам п...   \n",
              "16  30000     9728                                  гнев человеческий   \n",
              "\n",
              "                                               genres  watched_pct  \\\n",
              "4                          боевики, ужасы, фантастика           23   \n",
              "18                              драмы, спорт, комедии           74   \n",
              "21  историческое, биография, криминал, драмы, спор...          100   \n",
              "2                                             комедии           25   \n",
              "8                                      драмы, комедии           26   \n",
              "5    криминал, детективы, драмы, триллеры, фантастика          100   \n",
              "35                          драмы, фэнтези, детективы          100   \n",
              "20                                              драмы          100   \n",
              "9                      драмы, биография, историческое          100   \n",
              "15                         драмы, триллеры, детективы           16   \n",
              "0                           драмы, триллеры, криминал          100   \n",
              "1                                     драмы, криминал          100   \n",
              "36                                          мелодрамы          100   \n",
              "12               драмы, триллеры, криминал, детективы           57   \n",
              "23                                    драмы, криминал          100   \n",
              "13                                              драмы           51   \n",
              "24                               приключения, комедии          100   \n",
              "10                                       драмы, спорт          100   \n",
              "28                                           триллеры          100   \n",
              "30                                              драмы           96   \n",
              "33                                  триллеры, комедии          100   \n",
              "26              драмы, зарубежные, триллеры, криминал          100   \n",
              "31                                     драмы, артхаус           17   \n",
              "37                                              драмы          100   \n",
              "22                                    драмы, триллеры           19   \n",
              "7           драмы, зарубежные, биография, приключения           27   \n",
              "14                 боевики, драмы, триллеры, криминал          100   \n",
              "29                                              драмы          100   \n",
              "19                       драмы, историческое, военные          100   \n",
              "27                                           триллеры          100   \n",
              "25  историческое, биография, приключения, драмы, в...          100   \n",
              "17                                            комедии           13   \n",
              "11                                    драмы, триллеры          100   \n",
              "3                                               драмы          100   \n",
              "38                                            боевики          100   \n",
              "34                                триллеры, детективы           40   \n",
              "6                      боевики, триллеры, приключения          100   \n",
              "32                                     документальное           21   \n",
              "16                                  боевики, триллеры          100   \n",
              "\n",
              "   last_watch_dt  \n",
              "4     2021-03-15  \n",
              "18    2021-03-16  \n",
              "21    2021-03-17  \n",
              "2     2021-03-18  \n",
              "8     2021-03-18  \n",
              "5     2021-03-20  \n",
              "35    2021-03-21  \n",
              "20    2021-03-21  \n",
              "9     2021-03-22  \n",
              "15    2021-03-22  \n",
              "0     2021-03-25  \n",
              "1     2021-03-25  \n",
              "36    2021-03-26  \n",
              "12    2021-03-28  \n",
              "23    2021-03-29  \n",
              "13    2021-04-02  \n",
              "24    2021-04-04  \n",
              "10    2021-04-05  \n",
              "28    2021-04-06  \n",
              "30    2021-04-10  \n",
              "33    2021-04-10  \n",
              "26    2021-04-13  \n",
              "31    2021-04-15  \n",
              "37    2021-04-23  \n",
              "22    2021-04-25  \n",
              "7     2021-04-27  \n",
              "14    2021-04-28  \n",
              "29    2021-05-05  \n",
              "19    2021-05-06  \n",
              "27    2021-05-07  \n",
              "25    2021-05-08  \n",
              "17    2021-05-08  \n",
              "11    2021-05-08  \n",
              "3     2021-05-08  \n",
              "38    2021-05-09  \n",
              "34    2021-05-14  \n",
              "6     2021-05-23  \n",
              "32    2021-05-24  \n",
              "16    2021-07-04  "
            ],
            "text/html": [
              "\n",
              "  <div id=\"df-adee6f51-ccf4-4d3a-aaad-3836f9605b16\">\n",
              "    <div class=\"colab-df-container\">\n",
              "      <div>\n",
              "<style scoped>\n",
              "    .dataframe tbody tr th:only-of-type {\n",
              "        vertical-align: middle;\n",
              "    }\n",
              "\n",
              "    .dataframe tbody tr th {\n",
              "        vertical-align: top;\n",
              "    }\n",
              "\n",
              "    .dataframe thead th {\n",
              "        text-align: right;\n",
              "    }\n",
              "</style>\n",
              "<table border=\"1\" class=\"dataframe\">\n",
              "  <thead>\n",
              "    <tr style=\"text-align: right;\">\n",
              "      <th></th>\n",
              "      <th>uid</th>\n",
              "      <th>item_id</th>\n",
              "      <th>title</th>\n",
              "      <th>genres</th>\n",
              "      <th>watched_pct</th>\n",
              "      <th>last_watch_dt</th>\n",
              "    </tr>\n",
              "  </thead>\n",
              "  <tbody>\n",
              "    <tr>\n",
              "      <th>4</th>\n",
              "      <td>30000</td>\n",
              "      <td>4417</td>\n",
              "      <td>хищник 2</td>\n",
              "      <td>боевики, ужасы, фантастика</td>\n",
              "      <td>23</td>\n",
              "      <td>2021-03-15</td>\n",
              "    </tr>\n",
              "    <tr>\n",
              "      <th>18</th>\n",
              "      <td>30000</td>\n",
              "      <td>1168</td>\n",
              "      <td>сплит</td>\n",
              "      <td>драмы, спорт, комедии</td>\n",
              "      <td>74</td>\n",
              "      <td>2021-03-16</td>\n",
              "    </tr>\n",
              "    <tr>\n",
              "      <th>21</th>\n",
              "      <td>30000</td>\n",
              "      <td>849</td>\n",
              "      <td>дебошир</td>\n",
              "      <td>историческое, биография, криминал, драмы, спор...</td>\n",
              "      <td>100</td>\n",
              "      <td>2021-03-17</td>\n",
              "    </tr>\n",
              "    <tr>\n",
              "      <th>2</th>\n",
              "      <td>30000</td>\n",
              "      <td>15997</td>\n",
              "      <td>сделано в италии</td>\n",
              "      <td>комедии</td>\n",
              "      <td>25</td>\n",
              "      <td>2021-03-18</td>\n",
              "    </tr>\n",
              "    <tr>\n",
              "      <th>8</th>\n",
              "      <td>30000</td>\n",
              "      <td>15531</td>\n",
              "      <td>секса много не бывает</td>\n",
              "      <td>драмы, комедии</td>\n",
              "      <td>26</td>\n",
              "      <td>2021-03-18</td>\n",
              "    </tr>\n",
              "    <tr>\n",
              "      <th>5</th>\n",
              "      <td>30000</td>\n",
              "      <td>429</td>\n",
              "      <td>анон</td>\n",
              "      <td>криминал, детективы, драмы, триллеры, фантастика</td>\n",
              "      <td>100</td>\n",
              "      <td>2021-03-20</td>\n",
              "    </tr>\n",
              "    <tr>\n",
              "      <th>35</th>\n",
              "      <td>30000</td>\n",
              "      <td>16291</td>\n",
              "      <td>лес самоубийц</td>\n",
              "      <td>драмы, фэнтези, детективы</td>\n",
              "      <td>100</td>\n",
              "      <td>2021-03-21</td>\n",
              "    </tr>\n",
              "    <tr>\n",
              "      <th>20</th>\n",
              "      <td>30000</td>\n",
              "      <td>15656</td>\n",
              "      <td>далласский клуб покупателей</td>\n",
              "      <td>драмы</td>\n",
              "      <td>100</td>\n",
              "      <td>2021-03-21</td>\n",
              "    </tr>\n",
              "    <tr>\n",
              "      <th>9</th>\n",
              "      <td>30000</td>\n",
              "      <td>9937</td>\n",
              "      <td>12 лет рабства</td>\n",
              "      <td>драмы, биография, историческое</td>\n",
              "      <td>100</td>\n",
              "      <td>2021-03-22</td>\n",
              "    </tr>\n",
              "    <tr>\n",
              "      <th>15</th>\n",
              "      <td>30000</td>\n",
              "      <td>9169</td>\n",
              "      <td>взаперти</td>\n",
              "      <td>драмы, триллеры, детективы</td>\n",
              "      <td>16</td>\n",
              "      <td>2021-03-22</td>\n",
              "    </tr>\n",
              "    <tr>\n",
              "      <th>0</th>\n",
              "      <td>30000</td>\n",
              "      <td>7221</td>\n",
              "      <td>добро пожаловать в лейквью!</td>\n",
              "      <td>драмы, триллеры, криминал</td>\n",
              "      <td>100</td>\n",
              "      <td>2021-03-25</td>\n",
              "    </tr>\n",
              "    <tr>\n",
              "      <th>1</th>\n",
              "      <td>30000</td>\n",
              "      <td>8069</td>\n",
              "      <td>три билборда на границе эббинга, миссури</td>\n",
              "      <td>драмы, криминал</td>\n",
              "      <td>100</td>\n",
              "      <td>2021-03-25</td>\n",
              "    </tr>\n",
              "    <tr>\n",
              "      <th>36</th>\n",
              "      <td>30000</td>\n",
              "      <td>11312</td>\n",
              "      <td>сумасшедшая любовь</td>\n",
              "      <td>мелодрамы</td>\n",
              "      <td>100</td>\n",
              "      <td>2021-03-26</td>\n",
              "    </tr>\n",
              "    <tr>\n",
              "      <th>12</th>\n",
              "      <td>30000</td>\n",
              "      <td>8051</td>\n",
              "      <td>дело коллини</td>\n",
              "      <td>драмы, триллеры, криминал, детективы</td>\n",
              "      <td>57</td>\n",
              "      <td>2021-03-28</td>\n",
              "    </tr>\n",
              "    <tr>\n",
              "      <th>23</th>\n",
              "      <td>30000</td>\n",
              "      <td>5716</td>\n",
              "      <td>лицо со шрамом</td>\n",
              "      <td>драмы, криминал</td>\n",
              "      <td>100</td>\n",
              "      <td>2021-03-29</td>\n",
              "    </tr>\n",
              "    <tr>\n",
              "      <th>13</th>\n",
              "      <td>30000</td>\n",
              "      <td>4030</td>\n",
              "      <td>человеческий голос</td>\n",
              "      <td>драмы</td>\n",
              "      <td>51</td>\n",
              "      <td>2021-04-02</td>\n",
              "    </tr>\n",
              "    <tr>\n",
              "      <th>24</th>\n",
              "      <td>30000</td>\n",
              "      <td>7713</td>\n",
              "      <td>грецкий орешек</td>\n",
              "      <td>приключения, комедии</td>\n",
              "      <td>100</td>\n",
              "      <td>2021-04-04</td>\n",
              "    </tr>\n",
              "    <tr>\n",
              "      <th>10</th>\n",
              "      <td>30000</td>\n",
              "      <td>8636</td>\n",
              "      <td>белый снег</td>\n",
              "      <td>драмы, спорт</td>\n",
              "      <td>100</td>\n",
              "      <td>2021-04-05</td>\n",
              "    </tr>\n",
              "    <tr>\n",
              "      <th>28</th>\n",
              "      <td>30000</td>\n",
              "      <td>15310</td>\n",
              "      <td>пляжный домик</td>\n",
              "      <td>триллеры</td>\n",
              "      <td>100</td>\n",
              "      <td>2021-04-06</td>\n",
              "    </tr>\n",
              "    <tr>\n",
              "      <th>30</th>\n",
              "      <td>30000</td>\n",
              "      <td>12521</td>\n",
              "      <td>я свободен</td>\n",
              "      <td>драмы</td>\n",
              "      <td>96</td>\n",
              "      <td>2021-04-10</td>\n",
              "    </tr>\n",
              "    <tr>\n",
              "      <th>33</th>\n",
              "      <td>30000</td>\n",
              "      <td>1844</td>\n",
              "      <td>аферистка</td>\n",
              "      <td>триллеры, комедии</td>\n",
              "      <td>100</td>\n",
              "      <td>2021-04-10</td>\n",
              "    </tr>\n",
              "    <tr>\n",
              "      <th>26</th>\n",
              "      <td>30000</td>\n",
              "      <td>10947</td>\n",
              "      <td>асоциальная сеть</td>\n",
              "      <td>драмы, зарубежные, триллеры, криминал</td>\n",
              "      <td>100</td>\n",
              "      <td>2021-04-13</td>\n",
              "    </tr>\n",
              "    <tr>\n",
              "      <th>31</th>\n",
              "      <td>30000</td>\n",
              "      <td>13845</td>\n",
              "      <td>лодка</td>\n",
              "      <td>драмы, артхаус</td>\n",
              "      <td>17</td>\n",
              "      <td>2021-04-15</td>\n",
              "    </tr>\n",
              "    <tr>\n",
              "      <th>37</th>\n",
              "      <td>30000</td>\n",
              "      <td>7557</td>\n",
              "      <td>в ожидании варваров</td>\n",
              "      <td>драмы</td>\n",
              "      <td>100</td>\n",
              "      <td>2021-04-23</td>\n",
              "    </tr>\n",
              "    <tr>\n",
              "      <th>22</th>\n",
              "      <td>30000</td>\n",
              "      <td>142</td>\n",
              "      <td>маша</td>\n",
              "      <td>драмы, триллеры</td>\n",
              "      <td>19</td>\n",
              "      <td>2021-04-25</td>\n",
              "    </tr>\n",
              "    <tr>\n",
              "      <th>7</th>\n",
              "      <td>30000</td>\n",
              "      <td>9863</td>\n",
              "      <td>одиссея</td>\n",
              "      <td>драмы, зарубежные, биография, приключения</td>\n",
              "      <td>27</td>\n",
              "      <td>2021-04-27</td>\n",
              "    </tr>\n",
              "    <tr>\n",
              "      <th>14</th>\n",
              "      <td>30000</td>\n",
              "      <td>14025</td>\n",
              "      <td>мы умираем молодыми</td>\n",
              "      <td>боевики, драмы, триллеры, криминал</td>\n",
              "      <td>100</td>\n",
              "      <td>2021-04-28</td>\n",
              "    </tr>\n",
              "    <tr>\n",
              "      <th>29</th>\n",
              "      <td>30000</td>\n",
              "      <td>9996</td>\n",
              "      <td>немцы</td>\n",
              "      <td>драмы</td>\n",
              "      <td>100</td>\n",
              "      <td>2021-05-05</td>\n",
              "    </tr>\n",
              "    <tr>\n",
              "      <th>19</th>\n",
              "      <td>30000</td>\n",
              "      <td>24</td>\n",
              "      <td>перебежчик</td>\n",
              "      <td>драмы, историческое, военные</td>\n",
              "      <td>100</td>\n",
              "      <td>2021-05-06</td>\n",
              "    </tr>\n",
              "    <tr>\n",
              "      <th>27</th>\n",
              "      <td>30000</td>\n",
              "      <td>14703</td>\n",
              "      <td>денежная игла</td>\n",
              "      <td>триллеры</td>\n",
              "      <td>100</td>\n",
              "      <td>2021-05-07</td>\n",
              "    </tr>\n",
              "    <tr>\n",
              "      <th>25</th>\n",
              "      <td>30000</td>\n",
              "      <td>11268</td>\n",
              "      <td>монгол</td>\n",
              "      <td>историческое, биография, приключения, драмы, в...</td>\n",
              "      <td>100</td>\n",
              "      <td>2021-05-08</td>\n",
              "    </tr>\n",
              "    <tr>\n",
              "      <th>17</th>\n",
              "      <td>30000</td>\n",
              "      <td>4151</td>\n",
              "      <td>секреты семейной жизни</td>\n",
              "      <td>комедии</td>\n",
              "      <td>13</td>\n",
              "      <td>2021-05-08</td>\n",
              "    </tr>\n",
              "    <tr>\n",
              "      <th>11</th>\n",
              "      <td>30000</td>\n",
              "      <td>6647</td>\n",
              "      <td>афера под прикрытием</td>\n",
              "      <td>драмы, триллеры</td>\n",
              "      <td>100</td>\n",
              "      <td>2021-05-08</td>\n",
              "    </tr>\n",
              "    <tr>\n",
              "      <th>3</th>\n",
              "      <td>30000</td>\n",
              "      <td>11519</td>\n",
              "      <td>язычники</td>\n",
              "      <td>драмы</td>\n",
              "      <td>100</td>\n",
              "      <td>2021-05-08</td>\n",
              "    </tr>\n",
              "    <tr>\n",
              "      <th>38</th>\n",
              "      <td>30000</td>\n",
              "      <td>991</td>\n",
              "      <td>избави нас от лукавого</td>\n",
              "      <td>боевики</td>\n",
              "      <td>100</td>\n",
              "      <td>2021-05-09</td>\n",
              "    </tr>\n",
              "    <tr>\n",
              "      <th>34</th>\n",
              "      <td>30000</td>\n",
              "      <td>10440</td>\n",
              "      <td>хрустальный</td>\n",
              "      <td>триллеры, детективы</td>\n",
              "      <td>40</td>\n",
              "      <td>2021-05-14</td>\n",
              "    </tr>\n",
              "    <tr>\n",
              "      <th>6</th>\n",
              "      <td>30000</td>\n",
              "      <td>14688</td>\n",
              "      <td>убивая еву</td>\n",
              "      <td>боевики, триллеры, приключения</td>\n",
              "      <td>100</td>\n",
              "      <td>2021-05-23</td>\n",
              "    </tr>\n",
              "    <tr>\n",
              "      <th>32</th>\n",
              "      <td>30000</td>\n",
              "      <td>7956</td>\n",
              "      <td>[4к] сокровища планеты. индонезия. по следам п...</td>\n",
              "      <td>документальное</td>\n",
              "      <td>21</td>\n",
              "      <td>2021-05-24</td>\n",
              "    </tr>\n",
              "    <tr>\n",
              "      <th>16</th>\n",
              "      <td>30000</td>\n",
              "      <td>9728</td>\n",
              "      <td>гнев человеческий</td>\n",
              "      <td>боевики, триллеры</td>\n",
              "      <td>100</td>\n",
              "      <td>2021-07-04</td>\n",
              "    </tr>\n",
              "  </tbody>\n",
              "</table>\n",
              "</div>\n",
              "      <button class=\"colab-df-convert\" onclick=\"convertToInteractive('df-adee6f51-ccf4-4d3a-aaad-3836f9605b16')\"\n",
              "              title=\"Convert this dataframe to an interactive table.\"\n",
              "              style=\"display:none;\">\n",
              "        \n",
              "  <svg xmlns=\"http://www.w3.org/2000/svg\" height=\"24px\"viewBox=\"0 0 24 24\"\n",
              "       width=\"24px\">\n",
              "    <path d=\"M0 0h24v24H0V0z\" fill=\"none\"/>\n",
              "    <path d=\"M18.56 5.44l.94 2.06.94-2.06 2.06-.94-2.06-.94-.94-2.06-.94 2.06-2.06.94zm-11 1L8.5 8.5l.94-2.06 2.06-.94-2.06-.94L8.5 2.5l-.94 2.06-2.06.94zm10 10l.94 2.06.94-2.06 2.06-.94-2.06-.94-.94-2.06-.94 2.06-2.06.94z\"/><path d=\"M17.41 7.96l-1.37-1.37c-.4-.4-.92-.59-1.43-.59-.52 0-1.04.2-1.43.59L10.3 9.45l-7.72 7.72c-.78.78-.78 2.05 0 2.83L4 21.41c.39.39.9.59 1.41.59.51 0 1.02-.2 1.41-.59l7.78-7.78 2.81-2.81c.8-.78.8-2.07 0-2.86zM5.41 20L4 18.59l7.72-7.72 1.47 1.35L5.41 20z\"/>\n",
              "  </svg>\n",
              "      </button>\n",
              "      \n",
              "  <style>\n",
              "    .colab-df-container {\n",
              "      display:flex;\n",
              "      flex-wrap:wrap;\n",
              "      gap: 12px;\n",
              "    }\n",
              "\n",
              "    .colab-df-convert {\n",
              "      background-color: #E8F0FE;\n",
              "      border: none;\n",
              "      border-radius: 50%;\n",
              "      cursor: pointer;\n",
              "      display: none;\n",
              "      fill: #1967D2;\n",
              "      height: 32px;\n",
              "      padding: 0 0 0 0;\n",
              "      width: 32px;\n",
              "    }\n",
              "\n",
              "    .colab-df-convert:hover {\n",
              "      background-color: #E2EBFA;\n",
              "      box-shadow: 0px 1px 2px rgba(60, 64, 67, 0.3), 0px 1px 3px 1px rgba(60, 64, 67, 0.15);\n",
              "      fill: #174EA6;\n",
              "    }\n",
              "\n",
              "    [theme=dark] .colab-df-convert {\n",
              "      background-color: #3B4455;\n",
              "      fill: #D2E3FC;\n",
              "    }\n",
              "\n",
              "    [theme=dark] .colab-df-convert:hover {\n",
              "      background-color: #434B5C;\n",
              "      box-shadow: 0px 1px 3px 1px rgba(0, 0, 0, 0.15);\n",
              "      filter: drop-shadow(0px 1px 2px rgba(0, 0, 0, 0.3));\n",
              "      fill: #FFFFFF;\n",
              "    }\n",
              "  </style>\n",
              "\n",
              "      <script>\n",
              "        const buttonEl =\n",
              "          document.querySelector('#df-adee6f51-ccf4-4d3a-aaad-3836f9605b16 button.colab-df-convert');\n",
              "        buttonEl.style.display =\n",
              "          google.colab.kernel.accessAllowed ? 'block' : 'none';\n",
              "\n",
              "        async function convertToInteractive(key) {\n",
              "          const element = document.querySelector('#df-adee6f51-ccf4-4d3a-aaad-3836f9605b16');\n",
              "          const dataTable =\n",
              "            await google.colab.kernel.invokeFunction('convertToInteractive',\n",
              "                                                     [key], {});\n",
              "          if (!dataTable) return;\n",
              "\n",
              "          const docLinkHtml = 'Like what you see? Visit the ' +\n",
              "            '<a target=\"_blank\" href=https://colab.research.google.com/notebooks/data_table.ipynb>data table notebook</a>'\n",
              "            + ' to learn more about interactive tables.';\n",
              "          element.innerHTML = '';\n",
              "          dataTable['output_type'] = 'display_data';\n",
              "          await google.colab.output.renderOutput(dataTable, element);\n",
              "          const docLink = document.createElement('div');\n",
              "          docLink.innerHTML = docLinkHtml;\n",
              "          element.appendChild(docLink);\n",
              "        }\n",
              "      </script>\n",
              "    </div>\n",
              "  </div>\n",
              "  "
            ]
          },
          "metadata": {},
          "execution_count": 364
        }
      ]
    },
    {
      "cell_type": "code",
      "source": [
        "users_df[users_df.user_id == uid_to_user_id[test_uid]]"
      ],
      "metadata": {
        "colab": {
          "base_uri": "https://localhost:8080/",
          "height": 80
        },
        "id": "CfdHEDE2thxN",
        "outputId": "357db17f-6463-4ac1-8c4b-c6fe2a5ffcd5"
      },
      "execution_count": null,
      "outputs": [
        {
          "output_type": "execute_result",
          "data": {
            "text/plain": [
              "        user_id        age        income sex  kids_flg\n",
              "311830   318796  age_18_24  income_20_40   M     False"
            ],
            "text/html": [
              "\n",
              "  <div id=\"df-40d2f32e-89de-472a-a026-8c51d1fca091\">\n",
              "    <div class=\"colab-df-container\">\n",
              "      <div>\n",
              "<style scoped>\n",
              "    .dataframe tbody tr th:only-of-type {\n",
              "        vertical-align: middle;\n",
              "    }\n",
              "\n",
              "    .dataframe tbody tr th {\n",
              "        vertical-align: top;\n",
              "    }\n",
              "\n",
              "    .dataframe thead th {\n",
              "        text-align: right;\n",
              "    }\n",
              "</style>\n",
              "<table border=\"1\" class=\"dataframe\">\n",
              "  <thead>\n",
              "    <tr style=\"text-align: right;\">\n",
              "      <th></th>\n",
              "      <th>user_id</th>\n",
              "      <th>age</th>\n",
              "      <th>income</th>\n",
              "      <th>sex</th>\n",
              "      <th>kids_flg</th>\n",
              "    </tr>\n",
              "  </thead>\n",
              "  <tbody>\n",
              "    <tr>\n",
              "      <th>311830</th>\n",
              "      <td>318796</td>\n",
              "      <td>age_18_24</td>\n",
              "      <td>income_20_40</td>\n",
              "      <td>M</td>\n",
              "      <td>False</td>\n",
              "    </tr>\n",
              "  </tbody>\n",
              "</table>\n",
              "</div>\n",
              "      <button class=\"colab-df-convert\" onclick=\"convertToInteractive('df-40d2f32e-89de-472a-a026-8c51d1fca091')\"\n",
              "              title=\"Convert this dataframe to an interactive table.\"\n",
              "              style=\"display:none;\">\n",
              "        \n",
              "  <svg xmlns=\"http://www.w3.org/2000/svg\" height=\"24px\"viewBox=\"0 0 24 24\"\n",
              "       width=\"24px\">\n",
              "    <path d=\"M0 0h24v24H0V0z\" fill=\"none\"/>\n",
              "    <path d=\"M18.56 5.44l.94 2.06.94-2.06 2.06-.94-2.06-.94-.94-2.06-.94 2.06-2.06.94zm-11 1L8.5 8.5l.94-2.06 2.06-.94-2.06-.94L8.5 2.5l-.94 2.06-2.06.94zm10 10l.94 2.06.94-2.06 2.06-.94-2.06-.94-.94-2.06-.94 2.06-2.06.94z\"/><path d=\"M17.41 7.96l-1.37-1.37c-.4-.4-.92-.59-1.43-.59-.52 0-1.04.2-1.43.59L10.3 9.45l-7.72 7.72c-.78.78-.78 2.05 0 2.83L4 21.41c.39.39.9.59 1.41.59.51 0 1.02-.2 1.41-.59l7.78-7.78 2.81-2.81c.8-.78.8-2.07 0-2.86zM5.41 20L4 18.59l7.72-7.72 1.47 1.35L5.41 20z\"/>\n",
              "  </svg>\n",
              "      </button>\n",
              "      \n",
              "  <style>\n",
              "    .colab-df-container {\n",
              "      display:flex;\n",
              "      flex-wrap:wrap;\n",
              "      gap: 12px;\n",
              "    }\n",
              "\n",
              "    .colab-df-convert {\n",
              "      background-color: #E8F0FE;\n",
              "      border: none;\n",
              "      border-radius: 50%;\n",
              "      cursor: pointer;\n",
              "      display: none;\n",
              "      fill: #1967D2;\n",
              "      height: 32px;\n",
              "      padding: 0 0 0 0;\n",
              "      width: 32px;\n",
              "    }\n",
              "\n",
              "    .colab-df-convert:hover {\n",
              "      background-color: #E2EBFA;\n",
              "      box-shadow: 0px 1px 2px rgba(60, 64, 67, 0.3), 0px 1px 3px 1px rgba(60, 64, 67, 0.15);\n",
              "      fill: #174EA6;\n",
              "    }\n",
              "\n",
              "    [theme=dark] .colab-df-convert {\n",
              "      background-color: #3B4455;\n",
              "      fill: #D2E3FC;\n",
              "    }\n",
              "\n",
              "    [theme=dark] .colab-df-convert:hover {\n",
              "      background-color: #434B5C;\n",
              "      box-shadow: 0px 1px 3px 1px rgba(0, 0, 0, 0.15);\n",
              "      filter: drop-shadow(0px 1px 2px rgba(0, 0, 0, 0.3));\n",
              "      fill: #FFFFFF;\n",
              "    }\n",
              "  </style>\n",
              "\n",
              "      <script>\n",
              "        const buttonEl =\n",
              "          document.querySelector('#df-40d2f32e-89de-472a-a026-8c51d1fca091 button.colab-df-convert');\n",
              "        buttonEl.style.display =\n",
              "          google.colab.kernel.accessAllowed ? 'block' : 'none';\n",
              "\n",
              "        async function convertToInteractive(key) {\n",
              "          const element = document.querySelector('#df-40d2f32e-89de-472a-a026-8c51d1fca091');\n",
              "          const dataTable =\n",
              "            await google.colab.kernel.invokeFunction('convertToInteractive',\n",
              "                                                     [key], {});\n",
              "          if (!dataTable) return;\n",
              "\n",
              "          const docLinkHtml = 'Like what you see? Visit the ' +\n",
              "            '<a target=\"_blank\" href=https://colab.research.google.com/notebooks/data_table.ipynb>data table notebook</a>'\n",
              "            + ' to learn more about interactive tables.';\n",
              "          element.innerHTML = '';\n",
              "          dataTable['output_type'] = 'display_data';\n",
              "          await google.colab.output.renderOutput(dataTable, element);\n",
              "          const docLink = document.createElement('div');\n",
              "          docLink.innerHTML = docLinkHtml;\n",
              "          element.appendChild(docLink);\n",
              "        }\n",
              "      </script>\n",
              "    </div>\n",
              "  </div>\n",
              "  "
            ]
          },
          "metadata": {},
          "execution_count": 365
        }
      ]
    },
    {
      "cell_type": "markdown",
      "source": [
        "## Код модели в сервисе"
      ],
      "metadata": {
        "id": "2aPNa7cVSR9w"
      }
    },
    {
      "cell_type": "code",
      "source": [
        "import pickle\n",
        "\n",
        "\n",
        "class DSSMRecommender():\n",
        "    def __init__(\n",
        "        self, \n",
        "        index_path: str,\n",
        "        user_vectors_path: str,\n",
        "        user_id_to_uid_path: str,\n",
        "        iid_to_item_id_path : str,\n",
        "        uid_to_watched_iids_path: str, \n",
        "        dim: int = 128,\n",
        "        efS : int = 50,\n",
        "    ):\n",
        "        self.index = hnswlib.Index(\"cosine\", dim)\n",
        "        self.index.load_index(index_path)\n",
        "        self.index.set_ef(efS)\n",
        "\n",
        "        with open(user_vectors_path, \"rb\") as f:\n",
        "            self.dssm_user_vectors = pickle.load(f)\n",
        "            \n",
        "        with open(user_id_to_uid_path, \"r\") as f:\n",
        "            self.user_id_to_uid = json.load(f)\n",
        "        with open(iid_to_item_id_path, \"r\") as f:\n",
        "            self.iid_to_item_id = json.load(f)\n",
        "\n",
        "        with open(uid_to_watched_iids_path, \"r\") as f:\n",
        "            self.uid_to_watched_iids = json.load(f)\n",
        "\n",
        "    def predict(self, user_id: int, k_recs: int = 10):\n",
        "        if str(user_id) not in self.user_id_to_uid:\n",
        "            return None\n",
        "        \n",
        "        uid = self.user_id_to_uid[str(user_id)]\n",
        "\n",
        "        watched = self.uid_to_watched_iids[str(uid)]\n",
        "        \n",
        "        pred_iids, _ = self.index.knn_query(self.dssm_user_vectors[uid], \n",
        "                                       k = k_recs + len(watched))\n",
        "        answer_iids = []\n",
        "        for iid in pred_iids[0]:\n",
        "            if iid not in watched:\n",
        "                answer_iids.append(iid)\n",
        "            if len(answer_iids) == k_recs:\n",
        "                break\n",
        "        \n",
        "        return [self.iid_to_item_id[str(iid)] for iid in answer_iids]"
      ],
      "metadata": {
        "id": "P3TCtbKnzEZB"
      },
      "execution_count": 113,
      "outputs": []
    },
    {
      "cell_type": "code",
      "source": [
        "dssm_recommender = DSSMRecommender(\n",
        "    index_path = \"/content/drive/MyDrive/RecSys MTC/NNs/DSSM/index.hnsw\",\n",
        "    user_vectors_path = \"/content/drive/MyDrive/RecSys MTC/NNs/DSSM/dssm_user_vectors.pickle\",\n",
        "    user_id_to_uid_path = \"/content/drive/MyDrive/RecSys MTC/NNs/DSSM/user_id_to_uid.json\",\n",
        "    iid_to_item_id_path = \"/content/drive/MyDrive/RecSys MTC/NNs/DSSM/iid_to_item_id.json\",\n",
        "    uid_to_watched_iids_path = \"/content/drive/MyDrive/RecSys MTC/NNs/DSSM/uid_to_watched_iids.json\", \n",
        "    dim = 128,\n",
        "    efS = 50,\n",
        ")"
      ],
      "metadata": {
        "id": "Q8l4iEN0SXaM"
      },
      "execution_count": 114,
      "outputs": []
    },
    {
      "cell_type": "code",
      "source": [
        "dssm_recommender.predict(318796)"
      ],
      "metadata": {
        "colab": {
          "base_uri": "https://localhost:8080/"
        },
        "id": "VQ2otWzsTv7l",
        "outputId": "433ec679-0606-437d-eb05-d74d07eeb38c"
      },
      "execution_count": 115,
      "outputs": [
        {
          "output_type": "execute_result",
          "data": {
            "text/plain": [
              "[1852, 7117, 4162, 1423, 13199, 4766, 11754, 3441, 14000, 1336]"
            ]
          },
          "metadata": {},
          "execution_count": 115
        }
      ]
    },
    {
      "cell_type": "code",
      "source": [
        "list(dssm_recommender.user_id_to_uid.keys())[:10]"
      ],
      "metadata": {
        "colab": {
          "base_uri": "https://localhost:8080/"
        },
        "id": "hj9yBv1GUgZb",
        "outputId": "e8f467f2-6ee9-42c9-ac0b-31bff8947468"
      },
      "execution_count": 119,
      "outputs": [
        {
          "output_type": "execute_result",
          "data": {
            "text/plain": [
              "['176549',\n",
              " '699317',\n",
              " '1016458',\n",
              " '884009',\n",
              " '988709',\n",
              " '5324',\n",
              " '15607',\n",
              " '927973',\n",
              " '215229',\n",
              " '896751']"
            ]
          },
          "metadata": {},
          "execution_count": 119
        }
      ]
    },
    {
      "cell_type": "markdown",
      "source": [
        "Заметки после:\n",
        "\n",
        "1. Поменяв функцию активации с ReLu на Tanh удалось улучшить эмбединги на выходе, но всё равно качество рекомендаций оставляет желать лучшего... например, сейчас почти каждому пользователю рекомендуется \"ералаш выпуск №21\"\n",
        "\n",
        "2. Возможно для признаков айтема стоило преобразовать в вектор не текст описания фильма, а ключевые слова в столбце 'keywords'\n",
        "\n",
        "3. Сейчас модель принимает прошлые просмотренные айтемы в виде больших векторов фичей айтемов. Возможно было бы лучше, если бы подавалась лишь последовательность из чисел item_id и эти же числа добавились бы в качестве еще одной фичи для признаков айтема \n",
        "\n",
        "4. Валидационные метрики не описывали улучшение модели на протяжении 100 эпох обучения.\n",
        "\n",
        "5. Негативное семплирование - рандомное по всем айтемам. Положительное семплирование - тоже рандомное, но только среди просмотренных айтемов.\n",
        "\n",
        "6. map@10=0.09347384, что не пробило скор модели baseline популярного по соц-дему (0.10116589)"
      ],
      "metadata": {
        "id": "6QBaglBz7MlD"
      }
    }
  ]
}